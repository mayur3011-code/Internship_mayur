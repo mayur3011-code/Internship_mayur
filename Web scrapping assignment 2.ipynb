{
 "cells": [
  {
   "cell_type": "markdown",
   "metadata": {},
   "source": [
    "## Web Scrapping Assignment 2"
   ]
  },
  {
   "cell_type": "markdown",
   "metadata": {},
   "source": [
    "### Q1: Write a python program to scrape data for “Data Analyst” Job position in “Bangalore” location."
   ]
  },
  {
   "cell_type": "raw",
   "metadata": {},
   "source": [
    " You \n",
    "have to scrape the job-title, job-location, company_name, experience_required. You have to scrape first 10 \n",
    "jobs data. \n",
    "This task will be done in following steps: \n",
    "1. First get the webpage https://www.naukri.com/ 2. Enter “Data Analyst” in “Skill, Designations, Companies” field and enter “Bangalore” in “enter the \n",
    "location” field. \n",
    "3. Then click the search button. \n",
    "4. Then scrape the data for the first 10 jobs results you get. \n",
    "5. Finally create a dataframe of the scraped data. \n",
    "Note: All of the above steps have to be done in code. No step is to be done manually."
   ]
  },
  {
   "cell_type": "code",
   "execution_count": 1,
   "metadata": {
    "collapsed": true
   },
   "outputs": [
    {
     "name": "stdout",
     "output_type": "stream",
     "text": [
      "Collecting selenium\n",
      "  Downloading selenium-4.1.0-py3-none-any.whl (958 kB)\n",
      "Collecting trio-websocket~=0.9\n",
      "  Downloading trio_websocket-0.9.2-py3-none-any.whl (16 kB)\n",
      "Collecting trio~=0.17\n",
      "  Downloading trio-0.19.0-py3-none-any.whl (356 kB)\n",
      "Collecting urllib3[secure]~=1.26\n",
      "  Downloading urllib3-1.26.7-py2.py3-none-any.whl (138 kB)\n",
      "Collecting wsproto>=0.14\n",
      "  Downloading wsproto-1.0.0-py3-none-any.whl (24 kB)\n",
      "Requirement already satisfied: async-generator>=1.10 in c:\\users\\quccs\\anaconda3\\lib\\site-packages (from trio-websocket~=0.9->selenium) (1.10)\n",
      "Collecting sniffio\n",
      "  Downloading sniffio-1.2.0-py3-none-any.whl (10 kB)\n",
      "Requirement already satisfied: idna in c:\\users\\quccs\\anaconda3\\lib\\site-packages (from trio~=0.17->selenium) (2.10)\n",
      "Requirement already satisfied: sortedcontainers in c:\\users\\quccs\\anaconda3\\lib\\site-packages (from trio~=0.17->selenium) (2.2.2)\n",
      "Requirement already satisfied: cffi>=1.14; os_name == \"nt\" and implementation_name != \"pypy\" in c:\\users\\quccs\\anaconda3\\lib\\site-packages (from trio~=0.17->selenium) (1.14.3)\n",
      "Requirement already satisfied: attrs>=19.2.0 in c:\\users\\quccs\\anaconda3\\lib\\site-packages (from trio~=0.17->selenium) (20.3.0)\n",
      "Collecting outcome\n",
      "  Downloading outcome-1.1.0-py2.py3-none-any.whl (9.7 kB)\n",
      "Requirement already satisfied: certifi; extra == \"secure\" in c:\\users\\quccs\\anaconda3\\lib\\site-packages (from urllib3[secure]~=1.26->selenium) (2020.6.20)\n",
      "Requirement already satisfied: cryptography>=1.3.4; extra == \"secure\" in c:\\users\\quccs\\anaconda3\\lib\\site-packages (from urllib3[secure]~=1.26->selenium) (3.1.1)\n",
      "Requirement already satisfied: pyOpenSSL>=0.14; extra == \"secure\" in c:\\users\\quccs\\anaconda3\\lib\\site-packages (from urllib3[secure]~=1.26->selenium) (19.1.0)\n",
      "Collecting h11<1,>=0.9.0\n",
      "  Downloading h11-0.12.0-py3-none-any.whl (54 kB)\n",
      "Requirement already satisfied: pycparser in c:\\users\\quccs\\anaconda3\\lib\\site-packages (from cffi>=1.14; os_name == \"nt\" and implementation_name != \"pypy\"->trio~=0.17->selenium) (2.20)\n",
      "Requirement already satisfied: six>=1.4.1 in c:\\users\\quccs\\anaconda3\\lib\\site-packages (from cryptography>=1.3.4; extra == \"secure\"->urllib3[secure]~=1.26->selenium) (1.15.0)\n",
      "Installing collected packages: sniffio, outcome, trio, h11, wsproto, trio-websocket, urllib3, selenium\n",
      "  Attempting uninstall: urllib3\n",
      "    Found existing installation: urllib3 1.25.11\n",
      "    Uninstalling urllib3-1.25.11:\n",
      "      Successfully uninstalled urllib3-1.25.11\n",
      "Successfully installed h11-0.12.0 outcome-1.1.0 selenium-4.1.0 sniffio-1.2.0 trio-0.19.0 trio-websocket-0.9.2 urllib3-1.26.7 wsproto-1.0.0\n"
     ]
    },
    {
     "name": "stderr",
     "output_type": "stream",
     "text": [
      "ERROR: After October 2020 you may experience errors when installing or updating packages. This is because pip will change the way that it resolves dependency conflicts.\n",
      "\n",
      "We recommend you use --use-feature=2020-resolver to test your packages with the new resolver before it becomes the default.\n",
      "\n",
      "requests 2.24.0 requires urllib3!=1.25.0,!=1.25.1,<1.26,>=1.21.1, but you'll have urllib3 1.26.7 which is incompatible.\n"
     ]
    }
   ],
   "source": [
    "# Installing the selenium library\n",
    "\n",
    "!pip install selenium"
   ]
  },
  {
   "cell_type": "code",
   "execution_count": 2,
   "metadata": {},
   "outputs": [],
   "source": [
    "# Importing all the required libraries\n",
    "\n",
    "import selenium\n",
    "from selenium import webdriver\n",
    "import pandas as pd"
   ]
  },
  {
   "cell_type": "code",
   "execution_count": 3,
   "metadata": {
    "collapsed": true
   },
   "outputs": [
    {
     "name": "stderr",
     "output_type": "stream",
     "text": [
      "<ipython-input-3-5ca97ca830f6>:2: DeprecationWarning: executable_path has been deprecated, please pass in a Service object\n",
      "  driver=webdriver.Chrome(r'C:/Users/quccs/Downloads/chromedriver_win32/chromedriver.exe')\n"
     ]
    }
   ],
   "source": [
    "# Lets connect to the webdriver\n",
    "driver=webdriver.Chrome(r'C:/Users/quccs/Downloads/chromedriver_win32/chromedriver.exe')\n",
    "#96.0.4664.110 "
   ]
  },
  {
   "cell_type": "code",
   "execution_count": 13,
   "metadata": {},
   "outputs": [],
   "source": [
    "driver.get('https://www.naukri.com/')"
   ]
  },
  {
   "cell_type": "code",
   "execution_count": 14,
   "metadata": {
    "collapsed": true
   },
   "outputs": [
    {
     "name": "stderr",
     "output_type": "stream",
     "text": [
      "<ipython-input-14-43e0b5ad852c>:3: DeprecationWarning: find_element_by_* commands are deprecated. Please use find_element() instead\n",
      "  search_job = driver.find_element_by_id('qsb-keyword-sugg')\n",
      "<ipython-input-14-43e0b5ad852c>:5: DeprecationWarning: find_element_by_* commands are deprecated. Please use find_element() instead\n",
      "  search_loc=driver.find_element_by_xpath('//input[@id=\"qsb-location-sugg\"]')\n"
     ]
    }
   ],
   "source": [
    "# Finding a job element by job search bar\n",
    "\n",
    "search_job = driver.find_element_by_id('qsb-keyword-sugg')\n",
    "search_job.send_keys('Data Analyst')\n",
    "search_loc=driver.find_element_by_xpath('//input[@id=\"qsb-location-sugg\"]')\n",
    "search_loc.send_keys('Bangalore')\n"
   ]
  },
  {
   "cell_type": "code",
   "execution_count": 15,
   "metadata": {
    "collapsed": true
   },
   "outputs": [
    {
     "name": "stderr",
     "output_type": "stream",
     "text": [
      "<ipython-input-15-3021d92b2f4c>:1: DeprecationWarning: find_element_by_* commands are deprecated. Please use find_element() instead\n",
      "  search_btn=driver.find_element_by_xpath('//div[@class=\"search-btn\"]')\n"
     ]
    }
   ],
   "source": [
    "search_btn=driver.find_element_by_xpath('//div[@class=\"search-btn\"]')\n",
    "search_btn.click()"
   ]
  },
  {
   "cell_type": "code",
   "execution_count": 16,
   "metadata": {},
   "outputs": [],
   "source": [
    "# specifying the url of the web page to be scraped\n",
    "url=\"https://www.naukri.com/data-analyst-jobs-in-bangalore?k=data%20analyst&l=bangalore\""
   ]
  },
  {
   "cell_type": "code",
   "execution_count": 17,
   "metadata": {},
   "outputs": [],
   "source": [
    "# Lets open the web page through the web driver\n",
    "driver.get(url)"
   ]
  },
  {
   "cell_type": "code",
   "execution_count": 32,
   "metadata": {},
   "outputs": [],
   "source": [
    "# Creating the empty list for storing the data\n",
    "job_titles=[]\n",
    "job_location =[]\n",
    "company_name=[]\n",
    "experience_required=[]\n",
    "\n",
    "\n",
    "#job-title, job-location, company_name, experience_required"
   ]
  },
  {
   "cell_type": "code",
   "execution_count": 33,
   "metadata": {
    "collapsed": true
   },
   "outputs": [
    {
     "name": "stderr",
     "output_type": "stream",
     "text": [
      "<ipython-input-33-8e5ee5b40bae>:2: DeprecationWarning: find_elements_by_* commands are deprecated. Please use find_elements() instead\n",
      "  titles_tags=driver.find_elements_by_xpath('//a[@class=\"title fw500 ellipsis\"]')\n"
     ]
    },
    {
     "data": {
      "text/plain": [
       "[<selenium.webdriver.remote.webelement.WebElement (session=\"4c9d20d92ba054c75a543c457a611da4\", element=\"a16943ac-0d12-4252-a583-b279909a4de5\")>,\n",
       " <selenium.webdriver.remote.webelement.WebElement (session=\"4c9d20d92ba054c75a543c457a611da4\", element=\"0a961fcb-9f69-4fad-b08e-4ee7f884c81b\")>,\n",
       " <selenium.webdriver.remote.webelement.WebElement (session=\"4c9d20d92ba054c75a543c457a611da4\", element=\"eeafac41-bb61-4dac-8533-bd9cdbd96fa9\")>,\n",
       " <selenium.webdriver.remote.webelement.WebElement (session=\"4c9d20d92ba054c75a543c457a611da4\", element=\"e192b299-9e7e-4577-ae76-5f02f0e3a2e1\")>,\n",
       " <selenium.webdriver.remote.webelement.WebElement (session=\"4c9d20d92ba054c75a543c457a611da4\", element=\"b8d8dbb9-ccc1-4ac6-8123-44666f1a1429\")>,\n",
       " <selenium.webdriver.remote.webelement.WebElement (session=\"4c9d20d92ba054c75a543c457a611da4\", element=\"7886c287-4d33-4cef-83ce-a2d1ca89ee8d\")>,\n",
       " <selenium.webdriver.remote.webelement.WebElement (session=\"4c9d20d92ba054c75a543c457a611da4\", element=\"f0658845-9118-4d06-8670-7c073cf0e7b0\")>,\n",
       " <selenium.webdriver.remote.webelement.WebElement (session=\"4c9d20d92ba054c75a543c457a611da4\", element=\"0b69369a-def1-4a74-b922-0cb4c71c2d1e\")>,\n",
       " <selenium.webdriver.remote.webelement.WebElement (session=\"4c9d20d92ba054c75a543c457a611da4\", element=\"42a66f8d-6469-47b4-a172-69eb35fb9323\")>,\n",
       " <selenium.webdriver.remote.webelement.WebElement (session=\"4c9d20d92ba054c75a543c457a611da4\", element=\"f9368519-28a2-4db5-8d7d-5cd8b2d370c6\")>]"
      ]
     },
     "execution_count": 33,
     "metadata": {},
     "output_type": "execute_result"
    }
   ],
   "source": [
    "# Lets extract the tags having the job titles\n",
    "titles_tags=driver.find_elements_by_xpath('//a[@class=\"title fw500 ellipsis\"]')\n",
    "titles_tags[0:10]"
   ]
  },
  {
   "cell_type": "code",
   "execution_count": 35,
   "metadata": {},
   "outputs": [
    {
     "data": {
      "text/plain": [
       "['Hiring -Data Analyst, Business Analyst, MIS Analyst -3rd Party Payroll',\n",
       " 'Senior Data Analyst III',\n",
       " 'Business Analyst/ Data Analyst- Capital Market & SQL (Mandatory)',\n",
       " 'Customer Data Management Analyst',\n",
       " 'Data Analyst',\n",
       " 'Assistant/deputy Manager - Geo-spatial Data Analyst',\n",
       " 'Senior Data Analyst',\n",
       " 'Senior Data Analyst',\n",
       " 'Senior Data Analyst',\n",
       " 'Openings For SQL Data Analyst']"
      ]
     },
     "execution_count": 35,
     "metadata": {},
     "output_type": "execute_result"
    }
   ],
   "source": [
    "for i in titles_tags:\n",
    "    title=i.text\n",
    "    job_titles.append(title)\n",
    "job_titles[:10]\n",
    "    "
   ]
  },
  {
   "cell_type": "code",
   "execution_count": 41,
   "metadata": {
    "collapsed": true
   },
   "outputs": [
    {
     "name": "stderr",
     "output_type": "stream",
     "text": [
      "<ipython-input-41-7bc81827276b>:3: DeprecationWarning: find_elements_by_* commands are deprecated. Please use find_elements() instead\n",
      "  location_tags = driver.find_elements_by_xpath('//li[@class=\"fleft grey-text br2 placeHolderLi location\"]')\n"
     ]
    },
    {
     "data": {
      "text/plain": [
       "[<selenium.webdriver.remote.webelement.WebElement (session=\"4c9d20d92ba054c75a543c457a611da4\", element=\"bca508d7-b3ed-4a2f-ae50-a0c89cefb740\")>,\n",
       " <selenium.webdriver.remote.webelement.WebElement (session=\"4c9d20d92ba054c75a543c457a611da4\", element=\"7332b5b6-ff14-4960-b16d-986d83a3c45f\")>,\n",
       " <selenium.webdriver.remote.webelement.WebElement (session=\"4c9d20d92ba054c75a543c457a611da4\", element=\"c6430f67-a36b-4243-abcb-7d269af5205d\")>,\n",
       " <selenium.webdriver.remote.webelement.WebElement (session=\"4c9d20d92ba054c75a543c457a611da4\", element=\"5e7faa63-bef0-4c65-9da6-dd94711a0005\")>,\n",
       " <selenium.webdriver.remote.webelement.WebElement (session=\"4c9d20d92ba054c75a543c457a611da4\", element=\"65d61026-b485-44e3-aede-1b35cb8a79f3\")>,\n",
       " <selenium.webdriver.remote.webelement.WebElement (session=\"4c9d20d92ba054c75a543c457a611da4\", element=\"79be1d18-df86-44cb-8d37-a3001d14685a\")>,\n",
       " <selenium.webdriver.remote.webelement.WebElement (session=\"4c9d20d92ba054c75a543c457a611da4\", element=\"f17d500e-aadb-48de-8158-132f86d9a28c\")>,\n",
       " <selenium.webdriver.remote.webelement.WebElement (session=\"4c9d20d92ba054c75a543c457a611da4\", element=\"0742f1fd-c2bd-4f9e-8c41-874512200ab6\")>,\n",
       " <selenium.webdriver.remote.webelement.WebElement (session=\"4c9d20d92ba054c75a543c457a611da4\", element=\"4f240a33-019b-491d-aa58-c65faef517cb\")>,\n",
       " <selenium.webdriver.remote.webelement.WebElement (session=\"4c9d20d92ba054c75a543c457a611da4\", element=\"345b8cfc-97ba-42a9-8d1f-64f9fb38bd5e\")>]"
      ]
     },
     "execution_count": 41,
     "metadata": {},
     "output_type": "execute_result"
    }
   ],
   "source": [
    "# Extracting the company location\n",
    "\n",
    "location_tags = driver.find_elements_by_xpath('//li[@class=\"fleft grey-text br2 placeHolderLi location\"]')\n",
    "location_tags[0:10]"
   ]
  },
  {
   "cell_type": "code",
   "execution_count": 42,
   "metadata": {},
   "outputs": [
    {
     "data": {
      "text/plain": [
       "['Bangalore/Bengaluru',\n",
       " 'Bengaluru/Bangalore',\n",
       " 'Pune, Bangalore/Bengaluru',\n",
       " 'Bangalore/Bengaluru',\n",
       " 'Bangalore/Bengaluru',\n",
       " 'Gurgaon/Gurugram, bangalore',\n",
       " 'Bangalore/Bengaluru',\n",
       " 'Kolkata, Hyderabad/Secunderabad, Pune, Ahmedabad, Chennai, Bangalore/Bengaluru, Delhi / NCR, Mumbai (All Areas)\\n(WFH during Covid)',\n",
       " 'Bengaluru/Bangalore',\n",
       " 'Hyderabad/Secunderabad, Bangalore/Bengaluru\\n(WFH during Covid)']"
      ]
     },
     "execution_count": 42,
     "metadata": {},
     "output_type": "execute_result"
    }
   ],
   "source": [
    "for i in location_tags:\n",
    "    title=i.text\n",
    "    job_location.append(title)\n",
    "job_location[:10]\n",
    "    "
   ]
  },
  {
   "cell_type": "code",
   "execution_count": 44,
   "metadata": {
    "collapsed": true
   },
   "outputs": [
    {
     "name": "stderr",
     "output_type": "stream",
     "text": [
      "<ipython-input-44-ebae18ce9900>:2: DeprecationWarning: find_elements_by_* commands are deprecated. Please use find_elements() instead\n",
      "  company_tags = driver.find_elements_by_xpath('//a[@class=\"subTitle ellipsis fleft\"]')\n"
     ]
    },
    {
     "data": {
      "text/plain": [
       "[<selenium.webdriver.remote.webelement.WebElement (session=\"4c9d20d92ba054c75a543c457a611da4\", element=\"98f3b862-0c4d-4619-8c04-cbf10b5b5c31\")>,\n",
       " <selenium.webdriver.remote.webelement.WebElement (session=\"4c9d20d92ba054c75a543c457a611da4\", element=\"16feda34-8c59-4445-9a07-f8a333deb0a2\")>,\n",
       " <selenium.webdriver.remote.webelement.WebElement (session=\"4c9d20d92ba054c75a543c457a611da4\", element=\"34382e41-1b3b-4cdc-a10d-f62bcf255800\")>,\n",
       " <selenium.webdriver.remote.webelement.WebElement (session=\"4c9d20d92ba054c75a543c457a611da4\", element=\"c446108c-5c6c-4b90-9c15-b080af97ea07\")>,\n",
       " <selenium.webdriver.remote.webelement.WebElement (session=\"4c9d20d92ba054c75a543c457a611da4\", element=\"5b48842a-4091-4e84-afd4-58492bcb4ecd\")>,\n",
       " <selenium.webdriver.remote.webelement.WebElement (session=\"4c9d20d92ba054c75a543c457a611da4\", element=\"1a72e676-ccc1-4283-b0f4-80174e667ecd\")>,\n",
       " <selenium.webdriver.remote.webelement.WebElement (session=\"4c9d20d92ba054c75a543c457a611da4\", element=\"965368b5-b2c4-4532-8da4-156a738093b9\")>,\n",
       " <selenium.webdriver.remote.webelement.WebElement (session=\"4c9d20d92ba054c75a543c457a611da4\", element=\"9f5e9188-54fa-4af3-abeb-0ba85e037ba2\")>,\n",
       " <selenium.webdriver.remote.webelement.WebElement (session=\"4c9d20d92ba054c75a543c457a611da4\", element=\"d016d477-37c6-4b5c-a45b-f35145a087a0\")>,\n",
       " <selenium.webdriver.remote.webelement.WebElement (session=\"4c9d20d92ba054c75a543c457a611da4\", element=\"a2a97b9b-1741-421e-b878-a59d2273f7d6\")>]"
      ]
     },
     "execution_count": 44,
     "metadata": {},
     "output_type": "execute_result"
    }
   ],
   "source": [
    "# Extracting the company name\n",
    "company_tags = driver.find_elements_by_xpath('//a[@class=\"subTitle ellipsis fleft\"]')\n",
    "company_tags[0:10]"
   ]
  },
  {
   "cell_type": "code",
   "execution_count": 45,
   "metadata": {},
   "outputs": [
    {
     "data": {
      "text/plain": [
       "['Flipkart',\n",
       " 'Flipkart',\n",
       " 'Genpact',\n",
       " 'Aspect',\n",
       " 'GlaxoSmithKline Pharmaceuticals Limited',\n",
       " 'Maruti Suzuki India',\n",
       " 'Rapido',\n",
       " 'SYREN TECHNOLOGIES PRIVATE LIMITED',\n",
       " 'Flipkart',\n",
       " 'StackNexus Technologies India Pvt. Ltd']"
      ]
     },
     "execution_count": 45,
     "metadata": {},
     "output_type": "execute_result"
    }
   ],
   "source": [
    "for i in company_tags:\n",
    "    title=i.text\n",
    "    company_name.append(title)\n",
    "company_name[:10]"
   ]
  },
  {
   "cell_type": "code",
   "execution_count": 55,
   "metadata": {
    "collapsed": true
   },
   "outputs": [
    {
     "name": "stderr",
     "output_type": "stream",
     "text": [
      "<ipython-input-55-26fe42a64367>:2: DeprecationWarning: find_elements_by_* commands are deprecated. Please use find_elements() instead\n",
      "  exp_tags=driver.find_elements_by_xpath('//li[@class=\"fleft grey-text br2 placeHolderLi experience\"]/span[1]')\n"
     ]
    },
    {
     "data": {
      "text/plain": [
       "[<selenium.webdriver.remote.webelement.WebElement (session=\"4c9d20d92ba054c75a543c457a611da4\", element=\"d9a7c4ce-bc4e-4db3-957e-6f3cce672d56\")>,\n",
       " <selenium.webdriver.remote.webelement.WebElement (session=\"4c9d20d92ba054c75a543c457a611da4\", element=\"01774b0a-3f35-4594-af4f-99540b61b92f\")>,\n",
       " <selenium.webdriver.remote.webelement.WebElement (session=\"4c9d20d92ba054c75a543c457a611da4\", element=\"c10072ca-7edd-4017-a2ec-dbbe2fc4e185\")>,\n",
       " <selenium.webdriver.remote.webelement.WebElement (session=\"4c9d20d92ba054c75a543c457a611da4\", element=\"9805b68b-f7fa-45c8-ae5c-14cbe021e4d5\")>,\n",
       " <selenium.webdriver.remote.webelement.WebElement (session=\"4c9d20d92ba054c75a543c457a611da4\", element=\"9aaaeb69-788d-489f-adb1-8843c1f4d1ba\")>,\n",
       " <selenium.webdriver.remote.webelement.WebElement (session=\"4c9d20d92ba054c75a543c457a611da4\", element=\"d9583d0d-8d16-4196-9e72-400ad58dce63\")>,\n",
       " <selenium.webdriver.remote.webelement.WebElement (session=\"4c9d20d92ba054c75a543c457a611da4\", element=\"258487cb-925a-45f1-b1c7-ecbd3fc71655\")>,\n",
       " <selenium.webdriver.remote.webelement.WebElement (session=\"4c9d20d92ba054c75a543c457a611da4\", element=\"cbee1f9d-0f94-47e1-9405-d85aa760b25f\")>,\n",
       " <selenium.webdriver.remote.webelement.WebElement (session=\"4c9d20d92ba054c75a543c457a611da4\", element=\"de724e1f-7386-4180-a25e-5952afe3a336\")>,\n",
       " <selenium.webdriver.remote.webelement.WebElement (session=\"4c9d20d92ba054c75a543c457a611da4\", element=\"08c1c76c-6c73-4f27-bee1-ed296bd4c3ac\")>]"
      ]
     },
     "execution_count": 55,
     "metadata": {},
     "output_type": "execute_result"
    }
   ],
   "source": [
    "# Lets extract the tags having the experience required details\n",
    "exp_tags=driver.find_elements_by_xpath('//li[@class=\"fleft grey-text br2 placeHolderLi experience\"]/span[1]')\n",
    "exp_tags[0:10]"
   ]
  },
  {
   "cell_type": "code",
   "execution_count": 56,
   "metadata": {},
   "outputs": [
    {
     "data": {
      "text/plain": [
       "['1-6 Yrs',\n",
       " '2-4 Yrs',\n",
       " '7-12 Yrs',\n",
       " '0-2 Yrs',\n",
       " '3-8 Yrs',\n",
       " '3-5 Yrs',\n",
       " '1-6 Yrs',\n",
       " '5-10 Yrs',\n",
       " '4-5 Yrs',\n",
       " '3-6 Yrs']"
      ]
     },
     "execution_count": 56,
     "metadata": {},
     "output_type": "execute_result"
    }
   ],
   "source": [
    "for i in exp_tags:\n",
    "    title=i.text\n",
    "    experience_required.append(title)\n",
    "experience_required[:10]"
   ]
  },
  {
   "cell_type": "code",
   "execution_count": 58,
   "metadata": {},
   "outputs": [],
   "source": [
    "naukri_details= pd.DataFrame({'job Titles':job_titles[0:10],'Job Location':job_location[0:10],'Company':company_name[0:10],'experience_required':experience_required[0:10]})"
   ]
  },
  {
   "cell_type": "code",
   "execution_count": 59,
   "metadata": {},
   "outputs": [
    {
     "data": {
      "text/html": [
       "<div>\n",
       "<style scoped>\n",
       "    .dataframe tbody tr th:only-of-type {\n",
       "        vertical-align: middle;\n",
       "    }\n",
       "\n",
       "    .dataframe tbody tr th {\n",
       "        vertical-align: top;\n",
       "    }\n",
       "\n",
       "    .dataframe thead th {\n",
       "        text-align: right;\n",
       "    }\n",
       "</style>\n",
       "<table border=\"1\" class=\"dataframe\">\n",
       "  <thead>\n",
       "    <tr style=\"text-align: right;\">\n",
       "      <th></th>\n",
       "      <th>job Titles</th>\n",
       "      <th>Job Location</th>\n",
       "      <th>Company</th>\n",
       "      <th>experience_required</th>\n",
       "    </tr>\n",
       "  </thead>\n",
       "  <tbody>\n",
       "    <tr>\n",
       "      <th>0</th>\n",
       "      <td>Hiring -Data Analyst, Business Analyst, MIS An...</td>\n",
       "      <td>Bangalore/Bengaluru</td>\n",
       "      <td>Flipkart</td>\n",
       "      <td>1-6 Yrs</td>\n",
       "    </tr>\n",
       "    <tr>\n",
       "      <th>1</th>\n",
       "      <td>Senior Data Analyst III</td>\n",
       "      <td>Bengaluru/Bangalore</td>\n",
       "      <td>Flipkart</td>\n",
       "      <td>2-4 Yrs</td>\n",
       "    </tr>\n",
       "    <tr>\n",
       "      <th>2</th>\n",
       "      <td>Business Analyst/ Data Analyst- Capital Market...</td>\n",
       "      <td>Pune, Bangalore/Bengaluru</td>\n",
       "      <td>Genpact</td>\n",
       "      <td>7-12 Yrs</td>\n",
       "    </tr>\n",
       "    <tr>\n",
       "      <th>3</th>\n",
       "      <td>Customer Data Management Analyst</td>\n",
       "      <td>Bangalore/Bengaluru</td>\n",
       "      <td>Aspect</td>\n",
       "      <td>0-2 Yrs</td>\n",
       "    </tr>\n",
       "    <tr>\n",
       "      <th>4</th>\n",
       "      <td>Data Analyst</td>\n",
       "      <td>Bangalore/Bengaluru</td>\n",
       "      <td>GlaxoSmithKline Pharmaceuticals Limited</td>\n",
       "      <td>3-8 Yrs</td>\n",
       "    </tr>\n",
       "    <tr>\n",
       "      <th>5</th>\n",
       "      <td>Assistant/deputy Manager - Geo-spatial Data An...</td>\n",
       "      <td>Gurgaon/Gurugram, bangalore</td>\n",
       "      <td>Maruti Suzuki India</td>\n",
       "      <td>3-5 Yrs</td>\n",
       "    </tr>\n",
       "    <tr>\n",
       "      <th>6</th>\n",
       "      <td>Senior Data Analyst</td>\n",
       "      <td>Bangalore/Bengaluru</td>\n",
       "      <td>Rapido</td>\n",
       "      <td>1-6 Yrs</td>\n",
       "    </tr>\n",
       "    <tr>\n",
       "      <th>7</th>\n",
       "      <td>Senior Data Analyst</td>\n",
       "      <td>Kolkata, Hyderabad/Secunderabad, Pune, Ahmedab...</td>\n",
       "      <td>SYREN TECHNOLOGIES PRIVATE LIMITED</td>\n",
       "      <td>5-10 Yrs</td>\n",
       "    </tr>\n",
       "    <tr>\n",
       "      <th>8</th>\n",
       "      <td>Senior Data Analyst</td>\n",
       "      <td>Bengaluru/Bangalore</td>\n",
       "      <td>Flipkart</td>\n",
       "      <td>4-5 Yrs</td>\n",
       "    </tr>\n",
       "    <tr>\n",
       "      <th>9</th>\n",
       "      <td>Openings For SQL Data Analyst</td>\n",
       "      <td>Hyderabad/Secunderabad, Bangalore/Bengaluru\\n(...</td>\n",
       "      <td>StackNexus Technologies India Pvt. Ltd</td>\n",
       "      <td>3-6 Yrs</td>\n",
       "    </tr>\n",
       "  </tbody>\n",
       "</table>\n",
       "</div>"
      ],
      "text/plain": [
       "                                          job Titles  \\\n",
       "0  Hiring -Data Analyst, Business Analyst, MIS An...   \n",
       "1                            Senior Data Analyst III   \n",
       "2  Business Analyst/ Data Analyst- Capital Market...   \n",
       "3                   Customer Data Management Analyst   \n",
       "4                                       Data Analyst   \n",
       "5  Assistant/deputy Manager - Geo-spatial Data An...   \n",
       "6                                Senior Data Analyst   \n",
       "7                                Senior Data Analyst   \n",
       "8                                Senior Data Analyst   \n",
       "9                      Openings For SQL Data Analyst   \n",
       "\n",
       "                                        Job Location  \\\n",
       "0                                Bangalore/Bengaluru   \n",
       "1                                Bengaluru/Bangalore   \n",
       "2                          Pune, Bangalore/Bengaluru   \n",
       "3                                Bangalore/Bengaluru   \n",
       "4                                Bangalore/Bengaluru   \n",
       "5                        Gurgaon/Gurugram, bangalore   \n",
       "6                                Bangalore/Bengaluru   \n",
       "7  Kolkata, Hyderabad/Secunderabad, Pune, Ahmedab...   \n",
       "8                                Bengaluru/Bangalore   \n",
       "9  Hyderabad/Secunderabad, Bangalore/Bengaluru\\n(...   \n",
       "\n",
       "                                   Company experience_required  \n",
       "0                                 Flipkart             1-6 Yrs  \n",
       "1                                 Flipkart             2-4 Yrs  \n",
       "2                                  Genpact            7-12 Yrs  \n",
       "3                                   Aspect             0-2 Yrs  \n",
       "4  GlaxoSmithKline Pharmaceuticals Limited             3-8 Yrs  \n",
       "5                      Maruti Suzuki India             3-5 Yrs  \n",
       "6                                   Rapido             1-6 Yrs  \n",
       "7       SYREN TECHNOLOGIES PRIVATE LIMITED            5-10 Yrs  \n",
       "8                                 Flipkart             4-5 Yrs  \n",
       "9   StackNexus Technologies India Pvt. Ltd             3-6 Yrs  "
      ]
     },
     "execution_count": 59,
     "metadata": {},
     "output_type": "execute_result"
    }
   ],
   "source": [
    "\n",
    "naukri_details"
   ]
  },
  {
   "cell_type": "code",
   "execution_count": 61,
   "metadata": {},
   "outputs": [],
   "source": [
    "driver.close()"
   ]
  },
  {
   "cell_type": "markdown",
   "metadata": {},
   "source": [
    "## Q2: Write a python program to scrape data for “Data Scientist” Job position in “Bangalore” location."
   ]
  },
  {
   "cell_type": "raw",
   "metadata": {},
   "source": [
    " You \n",
    "have to scrape the job-title, job-location, company_name. You have to scrape first 10 jobs data. \n",
    "This task will be done in following steps: \n",
    "1. First get the webpage https://www.naukri.com/ 2. Enter “Data Scientist” in “Skill, Designations, Companies” field and enter “Bangalore” in “enter the \n",
    "location” field. \n",
    "3. Then click the search button. \n",
    "4. Then scrape the data for the first 10 jobs results you get. \n",
    "5. Finally create a dataframe of the scraped data. \n",
    "Note: All of the above steps have to be done in code. No step is to be done manually. "
   ]
  },
  {
   "cell_type": "code",
   "execution_count": 187,
   "metadata": {},
   "outputs": [],
   "source": [
    "driver.get('https://www.naukri.com/')"
   ]
  },
  {
   "cell_type": "code",
   "execution_count": 188,
   "metadata": {
    "collapsed": true
   },
   "outputs": [
    {
     "name": "stderr",
     "output_type": "stream",
     "text": [
      "<ipython-input-188-43e0b5ad852c>:3: DeprecationWarning: find_element_by_* commands are deprecated. Please use find_element() instead\n",
      "  search_job = driver.find_element_by_id('qsb-keyword-sugg')\n",
      "<ipython-input-188-43e0b5ad852c>:5: DeprecationWarning: find_element_by_* commands are deprecated. Please use find_element() instead\n",
      "  search_loc=driver.find_element_by_xpath('//input[@id=\"qsb-location-sugg\"]')\n"
     ]
    }
   ],
   "source": [
    "# Finding a job element by job search bar\n",
    "\n",
    "search_job = driver.find_element_by_id('qsb-keyword-sugg')\n",
    "search_job.send_keys('Data Analyst')\n",
    "search_loc=driver.find_element_by_xpath('//input[@id=\"qsb-location-sugg\"]')\n",
    "search_loc.send_keys('Bangalore')"
   ]
  },
  {
   "cell_type": "code",
   "execution_count": 189,
   "metadata": {
    "collapsed": true
   },
   "outputs": [
    {
     "name": "stderr",
     "output_type": "stream",
     "text": [
      "<ipython-input-189-0ebe60df9725>:3: DeprecationWarning: find_element_by_* commands are deprecated. Please use find_element() instead\n",
      "  search_btn=driver.find_element_by_xpath('//div[@class=\"search-btn\"]')\n"
     ]
    }
   ],
   "source": [
    "# Clicking on the search button\n",
    "\n",
    "search_btn=driver.find_element_by_xpath('//div[@class=\"search-btn\"]')\n",
    "search_btn.click()"
   ]
  },
  {
   "cell_type": "code",
   "execution_count": 190,
   "metadata": {},
   "outputs": [],
   "source": [
    "# specifying the url of the web page to be scraped\n",
    "url=\"https://www.naukri.com/data-analyst-jobs-in-bangalore?k=data%20analyst&l=bangalore\""
   ]
  },
  {
   "cell_type": "code",
   "execution_count": 191,
   "metadata": {},
   "outputs": [],
   "source": [
    "# Lets open the web page through the web driver\n",
    "driver.get(url)"
   ]
  },
  {
   "cell_type": "code",
   "execution_count": 192,
   "metadata": {
    "collapsed": true
   },
   "outputs": [
    {
     "name": "stderr",
     "output_type": "stream",
     "text": [
      "<ipython-input-192-84192ee1703c>:1: DeprecationWarning: find_elements_by_* commands are deprecated. Please use find_elements() instead\n",
      "  titles_tags=driver.find_elements_by_xpath('//a[@class=\"title fw500 ellipsis\"]')\n",
      "<ipython-input-192-84192ee1703c>:2: DeprecationWarning: find_elements_by_* commands are deprecated. Please use find_elements() instead\n",
      "  company_tags = driver.find_elements_by_xpath('//a[@class=\"subTitle ellipsis fleft\"]')\n",
      "<ipython-input-192-84192ee1703c>:3: DeprecationWarning: find_elements_by_* commands are deprecated. Please use find_elements() instead\n",
      "  location_tags = driver.find_elements_by_xpath('//li[@class=\"fleft grey-text br2 placeHolderLi location\"]')\n"
     ]
    }
   ],
   "source": [
    "titles_tags=driver.find_elements_by_xpath('//a[@class=\"title fw500 ellipsis\"]')\n",
    "company_tags = driver.find_elements_by_xpath('//a[@class=\"subTitle ellipsis fleft\"]')\n",
    "location_tags = driver.find_elements_by_xpath('//li[@class=\"fleft grey-text br2 placeHolderLi location\"]')"
   ]
  },
  {
   "cell_type": "code",
   "execution_count": 196,
   "metadata": {},
   "outputs": [],
   "source": [
    "# Fetching data from tags\n",
    "title=[]\n",
    "location=[]\n",
    "company=[]\n",
    "for i in titles_tags:\n",
    "    title.append(i.text)\n",
    "for j in location_tags:\n",
    "    location.append(j.text)\n",
    "for k in company_tags:\n",
    "    company.append(k.text)\n"
   ]
  },
  {
   "cell_type": "code",
   "execution_count": 197,
   "metadata": {},
   "outputs": [],
   "source": [
    "Naukri_details_top10=pd.DataFrame({'Job Title':title[0:10],'Location':location[0:10],'Company':company[0:10]})\n",
    "\n"
   ]
  },
  {
   "cell_type": "code",
   "execution_count": 198,
   "metadata": {},
   "outputs": [
    {
     "data": {
      "text/html": [
       "<div>\n",
       "<style scoped>\n",
       "    .dataframe tbody tr th:only-of-type {\n",
       "        vertical-align: middle;\n",
       "    }\n",
       "\n",
       "    .dataframe tbody tr th {\n",
       "        vertical-align: top;\n",
       "    }\n",
       "\n",
       "    .dataframe thead th {\n",
       "        text-align: right;\n",
       "    }\n",
       "</style>\n",
       "<table border=\"1\" class=\"dataframe\">\n",
       "  <thead>\n",
       "    <tr style=\"text-align: right;\">\n",
       "      <th></th>\n",
       "      <th>Job Title</th>\n",
       "      <th>Location</th>\n",
       "      <th>Company</th>\n",
       "    </tr>\n",
       "  </thead>\n",
       "  <tbody>\n",
       "    <tr>\n",
       "      <th>0</th>\n",
       "      <td>Hiring -Data Analyst, Business Analyst, MIS An...</td>\n",
       "      <td>Bangalore/Bengaluru</td>\n",
       "      <td>Flipkart</td>\n",
       "    </tr>\n",
       "    <tr>\n",
       "      <th>1</th>\n",
       "      <td>Senior Data Analyst III</td>\n",
       "      <td>Bengaluru/Bangalore</td>\n",
       "      <td>Flipkart</td>\n",
       "    </tr>\n",
       "    <tr>\n",
       "      <th>2</th>\n",
       "      <td>Business Analyst/ Data Analyst- Capital Market...</td>\n",
       "      <td>Pune, Bangalore/Bengaluru</td>\n",
       "      <td>Genpact</td>\n",
       "    </tr>\n",
       "    <tr>\n",
       "      <th>3</th>\n",
       "      <td>Customer Data Management Analyst</td>\n",
       "      <td>Bangalore/Bengaluru</td>\n",
       "      <td>Aspect</td>\n",
       "    </tr>\n",
       "    <tr>\n",
       "      <th>4</th>\n",
       "      <td>Data Analyst</td>\n",
       "      <td>Bangalore/Bengaluru</td>\n",
       "      <td>GlaxoSmithKline Pharmaceuticals Limited</td>\n",
       "    </tr>\n",
       "    <tr>\n",
       "      <th>5</th>\n",
       "      <td>Assistant/deputy Manager - Geo-spatial Data An...</td>\n",
       "      <td>Gurgaon/Gurugram, bangalore</td>\n",
       "      <td>Maruti Suzuki India</td>\n",
       "    </tr>\n",
       "    <tr>\n",
       "      <th>6</th>\n",
       "      <td>Senior Data Analyst</td>\n",
       "      <td>Bangalore/Bengaluru</td>\n",
       "      <td>Rapido</td>\n",
       "    </tr>\n",
       "    <tr>\n",
       "      <th>7</th>\n",
       "      <td>Senior Data Analyst</td>\n",
       "      <td>Kolkata, Hyderabad/Secunderabad, Pune, Ahmedab...</td>\n",
       "      <td>SYREN TECHNOLOGIES PRIVATE LIMITED</td>\n",
       "    </tr>\n",
       "    <tr>\n",
       "      <th>8</th>\n",
       "      <td>Senior Data Analyst</td>\n",
       "      <td>Bengaluru/Bangalore</td>\n",
       "      <td>Flipkart</td>\n",
       "    </tr>\n",
       "    <tr>\n",
       "      <th>9</th>\n",
       "      <td>Openings For SQL Data Analyst</td>\n",
       "      <td>Hyderabad/Secunderabad, Bangalore/Bengaluru\\n(...</td>\n",
       "      <td>StackNexus Technologies India Pvt. Ltd</td>\n",
       "    </tr>\n",
       "  </tbody>\n",
       "</table>\n",
       "</div>"
      ],
      "text/plain": [
       "                                           Job Title  \\\n",
       "0  Hiring -Data Analyst, Business Analyst, MIS An...   \n",
       "1                            Senior Data Analyst III   \n",
       "2  Business Analyst/ Data Analyst- Capital Market...   \n",
       "3                   Customer Data Management Analyst   \n",
       "4                                       Data Analyst   \n",
       "5  Assistant/deputy Manager - Geo-spatial Data An...   \n",
       "6                                Senior Data Analyst   \n",
       "7                                Senior Data Analyst   \n",
       "8                                Senior Data Analyst   \n",
       "9                      Openings For SQL Data Analyst   \n",
       "\n",
       "                                            Location  \\\n",
       "0                                Bangalore/Bengaluru   \n",
       "1                                Bengaluru/Bangalore   \n",
       "2                          Pune, Bangalore/Bengaluru   \n",
       "3                                Bangalore/Bengaluru   \n",
       "4                                Bangalore/Bengaluru   \n",
       "5                        Gurgaon/Gurugram, bangalore   \n",
       "6                                Bangalore/Bengaluru   \n",
       "7  Kolkata, Hyderabad/Secunderabad, Pune, Ahmedab...   \n",
       "8                                Bengaluru/Bangalore   \n",
       "9  Hyderabad/Secunderabad, Bangalore/Bengaluru\\n(...   \n",
       "\n",
       "                                   Company  \n",
       "0                                 Flipkart  \n",
       "1                                 Flipkart  \n",
       "2                                  Genpact  \n",
       "3                                   Aspect  \n",
       "4  GlaxoSmithKline Pharmaceuticals Limited  \n",
       "5                      Maruti Suzuki India  \n",
       "6                                   Rapido  \n",
       "7       SYREN TECHNOLOGIES PRIVATE LIMITED  \n",
       "8                                 Flipkart  \n",
       "9   StackNexus Technologies India Pvt. Ltd  "
      ]
     },
     "execution_count": 198,
     "metadata": {},
     "output_type": "execute_result"
    }
   ],
   "source": [
    "Naukri_details_top10"
   ]
  },
  {
   "cell_type": "markdown",
   "metadata": {},
   "source": [
    "## Q3: In this question you have to scrape data using the filters available on the webpage as shown below: "
   ]
  },
  {
   "cell_type": "markdown",
   "metadata": {},
   "source": [
    "You have to use the location and salary filter. \n",
    "You have to scrape data for “Data Scientist” designation for first 10 job results. \n",
    "You have to scrape the job-title, job-location, company name, experience required. \n",
    "The location filter to be used is “Delhi/NCR” The salary filter to be used is “3-6” lakhs \n",
    "The task will be done as shown in the below steps: \n",
    "1. first get the webpage https://www.naukri.com/\n",
    "2. Enter “Data Scientist” in “Skill, Designations, and Companies” field. \n",
    "3. Then click the search button. \n",
    "4. Then apply the location filter and salary filter by checking the respective boxes \n",
    "5. Then scrape the data for the first 10 jobs results you get. \n",
    "6. Finally create a dataframe of the scraped data. \n",
    "Note: All of the above steps have to be done in code. No step is to be done manually."
   ]
  },
  {
   "cell_type": "code",
   "execution_count": 62,
   "metadata": {
    "collapsed": true
   },
   "outputs": [
    {
     "name": "stderr",
     "output_type": "stream",
     "text": [
      "<ipython-input-62-d1adf64bf815>:2: DeprecationWarning: executable_path has been deprecated, please pass in a Service object\n",
      "  driver=webdriver.Chrome(r'C:/Users/quccs/Downloads/chromedriver_win32/chromedriver.exe')\n",
      "<ipython-input-62-d1adf64bf815>:6: DeprecationWarning: find_element_by_* commands are deprecated. Please use find_element() instead\n",
      "  search_job = driver.find_element_by_id('qsb-keyword-sugg')\n",
      "<ipython-input-62-d1adf64bf815>:10: DeprecationWarning: find_element_by_* commands are deprecated. Please use find_element() instead\n",
      "  search_btn=driver.find_element_by_xpath('//div[@class=\"search-btn\"]')\n"
     ]
    }
   ],
   "source": [
    "# Lets connect to the webdriver\n",
    "driver=webdriver.Chrome(r'C:/Users/quccs/Downloads/chromedriver_win32/chromedriver.exe')\n",
    "driver.get('https://www.naukri.com/')\n",
    "\n",
    "# Step 2\n",
    "search_job = driver.find_element_by_id('qsb-keyword-sugg')\n",
    "search_job.send_keys('Data Analyst')\n",
    "\n",
    "#Step 3\n",
    "search_btn=driver.find_element_by_xpath('//div[@class=\"search-btn\"]')\n",
    "search_btn.click()\n",
    "\n"
   ]
  },
  {
   "cell_type": "code",
   "execution_count": 63,
   "metadata": {},
   "outputs": [],
   "source": [
    "# specifying the url of the web page to be scraped\n",
    "url=\"https://www.naukri.com/data-analyst-jobs?k=data%20analyst\""
   ]
  },
  {
   "cell_type": "code",
   "execution_count": 64,
   "metadata": {},
   "outputs": [],
   "source": [
    "# Lets open the web page through the web driver\n",
    "driver.get(url)"
   ]
  },
  {
   "cell_type": "code",
   "execution_count": 65,
   "metadata": {
    "collapsed": true
   },
   "outputs": [
    {
     "name": "stderr",
     "output_type": "stream",
     "text": [
      "<ipython-input-65-c8d72c9efd34>:3: DeprecationWarning: find_element_by_* commands are deprecated. Please use find_element() instead\n",
      "  loc = driver.find_element_by_xpath('//span[@title=\"Delhi / NCR\"]')\n"
     ]
    }
   ],
   "source": [
    "# Applying the location filter\n",
    "\n",
    "loc = driver.find_element_by_xpath('//span[@title=\"Delhi / NCR\"]')\n",
    "loc.click()"
   ]
  },
  {
   "cell_type": "code",
   "execution_count": 66,
   "metadata": {
    "collapsed": true
   },
   "outputs": [
    {
     "name": "stderr",
     "output_type": "stream",
     "text": [
      "<ipython-input-66-0a4a14a52d4f>:2: DeprecationWarning: find_element_by_* commands are deprecated. Please use find_element() instead\n",
      "  salary = driver.find_element_by_xpath('//span[@title=\"3-6 Lakhs\"]')\n"
     ]
    }
   ],
   "source": [
    "# Applying the salary filter\n",
    "salary = driver.find_element_by_xpath('//span[@title=\"3-6 Lakhs\"]')\n",
    "salary.click()"
   ]
  },
  {
   "cell_type": "code",
   "execution_count": 68,
   "metadata": {
    "collapsed": true
   },
   "outputs": [
    {
     "name": "stderr",
     "output_type": "stream",
     "text": [
      "<ipython-input-68-94cb312be517>:2: DeprecationWarning: find_elements_by_* commands are deprecated. Please use find_elements() instead\n",
      "  titles_tags1=driver.find_elements_by_xpath('//a[@class=\"title fw500 ellipsis\"]')\n",
      "<ipython-input-68-94cb312be517>:4: DeprecationWarning: find_elements_by_* commands are deprecated. Please use find_elements() instead\n",
      "  location_tags1 = driver.find_elements_by_xpath('//li[@class=\"fleft grey-text br2 placeHolderLi location\"]')\n",
      "<ipython-input-68-94cb312be517>:6: DeprecationWarning: find_elements_by_* commands are deprecated. Please use find_elements() instead\n",
      "  company_tags1 = driver.find_elements_by_xpath('//a[@class=\"subTitle ellipsis fleft\"]')\n",
      "<ipython-input-68-94cb312be517>:8: DeprecationWarning: find_elements_by_* commands are deprecated. Please use find_elements() instead\n",
      "  exp_tags1=driver.find_elements_by_xpath('//li[@class=\"fleft grey-text br2 placeHolderLi experience\"]/span[1]')\n"
     ]
    },
    {
     "data": {
      "text/plain": [
       "[<selenium.webdriver.remote.webelement.WebElement (session=\"f23d6cdba9144dd8cd229be609adec4d\", element=\"06e88cb8-0bfa-461d-a94c-69b3ac07b78b\")>,\n",
       " <selenium.webdriver.remote.webelement.WebElement (session=\"f23d6cdba9144dd8cd229be609adec4d\", element=\"dbf4ef35-ba66-4ad9-a521-44261706aeee\")>,\n",
       " <selenium.webdriver.remote.webelement.WebElement (session=\"f23d6cdba9144dd8cd229be609adec4d\", element=\"07b4f5d1-6943-4693-8433-1fb88a53e60f\")>,\n",
       " <selenium.webdriver.remote.webelement.WebElement (session=\"f23d6cdba9144dd8cd229be609adec4d\", element=\"294d0372-d553-475c-b5b9-a36badbf0567\")>,\n",
       " <selenium.webdriver.remote.webelement.WebElement (session=\"f23d6cdba9144dd8cd229be609adec4d\", element=\"23e947c7-6354-4d81-af14-31223836f600\")>]"
      ]
     },
     "execution_count": 68,
     "metadata": {},
     "output_type": "execute_result"
    }
   ],
   "source": [
    "# Extractitng title , location , company & experience tags from page\n",
    "titles_tags1=driver.find_elements_by_xpath('//a[@class=\"title fw500 ellipsis\"]')\n",
    "titles_tags1[0:5]\n",
    "location_tags1 = driver.find_elements_by_xpath('//li[@class=\"fleft grey-text br2 placeHolderLi location\"]')\n",
    "location_tags1[0:5]\n",
    "company_tags1 = driver.find_elements_by_xpath('//a[@class=\"subTitle ellipsis fleft\"]')\n",
    "company_tags1[0:5]\n",
    "exp_tags1=driver.find_elements_by_xpath('//li[@class=\"fleft grey-text br2 placeHolderLi experience\"]/span[1]')\n",
    "exp_tags1[0:5]\n",
    "\n"
   ]
  },
  {
   "cell_type": "code",
   "execution_count": 70,
   "metadata": {},
   "outputs": [],
   "source": [
    "# Creating empty list \n",
    "job_titles1=[]\n",
    "job_location1 =[]\n",
    "company_name1=[]\n",
    "experience_required1=[]\n"
   ]
  },
  {
   "cell_type": "code",
   "execution_count": 71,
   "metadata": {},
   "outputs": [
    {
     "data": {
      "text/plain": [
       "['0-5 Yrs',\n",
       " '3-8 Yrs',\n",
       " '3-8 Yrs',\n",
       " '0-4 Yrs',\n",
       " '1-4 Yrs',\n",
       " '5-8 Yrs',\n",
       " '2-7 Yrs',\n",
       " '1-3 Yrs',\n",
       " '2-4 Yrs',\n",
       " '2-7 Yrs']"
      ]
     },
     "execution_count": 71,
     "metadata": {},
     "output_type": "execute_result"
    }
   ],
   "source": [
    "# Fetching the data from tags using for loops\n",
    "for i in titles_tags1:\n",
    "    title=i.text\n",
    "    job_titles1.append(title)\n",
    "job_titles1[:10]\n",
    "\n",
    "for i in location_tags1:\n",
    "    title=i.text\n",
    "    job_location1.append(title)\n",
    "job_location1[:10]\n",
    "\n",
    "for i in company_tags1:\n",
    "    title=i.text\n",
    "    company_name1.append(title)\n",
    "company_name1[:10]\n",
    "\n",
    "for i in exp_tags1:\n",
    "    title=i.text\n",
    "    experience_required1.append(title)\n",
    "experience_required1[:10]\n",
    "\n"
   ]
  },
  {
   "cell_type": "code",
   "execution_count": 76,
   "metadata": {},
   "outputs": [],
   "source": [
    "naukri_details_Delhi= pd.DataFrame({'job Titles':job_titles1[0:10],'Job Location':job_location1[0:10],'Company':company_name1[0:10],'experience_required':experience_required1[0:10]})"
   ]
  },
  {
   "cell_type": "code",
   "execution_count": 77,
   "metadata": {},
   "outputs": [
    {
     "data": {
      "text/html": [
       "<div>\n",
       "<style scoped>\n",
       "    .dataframe tbody tr th:only-of-type {\n",
       "        vertical-align: middle;\n",
       "    }\n",
       "\n",
       "    .dataframe tbody tr th {\n",
       "        vertical-align: top;\n",
       "    }\n",
       "\n",
       "    .dataframe thead th {\n",
       "        text-align: right;\n",
       "    }\n",
       "</style>\n",
       "<table border=\"1\" class=\"dataframe\">\n",
       "  <thead>\n",
       "    <tr style=\"text-align: right;\">\n",
       "      <th></th>\n",
       "      <th>job Titles</th>\n",
       "      <th>Job Location</th>\n",
       "      <th>Company</th>\n",
       "      <th>experience_required</th>\n",
       "    </tr>\n",
       "  </thead>\n",
       "  <tbody>\n",
       "    <tr>\n",
       "      <th>0</th>\n",
       "      <td>MIS Executive / Data Analyst / Business Analyt...</td>\n",
       "      <td>Noida, New Delhi, Delhi / NCR</td>\n",
       "      <td>GABA Consultancy services</td>\n",
       "      <td>0-5 Yrs</td>\n",
       "    </tr>\n",
       "    <tr>\n",
       "      <th>1</th>\n",
       "      <td>Freelancer Digital Data Analyst eCom</td>\n",
       "      <td>New Delhi, Gurgaon/Gurugram, Delhi / NCR</td>\n",
       "      <td>FIXDERMA INDIA PVT LTD</td>\n",
       "      <td>3-8 Yrs</td>\n",
       "    </tr>\n",
       "    <tr>\n",
       "      <th>2</th>\n",
       "      <td>Job Opportunity For Clinical Data Analyst - CDM</td>\n",
       "      <td>Kolkata, Hyderabad/Secunderabad, Pune, Chennai...</td>\n",
       "      <td>Paradigm IT</td>\n",
       "      <td>3-8 Yrs</td>\n",
       "    </tr>\n",
       "    <tr>\n",
       "      <th>3</th>\n",
       "      <td>MIS Executive / Data Analyst</td>\n",
       "      <td>Noida(Sector-16A Noida), Ghaziabad, Delhi / NCR</td>\n",
       "      <td>TXN PLACEMENT PRIVATE LIMITED</td>\n",
       "      <td>0-4 Yrs</td>\n",
       "    </tr>\n",
       "    <tr>\n",
       "      <th>4</th>\n",
       "      <td>MIS Executive/ Data Analyst</td>\n",
       "      <td>Gurgaon/Gurugram, Delhi / NCR</td>\n",
       "      <td>WE SKILL ( JAP EDUTAINMENT PRIVATE LIMITED )</td>\n",
       "      <td>1-4 Yrs</td>\n",
       "    </tr>\n",
       "    <tr>\n",
       "      <th>5</th>\n",
       "      <td>Sr. Data Analyst | Gurgaon</td>\n",
       "      <td>Gurgaon/Gurugram, Delhi / NCR</td>\n",
       "      <td>Weather Risk Management Services Private Limited</td>\n",
       "      <td>5-8 Yrs</td>\n",
       "    </tr>\n",
       "    <tr>\n",
       "      <th>6</th>\n",
       "      <td>Data Analyst</td>\n",
       "      <td>Gurgaon/Gurugram</td>\n",
       "      <td>AECOM</td>\n",
       "      <td>2-7 Yrs</td>\n",
       "    </tr>\n",
       "    <tr>\n",
       "      <th>7</th>\n",
       "      <td>Data Analyst</td>\n",
       "      <td>Noida</td>\n",
       "      <td>BYJU'S</td>\n",
       "      <td>1-3 Yrs</td>\n",
       "    </tr>\n",
       "    <tr>\n",
       "      <th>8</th>\n",
       "      <td>Hiring For Junior Data Analyst</td>\n",
       "      <td>New Delhi, Faridabad, Gurgaon/Gurugram</td>\n",
       "      <td>Avalon Information Systems Pvt. Ltd.</td>\n",
       "      <td>2-4 Yrs</td>\n",
       "    </tr>\n",
       "    <tr>\n",
       "      <th>9</th>\n",
       "      <td>Data Analyst(NP: immediate To 15 days)</td>\n",
       "      <td>Delhi / NCR</td>\n",
       "      <td>CSC e-GOVERNANCE SERVICES INDIA LIMITED</td>\n",
       "      <td>2-7 Yrs</td>\n",
       "    </tr>\n",
       "  </tbody>\n",
       "</table>\n",
       "</div>"
      ],
      "text/plain": [
       "                                          job Titles  \\\n",
       "0  MIS Executive / Data Analyst / Business Analyt...   \n",
       "1               Freelancer Digital Data Analyst eCom   \n",
       "2    Job Opportunity For Clinical Data Analyst - CDM   \n",
       "3                       MIS Executive / Data Analyst   \n",
       "4                        MIS Executive/ Data Analyst   \n",
       "5                         Sr. Data Analyst | Gurgaon   \n",
       "6                                       Data Analyst   \n",
       "7                                       Data Analyst   \n",
       "8                     Hiring For Junior Data Analyst   \n",
       "9             Data Analyst(NP: immediate To 15 days)   \n",
       "\n",
       "                                        Job Location  \\\n",
       "0                      Noida, New Delhi, Delhi / NCR   \n",
       "1           New Delhi, Gurgaon/Gurugram, Delhi / NCR   \n",
       "2  Kolkata, Hyderabad/Secunderabad, Pune, Chennai...   \n",
       "3    Noida(Sector-16A Noida), Ghaziabad, Delhi / NCR   \n",
       "4                      Gurgaon/Gurugram, Delhi / NCR   \n",
       "5                      Gurgaon/Gurugram, Delhi / NCR   \n",
       "6                                   Gurgaon/Gurugram   \n",
       "7                                              Noida   \n",
       "8             New Delhi, Faridabad, Gurgaon/Gurugram   \n",
       "9                                        Delhi / NCR   \n",
       "\n",
       "                                            Company experience_required  \n",
       "0                         GABA Consultancy services             0-5 Yrs  \n",
       "1                            FIXDERMA INDIA PVT LTD             3-8 Yrs  \n",
       "2                                       Paradigm IT             3-8 Yrs  \n",
       "3                     TXN PLACEMENT PRIVATE LIMITED             0-4 Yrs  \n",
       "4      WE SKILL ( JAP EDUTAINMENT PRIVATE LIMITED )             1-4 Yrs  \n",
       "5  Weather Risk Management Services Private Limited             5-8 Yrs  \n",
       "6                                             AECOM             2-7 Yrs  \n",
       "7                                            BYJU'S             1-3 Yrs  \n",
       "8              Avalon Information Systems Pvt. Ltd.             2-4 Yrs  \n",
       "9           CSC e-GOVERNANCE SERVICES INDIA LIMITED             2-7 Yrs  "
      ]
     },
     "execution_count": 77,
     "metadata": {},
     "output_type": "execute_result"
    }
   ],
   "source": [
    "naukri_details_Delhi"
   ]
  },
  {
   "cell_type": "code",
   "execution_count": 78,
   "metadata": {},
   "outputs": [],
   "source": [
    "driver.close()"
   ]
  },
  {
   "cell_type": "markdown",
   "metadata": {},
   "source": [
    "## Q4: Scrape data of first 100 sunglasses listings on flipkart.com. You have to scrape four attributes: "
   ]
  },
  {
   "cell_type": "markdown",
   "metadata": {},
   "source": [
    "\n",
    "1. Brand \n",
    "2. Product Description \n",
    "3. Price \n",
    "The attributes which you have to scrape is ticked marked in the below image.\n",
    "\n",
    "To scrape the data you have to go through following steps: \n",
    "1. Go to Flipkart webpage by url : https://www.flipkart.com/\n",
    "2. Enter “sunglasses” in the search field where “search for products, brands and more” is written and \n",
    "click the search icon \n",
    "3. After that you will reach to the page having a lot of sunglasses. From this page you can scrap the \n",
    "required data as usual.\n",
    "4. After scraping data from the first page, go to the “Next” Button at the bottom of the page , then \n",
    "click on it. \n",
    "5. Now scrape data from this page as usual \n",
    "6. Repeat this until you get data for 100 sunglasses. \n",
    "Note: That all of the above steps have to be done by coding only and not manually."
   ]
  },
  {
   "cell_type": "code",
   "execution_count": 79,
   "metadata": {
    "collapsed": true
   },
   "outputs": [
    {
     "name": "stderr",
     "output_type": "stream",
     "text": [
      "<ipython-input-79-a3f486f9951a>:2: DeprecationWarning: executable_path has been deprecated, please pass in a Service object\n",
      "  driver=webdriver.Chrome(r'C:/Users/quccs/Downloads/chromedriver_win32/chromedriver.exe')\n"
     ]
    }
   ],
   "source": [
    "# Lets connect to the webdriver\n",
    "driver=webdriver.Chrome(r'C:/Users/quccs/Downloads/chromedriver_win32/chromedriver.exe')\n",
    "driver.get('https://www.flipkart.com/')\n",
    "\n"
   ]
  },
  {
   "cell_type": "code",
   "execution_count": 87,
   "metadata": {
    "collapsed": true
   },
   "outputs": [
    {
     "name": "stderr",
     "output_type": "stream",
     "text": [
      "<ipython-input-87-aa9b20e3fff3>:2: DeprecationWarning: find_element_by_* commands are deprecated. Please use find_element() instead\n",
      "  search_item = driver.find_element_by_xpath('//input[@placeholder=\"Search for products, brands and more\"]')\n"
     ]
    }
   ],
   "source": [
    "# Step 2\n",
    "search_item = driver.find_element_by_xpath('//input[@placeholder=\"Search for products, brands and more\"]')\n",
    "search_item.send_keys('sunglasses')\n",
    "\n"
   ]
  },
  {
   "cell_type": "code",
   "execution_count": 88,
   "metadata": {
    "collapsed": true
   },
   "outputs": [
    {
     "name": "stderr",
     "output_type": "stream",
     "text": [
      "<ipython-input-88-194cb2b4ac97>:2: DeprecationWarning: find_element_by_* commands are deprecated. Please use find_element() instead\n",
      "  search_btn1=driver.find_element_by_xpath('//button[@class=\"L0Z3Pu\"]')\n"
     ]
    }
   ],
   "source": [
    "#Step 3\n",
    "search_btn1=driver.find_element_by_xpath('//button[@class=\"L0Z3Pu\"]')\n",
    "search_btn1.click()"
   ]
  },
  {
   "cell_type": "code",
   "execution_count": 89,
   "metadata": {},
   "outputs": [],
   "source": [
    "# Lets open the web page through the web driver\n",
    "url=r'https://www.flipkart.com/search?q=sunglasses&otracker=search&otracker1=search&marketplace=FLIPKART&as-show=on&as=off'\n",
    "driver.get(url)"
   ]
  },
  {
   "cell_type": "raw",
   "metadata": {},
   "source": [
    "Brand\n",
    "Product Description\n",
    "Price The attributes which you have to scrape is ticked marked in the below image.\n",
    "\n"
   ]
  },
  {
   "cell_type": "raw",
   "metadata": {},
   "source": [
    "titles_tags1=driver.find_elements_by_xpath('//a[@class=\"title fw500 ellipsis\"]')\n",
    "titles_tags1[0:5]"
   ]
  },
  {
   "cell_type": "code",
   "execution_count": 90,
   "metadata": {
    "collapsed": true
   },
   "outputs": [
    {
     "name": "stderr",
     "output_type": "stream",
     "text": [
      "<ipython-input-90-49518802d22c>:1: DeprecationWarning: find_elements_by_* commands are deprecated. Please use find_elements() instead\n",
      "  brand_tags=driver.find_elements_by_xpath('//div[@class=\"_2WkVRV\"]')\n"
     ]
    },
    {
     "data": {
      "text/plain": [
       "[<selenium.webdriver.remote.webelement.WebElement (session=\"9edb9b2be3234f4b2fee17e6fce90a00\", element=\"cd9726a3-29ff-4a94-8fa7-e1462f65d845\")>,\n",
       " <selenium.webdriver.remote.webelement.WebElement (session=\"9edb9b2be3234f4b2fee17e6fce90a00\", element=\"cba305aa-6c55-4336-9785-b5fea25e581f\")>,\n",
       " <selenium.webdriver.remote.webelement.WebElement (session=\"9edb9b2be3234f4b2fee17e6fce90a00\", element=\"8edbd269-0023-43fe-a45d-f0cae99e0f91\")>]"
      ]
     },
     "execution_count": 90,
     "metadata": {},
     "output_type": "execute_result"
    }
   ],
   "source": [
    "# Extracting the brand tags from the url\n",
    "brand_tags=driver.find_elements_by_xpath('//div[@class=\"_2WkVRV\"]')\n",
    "brand_tags[0:3]"
   ]
  },
  {
   "cell_type": "code",
   "execution_count": 92,
   "metadata": {
    "collapsed": true
   },
   "outputs": [
    {
     "data": {
      "text/plain": [
       "['VINCENT CHASE',\n",
       " 'VINCENT CHASE',\n",
       " 'SRPM',\n",
       " 'Elligator',\n",
       " 'New Specs',\n",
       " 'PIRASO',\n",
       " 'Fastrack',\n",
       " 'ROYAL SON',\n",
       " 'kingsunglasses',\n",
       " 'PIRASO',\n",
       " 'kingsunglasses',\n",
       " 'ROYAL SON',\n",
       " 'SHAAH COLLECTIONS',\n",
       " 'PIRASO',\n",
       " 'ROZZETTA CRAFT',\n",
       " 'ROYAL SON',\n",
       " 'ROZZETTA CRAFT',\n",
       " 'kingsunglasses',\n",
       " 'ROYAL SON',\n",
       " 'VINCENT CHASE',\n",
       " 'SUNBEE',\n",
       " 'ROYAL SON',\n",
       " 'ROZZETTA CRAFT',\n",
       " 'VINCENT CHASE',\n",
       " 'PIRASO',\n",
       " 'PHENOMENAL',\n",
       " 'New Specs',\n",
       " 'ROYAL SON',\n",
       " 'SHAAH COLLECTIONS',\n",
       " 'PIRASO',\n",
       " 'PHENOMENAL',\n",
       " 'ROYAL SON',\n",
       " 'Singco India',\n",
       " 'Rich Club',\n",
       " 'PIRASO',\n",
       " 'VINCENT CHASE',\n",
       " 'hipe',\n",
       " 'Rich Club',\n",
       " 'agera',\n",
       " 'ROYAL SON']"
      ]
     },
     "execution_count": 92,
     "metadata": {},
     "output_type": "execute_result"
    }
   ],
   "source": [
    "#fetching the brand details in the brand list\n",
    "brand=[]\n",
    "for i in brand_tags:\n",
    "    title=i.text\n",
    "    brand.append(title)\n",
    "brand[0:100]"
   ]
  },
  {
   "cell_type": "code",
   "execution_count": 93,
   "metadata": {
    "collapsed": true
   },
   "outputs": [
    {
     "name": "stderr",
     "output_type": "stream",
     "text": [
      "<ipython-input-93-964d655a3bbd>:2: DeprecationWarning: find_elements_by_* commands are deprecated. Please use find_elements() instead\n",
      "  product_tags=driver.find_elements_by_xpath('//a[@class=\"IRpwTa\"]')\n"
     ]
    },
    {
     "data": {
      "text/plain": [
       "[<selenium.webdriver.remote.webelement.WebElement (session=\"9edb9b2be3234f4b2fee17e6fce90a00\", element=\"f2652345-776c-480a-beac-48ad4185de72\")>,\n",
       " <selenium.webdriver.remote.webelement.WebElement (session=\"9edb9b2be3234f4b2fee17e6fce90a00\", element=\"85c1c6b2-ea9b-4201-8782-bd2b58083c9f\")>,\n",
       " <selenium.webdriver.remote.webelement.WebElement (session=\"9edb9b2be3234f4b2fee17e6fce90a00\", element=\"f2c6a965-f510-4ef8-871a-5fb21aa9479b\")>]"
      ]
     },
     "execution_count": 93,
     "metadata": {},
     "output_type": "execute_result"
    }
   ],
   "source": [
    "# Extracting the product details tags from the url\n",
    "product_tags=driver.find_elements_by_xpath('//a[@class=\"IRpwTa\"]')\n",
    "product_tags[0:3]"
   ]
  },
  {
   "cell_type": "code",
   "execution_count": 94,
   "metadata": {
    "collapsed": true
   },
   "outputs": [
    {
     "data": {
      "text/plain": [
       "['by Lenskart UV Protection Aviator Sunglasses (53)',\n",
       " 'by Lenskart Polarized, UV Protection Wayfarer Sunglasse...',\n",
       " 'UV Protection Wayfarer Sunglasses (56)',\n",
       " 'UV Protection Round Sunglasses (54)',\n",
       " 'UV Protection Aviator Sunglasses (54)',\n",
       " 'UV Protection Rectangular Sunglasses (Free Size)',\n",
       " 'UV Protection Wayfarer Sunglasses (Free Size)',\n",
       " 'Gradient, UV Protection Round Sunglasses (Free Size)',\n",
       " 'UV Protection Aviator Sunglasses (54)',\n",
       " 'Mirrored, UV Protection Wayfarer Sunglasses (53)',\n",
       " 'UV Protection Round Sunglasses (54)',\n",
       " 'Polarized, UV Protection Round Sunglasses (52)',\n",
       " 'UV Protection, Polarized, Mirrored Rectangular Sunglass...',\n",
       " 'UV Protection Aviator Sunglasses (55)',\n",
       " 'UV Protection, Gradient Rectangular Sunglasses (Free Si...',\n",
       " 'UV Protection, Gradient Butterfly Sunglasses (60)',\n",
       " 'UV Protection, Riding Glasses, Mirrored Wayfarer Sungla...',\n",
       " 'Mirrored Aviator Sunglasses (55)',\n",
       " 'UV Protection Retro Square Sunglasses (Free Size)',\n",
       " 'UV Protection, Gradient Butterfly Sunglasses (60)',\n",
       " 'UV Protection, Polarized, Mirrored Round Sunglasses (Fr...',\n",
       " 'UV Protection Round Sunglasses (Free Size)',\n",
       " 'Mirrored, UV Protection, Riding Glasses, Others Round S...',\n",
       " 'by Lenskart UV Protection Aviator Sunglasses (Free Size...',\n",
       " 'UV Protection Retro Square Sunglasses (Free Size)',\n",
       " 'UV Protection Wayfarer Sunglasses (32)',\n",
       " 'UV Protection Rectangular Sunglasses (58)',\n",
       " 'Polarized, UV Protection Wrap-around Sunglasses (60)',\n",
       " 'Mirrored, Riding Glasses, Others Sports Sunglasses (50)',\n",
       " 'UV Protection, Mirrored Retro Square Sunglasses (53)',\n",
       " 'UV Protection, Polarized, Mirrored Rectangular Sunglass...',\n",
       " 'UV Protection, Gradient Over-sized Sunglasses (59)',\n",
       " 'UV Protection Aviator Sunglasses (54)',\n",
       " 'Polarized Round Sunglasses (48)',\n",
       " 'UV Protection Aviator Sunglasses (58)',\n",
       " 'by Lenskart UV Protection Aviator Sunglasses (Free Size...',\n",
       " 'Gradient Aviator Sunglasses (55)',\n",
       " 'Polarized Round Sunglasses (48)',\n",
       " 'UV Protection Sports Sunglasses (Free Size)',\n",
       " 'Polarized, UV Protection Aviator Sunglasses (58)']"
      ]
     },
     "execution_count": 94,
     "metadata": {},
     "output_type": "execute_result"
    }
   ],
   "source": [
    "#fetching the product details in the product list\n",
    "product_desc=[]\n",
    "for i in product_tags:\n",
    "    title=i.text\n",
    "    product_desc.append(title)\n",
    "product_desc[0:100]"
   ]
  },
  {
   "cell_type": "code",
   "execution_count": 95,
   "metadata": {
    "collapsed": true
   },
   "outputs": [
    {
     "name": "stderr",
     "output_type": "stream",
     "text": [
      "<ipython-input-95-580017d321a9>:2: DeprecationWarning: find_elements_by_* commands are deprecated. Please use find_elements() instead\n",
      "  price_tags=driver.find_elements_by_xpath('//div[@class=\"_30jeq3\"]')\n"
     ]
    },
    {
     "data": {
      "text/plain": [
       "[<selenium.webdriver.remote.webelement.WebElement (session=\"9edb9b2be3234f4b2fee17e6fce90a00\", element=\"d42d9fe2-8135-451b-98f5-187e2b2df847\")>,\n",
       " <selenium.webdriver.remote.webelement.WebElement (session=\"9edb9b2be3234f4b2fee17e6fce90a00\", element=\"52f29a29-589c-4ddf-915b-843fe95732e4\")>,\n",
       " <selenium.webdriver.remote.webelement.WebElement (session=\"9edb9b2be3234f4b2fee17e6fce90a00\", element=\"e5499676-c4c7-490f-9cb1-f9e4eb21e04a\")>]"
      ]
     },
     "execution_count": 95,
     "metadata": {},
     "output_type": "execute_result"
    }
   ],
   "source": [
    "# Extracting the price details tags from the url\n",
    "price_tags=driver.find_elements_by_xpath('//div[@class=\"_30jeq3\"]')\n",
    "price_tags[0:3]"
   ]
  },
  {
   "cell_type": "code",
   "execution_count": 96,
   "metadata": {
    "collapsed": true
   },
   "outputs": [
    {
     "data": {
      "text/plain": [
       "['₹999',\n",
       " '₹1,415',\n",
       " '₹188',\n",
       " '₹248',\n",
       " '₹200',\n",
       " '₹259',\n",
       " '₹699',\n",
       " '₹426',\n",
       " '₹187',\n",
       " '₹274',\n",
       " '₹189',\n",
       " '₹759',\n",
       " '₹170',\n",
       " '₹179',\n",
       " '₹383',\n",
       " '₹664',\n",
       " '₹187',\n",
       " '₹359',\n",
       " '₹474',\n",
       " '₹664',\n",
       " '₹271',\n",
       " '₹426',\n",
       " '₹259',\n",
       " '₹999',\n",
       " '₹319',\n",
       " '₹187',\n",
       " '₹449',\n",
       " '₹759',\n",
       " '₹194',\n",
       " '₹299',\n",
       " '₹181',\n",
       " '₹664',\n",
       " '₹187',\n",
       " '₹175',\n",
       " '₹299',\n",
       " '₹999',\n",
       " '₹196',\n",
       " '₹163',\n",
       " '₹287',\n",
       " '₹711']"
      ]
     },
     "execution_count": 96,
     "metadata": {},
     "output_type": "execute_result"
    }
   ],
   "source": [
    "#fetching the price details in the price list\n",
    "price=[]\n",
    "for i in price_tags:\n",
    "    title=i.text\n",
    "    price.append(title)\n",
    "price[0:100]"
   ]
  },
  {
   "cell_type": "code",
   "execution_count": 97,
   "metadata": {
    "collapsed": true
   },
   "outputs": [
    {
     "name": "stderr",
     "output_type": "stream",
     "text": [
      "<ipython-input-97-3f3ffd2d3907>:2: DeprecationWarning: find_elements_by_* commands are deprecated. Please use find_elements() instead\n",
      "  discount_tags=driver.find_elements_by_xpath('//div[@class=\"_3Ay6Sb\"]')\n"
     ]
    },
    {
     "data": {
      "text/plain": [
       "[<selenium.webdriver.remote.webelement.WebElement (session=\"9edb9b2be3234f4b2fee17e6fce90a00\", element=\"047ba5d3-7c35-4607-954e-5707c0ebffbe\")>,\n",
       " <selenium.webdriver.remote.webelement.WebElement (session=\"9edb9b2be3234f4b2fee17e6fce90a00\", element=\"484cee29-bb84-4839-a1ad-7757f305782d\")>,\n",
       " <selenium.webdriver.remote.webelement.WebElement (session=\"9edb9b2be3234f4b2fee17e6fce90a00\", element=\"7cd261da-fff0-427d-9fa7-1f96e5443493\")>]"
      ]
     },
     "execution_count": 97,
     "metadata": {},
     "output_type": "execute_result"
    }
   ],
   "source": [
    "# Extracting the discount details tags from the url\n",
    "discount_tags=driver.find_elements_by_xpath('//div[@class=\"_3Ay6Sb\"]')\n",
    "discount_tags[0:3]"
   ]
  },
  {
   "cell_type": "code",
   "execution_count": 99,
   "metadata": {
    "collapsed": true
   },
   "outputs": [
    {
     "data": {
      "text/plain": [
       "['50% off',\n",
       " '29% off',\n",
       " '85% off',\n",
       " '90% off',\n",
       " '87% off',\n",
       " '87% off',\n",
       " '22% off',\n",
       " '78% off',\n",
       " '88% off',\n",
       " '86% off',\n",
       " '82% off',\n",
       " '62% off',\n",
       " '89% off',\n",
       " '88% off',\n",
       " '80% off',\n",
       " '66% off',\n",
       " '84% off',\n",
       " '76% off',\n",
       " '78% off',\n",
       " '66% off',\n",
       " '84% off',\n",
       " '84% off',\n",
       " '81% off',\n",
       " '50% off',\n",
       " '84% off',\n",
       " '88% off',\n",
       " '70% off',\n",
       " '62% off',\n",
       " '87% off',\n",
       " '85% off',\n",
       " '81% off',\n",
       " '66% off',\n",
       " '88% off',\n",
       " '64% off',\n",
       " '88% off',\n",
       " '50% off',\n",
       " '82% off',\n",
       " '67% off',\n",
       " '84% off',\n",
       " '64% off']"
      ]
     },
     "execution_count": 99,
     "metadata": {},
     "output_type": "execute_result"
    }
   ],
   "source": [
    "#fetching the discount details in the discount list\n",
    "discount=[]\n",
    "for i in discount_tags:\n",
    "    title=i.text\n",
    "    discount.append(title)\n",
    "discount[0:100]"
   ]
  },
  {
   "cell_type": "code",
   "execution_count": 100,
   "metadata": {},
   "outputs": [],
   "source": [
    "sunglasses=pd.DataFrame({'Brand':brand[0:100],'Product Description':product_desc[0:100],'Price':price[0:100],'Discount':discount[0:100]})"
   ]
  },
  {
   "cell_type": "code",
   "execution_count": 101,
   "metadata": {
    "collapsed": true
   },
   "outputs": [
    {
     "data": {
      "text/html": [
       "<div>\n",
       "<style scoped>\n",
       "    .dataframe tbody tr th:only-of-type {\n",
       "        vertical-align: middle;\n",
       "    }\n",
       "\n",
       "    .dataframe tbody tr th {\n",
       "        vertical-align: top;\n",
       "    }\n",
       "\n",
       "    .dataframe thead th {\n",
       "        text-align: right;\n",
       "    }\n",
       "</style>\n",
       "<table border=\"1\" class=\"dataframe\">\n",
       "  <thead>\n",
       "    <tr style=\"text-align: right;\">\n",
       "      <th></th>\n",
       "      <th>Brand</th>\n",
       "      <th>Product Description</th>\n",
       "      <th>Price</th>\n",
       "      <th>Discount</th>\n",
       "    </tr>\n",
       "  </thead>\n",
       "  <tbody>\n",
       "    <tr>\n",
       "      <th>0</th>\n",
       "      <td>VINCENT CHASE</td>\n",
       "      <td>by Lenskart UV Protection Aviator Sunglasses (53)</td>\n",
       "      <td>₹999</td>\n",
       "      <td>50% off</td>\n",
       "    </tr>\n",
       "    <tr>\n",
       "      <th>1</th>\n",
       "      <td>VINCENT CHASE</td>\n",
       "      <td>by Lenskart Polarized, UV Protection Wayfarer ...</td>\n",
       "      <td>₹1,415</td>\n",
       "      <td>29% off</td>\n",
       "    </tr>\n",
       "    <tr>\n",
       "      <th>2</th>\n",
       "      <td>SRPM</td>\n",
       "      <td>UV Protection Wayfarer Sunglasses (56)</td>\n",
       "      <td>₹188</td>\n",
       "      <td>85% off</td>\n",
       "    </tr>\n",
       "    <tr>\n",
       "      <th>3</th>\n",
       "      <td>Elligator</td>\n",
       "      <td>UV Protection Round Sunglasses (54)</td>\n",
       "      <td>₹248</td>\n",
       "      <td>90% off</td>\n",
       "    </tr>\n",
       "    <tr>\n",
       "      <th>4</th>\n",
       "      <td>New Specs</td>\n",
       "      <td>UV Protection Aviator Sunglasses (54)</td>\n",
       "      <td>₹200</td>\n",
       "      <td>87% off</td>\n",
       "    </tr>\n",
       "    <tr>\n",
       "      <th>5</th>\n",
       "      <td>PIRASO</td>\n",
       "      <td>UV Protection Rectangular Sunglasses (Free Size)</td>\n",
       "      <td>₹259</td>\n",
       "      <td>87% off</td>\n",
       "    </tr>\n",
       "    <tr>\n",
       "      <th>6</th>\n",
       "      <td>Fastrack</td>\n",
       "      <td>UV Protection Wayfarer Sunglasses (Free Size)</td>\n",
       "      <td>₹699</td>\n",
       "      <td>22% off</td>\n",
       "    </tr>\n",
       "    <tr>\n",
       "      <th>7</th>\n",
       "      <td>ROYAL SON</td>\n",
       "      <td>Gradient, UV Protection Round Sunglasses (Free...</td>\n",
       "      <td>₹426</td>\n",
       "      <td>78% off</td>\n",
       "    </tr>\n",
       "    <tr>\n",
       "      <th>8</th>\n",
       "      <td>kingsunglasses</td>\n",
       "      <td>UV Protection Aviator Sunglasses (54)</td>\n",
       "      <td>₹187</td>\n",
       "      <td>88% off</td>\n",
       "    </tr>\n",
       "    <tr>\n",
       "      <th>9</th>\n",
       "      <td>PIRASO</td>\n",
       "      <td>Mirrored, UV Protection Wayfarer Sunglasses (53)</td>\n",
       "      <td>₹274</td>\n",
       "      <td>86% off</td>\n",
       "    </tr>\n",
       "    <tr>\n",
       "      <th>10</th>\n",
       "      <td>kingsunglasses</td>\n",
       "      <td>UV Protection Round Sunglasses (54)</td>\n",
       "      <td>₹189</td>\n",
       "      <td>82% off</td>\n",
       "    </tr>\n",
       "    <tr>\n",
       "      <th>11</th>\n",
       "      <td>ROYAL SON</td>\n",
       "      <td>Polarized, UV Protection Round Sunglasses (52)</td>\n",
       "      <td>₹759</td>\n",
       "      <td>62% off</td>\n",
       "    </tr>\n",
       "    <tr>\n",
       "      <th>12</th>\n",
       "      <td>SHAAH COLLECTIONS</td>\n",
       "      <td>UV Protection, Polarized, Mirrored Rectangular...</td>\n",
       "      <td>₹170</td>\n",
       "      <td>89% off</td>\n",
       "    </tr>\n",
       "    <tr>\n",
       "      <th>13</th>\n",
       "      <td>PIRASO</td>\n",
       "      <td>UV Protection Aviator Sunglasses (55)</td>\n",
       "      <td>₹179</td>\n",
       "      <td>88% off</td>\n",
       "    </tr>\n",
       "    <tr>\n",
       "      <th>14</th>\n",
       "      <td>ROZZETTA CRAFT</td>\n",
       "      <td>UV Protection, Gradient Rectangular Sunglasses...</td>\n",
       "      <td>₹383</td>\n",
       "      <td>80% off</td>\n",
       "    </tr>\n",
       "    <tr>\n",
       "      <th>15</th>\n",
       "      <td>ROYAL SON</td>\n",
       "      <td>UV Protection, Gradient Butterfly Sunglasses (60)</td>\n",
       "      <td>₹664</td>\n",
       "      <td>66% off</td>\n",
       "    </tr>\n",
       "    <tr>\n",
       "      <th>16</th>\n",
       "      <td>ROZZETTA CRAFT</td>\n",
       "      <td>UV Protection, Riding Glasses, Mirrored Wayfar...</td>\n",
       "      <td>₹187</td>\n",
       "      <td>84% off</td>\n",
       "    </tr>\n",
       "    <tr>\n",
       "      <th>17</th>\n",
       "      <td>kingsunglasses</td>\n",
       "      <td>Mirrored Aviator Sunglasses (55)</td>\n",
       "      <td>₹359</td>\n",
       "      <td>76% off</td>\n",
       "    </tr>\n",
       "    <tr>\n",
       "      <th>18</th>\n",
       "      <td>ROYAL SON</td>\n",
       "      <td>UV Protection Retro Square Sunglasses (Free Size)</td>\n",
       "      <td>₹474</td>\n",
       "      <td>78% off</td>\n",
       "    </tr>\n",
       "    <tr>\n",
       "      <th>19</th>\n",
       "      <td>VINCENT CHASE</td>\n",
       "      <td>UV Protection, Gradient Butterfly Sunglasses (60)</td>\n",
       "      <td>₹664</td>\n",
       "      <td>66% off</td>\n",
       "    </tr>\n",
       "    <tr>\n",
       "      <th>20</th>\n",
       "      <td>SUNBEE</td>\n",
       "      <td>UV Protection, Polarized, Mirrored Round Sungl...</td>\n",
       "      <td>₹271</td>\n",
       "      <td>84% off</td>\n",
       "    </tr>\n",
       "    <tr>\n",
       "      <th>21</th>\n",
       "      <td>ROYAL SON</td>\n",
       "      <td>UV Protection Round Sunglasses (Free Size)</td>\n",
       "      <td>₹426</td>\n",
       "      <td>84% off</td>\n",
       "    </tr>\n",
       "    <tr>\n",
       "      <th>22</th>\n",
       "      <td>ROZZETTA CRAFT</td>\n",
       "      <td>Mirrored, UV Protection, Riding Glasses, Other...</td>\n",
       "      <td>₹259</td>\n",
       "      <td>81% off</td>\n",
       "    </tr>\n",
       "    <tr>\n",
       "      <th>23</th>\n",
       "      <td>VINCENT CHASE</td>\n",
       "      <td>by Lenskart UV Protection Aviator Sunglasses (...</td>\n",
       "      <td>₹999</td>\n",
       "      <td>50% off</td>\n",
       "    </tr>\n",
       "    <tr>\n",
       "      <th>24</th>\n",
       "      <td>PIRASO</td>\n",
       "      <td>UV Protection Retro Square Sunglasses (Free Size)</td>\n",
       "      <td>₹319</td>\n",
       "      <td>84% off</td>\n",
       "    </tr>\n",
       "    <tr>\n",
       "      <th>25</th>\n",
       "      <td>PHENOMENAL</td>\n",
       "      <td>UV Protection Wayfarer Sunglasses (32)</td>\n",
       "      <td>₹187</td>\n",
       "      <td>88% off</td>\n",
       "    </tr>\n",
       "    <tr>\n",
       "      <th>26</th>\n",
       "      <td>New Specs</td>\n",
       "      <td>UV Protection Rectangular Sunglasses (58)</td>\n",
       "      <td>₹449</td>\n",
       "      <td>70% off</td>\n",
       "    </tr>\n",
       "    <tr>\n",
       "      <th>27</th>\n",
       "      <td>ROYAL SON</td>\n",
       "      <td>Polarized, UV Protection Wrap-around Sunglasse...</td>\n",
       "      <td>₹759</td>\n",
       "      <td>62% off</td>\n",
       "    </tr>\n",
       "    <tr>\n",
       "      <th>28</th>\n",
       "      <td>SHAAH COLLECTIONS</td>\n",
       "      <td>Mirrored, Riding Glasses, Others Sports Sungla...</td>\n",
       "      <td>₹194</td>\n",
       "      <td>87% off</td>\n",
       "    </tr>\n",
       "    <tr>\n",
       "      <th>29</th>\n",
       "      <td>PIRASO</td>\n",
       "      <td>UV Protection, Mirrored Retro Square Sunglasse...</td>\n",
       "      <td>₹299</td>\n",
       "      <td>85% off</td>\n",
       "    </tr>\n",
       "    <tr>\n",
       "      <th>30</th>\n",
       "      <td>PHENOMENAL</td>\n",
       "      <td>UV Protection, Polarized, Mirrored Rectangular...</td>\n",
       "      <td>₹181</td>\n",
       "      <td>81% off</td>\n",
       "    </tr>\n",
       "    <tr>\n",
       "      <th>31</th>\n",
       "      <td>ROYAL SON</td>\n",
       "      <td>UV Protection, Gradient Over-sized Sunglasses ...</td>\n",
       "      <td>₹664</td>\n",
       "      <td>66% off</td>\n",
       "    </tr>\n",
       "    <tr>\n",
       "      <th>32</th>\n",
       "      <td>Singco India</td>\n",
       "      <td>UV Protection Aviator Sunglasses (54)</td>\n",
       "      <td>₹187</td>\n",
       "      <td>88% off</td>\n",
       "    </tr>\n",
       "    <tr>\n",
       "      <th>33</th>\n",
       "      <td>Rich Club</td>\n",
       "      <td>Polarized Round Sunglasses (48)</td>\n",
       "      <td>₹175</td>\n",
       "      <td>64% off</td>\n",
       "    </tr>\n",
       "    <tr>\n",
       "      <th>34</th>\n",
       "      <td>PIRASO</td>\n",
       "      <td>UV Protection Aviator Sunglasses (58)</td>\n",
       "      <td>₹299</td>\n",
       "      <td>88% off</td>\n",
       "    </tr>\n",
       "    <tr>\n",
       "      <th>35</th>\n",
       "      <td>VINCENT CHASE</td>\n",
       "      <td>by Lenskart UV Protection Aviator Sunglasses (...</td>\n",
       "      <td>₹999</td>\n",
       "      <td>50% off</td>\n",
       "    </tr>\n",
       "    <tr>\n",
       "      <th>36</th>\n",
       "      <td>hipe</td>\n",
       "      <td>Gradient Aviator Sunglasses (55)</td>\n",
       "      <td>₹196</td>\n",
       "      <td>82% off</td>\n",
       "    </tr>\n",
       "    <tr>\n",
       "      <th>37</th>\n",
       "      <td>Rich Club</td>\n",
       "      <td>Polarized Round Sunglasses (48)</td>\n",
       "      <td>₹163</td>\n",
       "      <td>67% off</td>\n",
       "    </tr>\n",
       "    <tr>\n",
       "      <th>38</th>\n",
       "      <td>agera</td>\n",
       "      <td>UV Protection Sports Sunglasses (Free Size)</td>\n",
       "      <td>₹287</td>\n",
       "      <td>84% off</td>\n",
       "    </tr>\n",
       "    <tr>\n",
       "      <th>39</th>\n",
       "      <td>ROYAL SON</td>\n",
       "      <td>Polarized, UV Protection Aviator Sunglasses (58)</td>\n",
       "      <td>₹711</td>\n",
       "      <td>64% off</td>\n",
       "    </tr>\n",
       "  </tbody>\n",
       "</table>\n",
       "</div>"
      ],
      "text/plain": [
       "                Brand                                Product Description  \\\n",
       "0       VINCENT CHASE  by Lenskart UV Protection Aviator Sunglasses (53)   \n",
       "1       VINCENT CHASE  by Lenskart Polarized, UV Protection Wayfarer ...   \n",
       "2                SRPM             UV Protection Wayfarer Sunglasses (56)   \n",
       "3           Elligator                UV Protection Round Sunglasses (54)   \n",
       "4           New Specs              UV Protection Aviator Sunglasses (54)   \n",
       "5              PIRASO   UV Protection Rectangular Sunglasses (Free Size)   \n",
       "6            Fastrack      UV Protection Wayfarer Sunglasses (Free Size)   \n",
       "7           ROYAL SON  Gradient, UV Protection Round Sunglasses (Free...   \n",
       "8      kingsunglasses              UV Protection Aviator Sunglasses (54)   \n",
       "9              PIRASO   Mirrored, UV Protection Wayfarer Sunglasses (53)   \n",
       "10     kingsunglasses                UV Protection Round Sunglasses (54)   \n",
       "11          ROYAL SON     Polarized, UV Protection Round Sunglasses (52)   \n",
       "12  SHAAH COLLECTIONS  UV Protection, Polarized, Mirrored Rectangular...   \n",
       "13             PIRASO              UV Protection Aviator Sunglasses (55)   \n",
       "14     ROZZETTA CRAFT  UV Protection, Gradient Rectangular Sunglasses...   \n",
       "15          ROYAL SON  UV Protection, Gradient Butterfly Sunglasses (60)   \n",
       "16     ROZZETTA CRAFT  UV Protection, Riding Glasses, Mirrored Wayfar...   \n",
       "17     kingsunglasses                   Mirrored Aviator Sunglasses (55)   \n",
       "18          ROYAL SON  UV Protection Retro Square Sunglasses (Free Size)   \n",
       "19      VINCENT CHASE  UV Protection, Gradient Butterfly Sunglasses (60)   \n",
       "20             SUNBEE  UV Protection, Polarized, Mirrored Round Sungl...   \n",
       "21          ROYAL SON         UV Protection Round Sunglasses (Free Size)   \n",
       "22     ROZZETTA CRAFT  Mirrored, UV Protection, Riding Glasses, Other...   \n",
       "23      VINCENT CHASE  by Lenskart UV Protection Aviator Sunglasses (...   \n",
       "24             PIRASO  UV Protection Retro Square Sunglasses (Free Size)   \n",
       "25         PHENOMENAL             UV Protection Wayfarer Sunglasses (32)   \n",
       "26          New Specs          UV Protection Rectangular Sunglasses (58)   \n",
       "27          ROYAL SON  Polarized, UV Protection Wrap-around Sunglasse...   \n",
       "28  SHAAH COLLECTIONS  Mirrored, Riding Glasses, Others Sports Sungla...   \n",
       "29             PIRASO  UV Protection, Mirrored Retro Square Sunglasse...   \n",
       "30         PHENOMENAL  UV Protection, Polarized, Mirrored Rectangular...   \n",
       "31          ROYAL SON  UV Protection, Gradient Over-sized Sunglasses ...   \n",
       "32       Singco India              UV Protection Aviator Sunglasses (54)   \n",
       "33          Rich Club                    Polarized Round Sunglasses (48)   \n",
       "34             PIRASO              UV Protection Aviator Sunglasses (58)   \n",
       "35      VINCENT CHASE  by Lenskart UV Protection Aviator Sunglasses (...   \n",
       "36               hipe                   Gradient Aviator Sunglasses (55)   \n",
       "37          Rich Club                    Polarized Round Sunglasses (48)   \n",
       "38              agera        UV Protection Sports Sunglasses (Free Size)   \n",
       "39          ROYAL SON   Polarized, UV Protection Aviator Sunglasses (58)   \n",
       "\n",
       "     Price Discount  \n",
       "0     ₹999  50% off  \n",
       "1   ₹1,415  29% off  \n",
       "2     ₹188  85% off  \n",
       "3     ₹248  90% off  \n",
       "4     ₹200  87% off  \n",
       "5     ₹259  87% off  \n",
       "6     ₹699  22% off  \n",
       "7     ₹426  78% off  \n",
       "8     ₹187  88% off  \n",
       "9     ₹274  86% off  \n",
       "10    ₹189  82% off  \n",
       "11    ₹759  62% off  \n",
       "12    ₹170  89% off  \n",
       "13    ₹179  88% off  \n",
       "14    ₹383  80% off  \n",
       "15    ₹664  66% off  \n",
       "16    ₹187  84% off  \n",
       "17    ₹359  76% off  \n",
       "18    ₹474  78% off  \n",
       "19    ₹664  66% off  \n",
       "20    ₹271  84% off  \n",
       "21    ₹426  84% off  \n",
       "22    ₹259  81% off  \n",
       "23    ₹999  50% off  \n",
       "24    ₹319  84% off  \n",
       "25    ₹187  88% off  \n",
       "26    ₹449  70% off  \n",
       "27    ₹759  62% off  \n",
       "28    ₹194  87% off  \n",
       "29    ₹299  85% off  \n",
       "30    ₹181  81% off  \n",
       "31    ₹664  66% off  \n",
       "32    ₹187  88% off  \n",
       "33    ₹175  64% off  \n",
       "34    ₹299  88% off  \n",
       "35    ₹999  50% off  \n",
       "36    ₹196  82% off  \n",
       "37    ₹163  67% off  \n",
       "38    ₹287  84% off  \n",
       "39    ₹711  64% off  "
      ]
     },
     "execution_count": 101,
     "metadata": {},
     "output_type": "execute_result"
    }
   ],
   "source": [
    "sunglasses"
   ]
  },
  {
   "cell_type": "code",
   "execution_count": 102,
   "metadata": {},
   "outputs": [
    {
     "name": "stderr",
     "output_type": "stream",
     "text": [
      "<ipython-input-102-4290104dcacb>:2: DeprecationWarning: find_element_by_* commands are deprecated. Please use find_element() instead\n",
      "  next_btn=driver.find_element_by_xpath('//a[@class=\"_1LKTO3\"]')\n"
     ]
    }
   ],
   "source": [
    "#Going to the next page\n",
    "next_btn=driver.find_element_by_xpath('//a[@class=\"_1LKTO3\"]')\n",
    "next_btn.click()"
   ]
  },
  {
   "cell_type": "code",
   "execution_count": 103,
   "metadata": {},
   "outputs": [],
   "source": [
    "url2=r'https://www.flipkart.com/search?q=sunglasses&otracker=search&otracker1=search&marketplace=FLIPKART&as-show=on&as=off&page=2'\n",
    "driver.get(url2)"
   ]
  },
  {
   "cell_type": "code",
   "execution_count": 104,
   "metadata": {
    "collapsed": true
   },
   "outputs": [
    {
     "name": "stderr",
     "output_type": "stream",
     "text": [
      "<ipython-input-104-aed3e99e9ce5>:1: DeprecationWarning: find_elements_by_* commands are deprecated. Please use find_elements() instead\n",
      "  brand_tags2=driver.find_elements_by_xpath('//div[@class=\"_2WkVRV\"]')\n",
      "<ipython-input-104-aed3e99e9ce5>:2: DeprecationWarning: find_elements_by_* commands are deprecated. Please use find_elements() instead\n",
      "  product_tags2=driver.find_elements_by_xpath('//a[@class=\"IRpwTa\"]')\n",
      "<ipython-input-104-aed3e99e9ce5>:3: DeprecationWarning: find_elements_by_* commands are deprecated. Please use find_elements() instead\n",
      "  price_tags2=driver.find_elements_by_xpath('//div[@class=\"_30jeq3\"]')\n",
      "<ipython-input-104-aed3e99e9ce5>:4: DeprecationWarning: find_elements_by_* commands are deprecated. Please use find_elements() instead\n",
      "  discount_tags2=driver.find_elements_by_xpath('//div[@class=\"_3Ay6Sb\"]')\n"
     ]
    }
   ],
   "source": [
    "# Extracting attribute tags from page 2\n",
    "brand_tags2=driver.find_elements_by_xpath('//div[@class=\"_2WkVRV\"]')\n",
    "product_tags2=driver.find_elements_by_xpath('//a[@class=\"IRpwTa\"]')\n",
    "price_tags2=driver.find_elements_by_xpath('//div[@class=\"_30jeq3\"]')\n",
    "discount_tags2=driver.find_elements_by_xpath('//div[@class=\"_3Ay6Sb\"]')"
   ]
  },
  {
   "cell_type": "code",
   "execution_count": 105,
   "metadata": {},
   "outputs": [],
   "source": [
    "# Fetching attribute details in the lists\n",
    "for i in brand_tags2:\n",
    "    brand.append(i.text)\n",
    "for j in product_tags2:\n",
    "    product_desc.append(j.text)\n",
    "for k in price_tags2:\n",
    "    price.append(k.text)\n",
    "for l in discount_tags2:\n",
    "    discount.append(l.text)"
   ]
  },
  {
   "cell_type": "markdown",
   "metadata": {},
   "source": [
    "Till now we have fetched the details of 80 sunglasses"
   ]
  },
  {
   "cell_type": "code",
   "execution_count": 113,
   "metadata": {},
   "outputs": [
    {
     "name": "stderr",
     "output_type": "stream",
     "text": [
      "<ipython-input-113-4290104dcacb>:2: DeprecationWarning: find_element_by_* commands are deprecated. Please use find_element() instead\n",
      "  next_btn=driver.find_element_by_xpath('//a[@class=\"_1LKTO3\"]')\n"
     ]
    }
   ],
   "source": [
    "#Going to the next page\n",
    "next_btn=driver.find_element_by_xpath('//a[@class=\"_1LKTO3\"]')\n",
    "next_btn.click()"
   ]
  },
  {
   "cell_type": "code",
   "execution_count": 114,
   "metadata": {},
   "outputs": [],
   "source": [
    "url3=r'https://www.flipkart.com/search?q=sunglasses&otracker=search&otracker1=search&marketplace=FLIPKART&as-show=on&as=off&page=3'"
   ]
  },
  {
   "cell_type": "code",
   "execution_count": 115,
   "metadata": {},
   "outputs": [],
   "source": [
    "driver.get(url3)"
   ]
  },
  {
   "cell_type": "code",
   "execution_count": 116,
   "metadata": {
    "collapsed": true
   },
   "outputs": [
    {
     "name": "stderr",
     "output_type": "stream",
     "text": [
      "<ipython-input-116-02a1714be9df>:2: DeprecationWarning: find_elements_by_* commands are deprecated. Please use find_elements() instead\n",
      "  brand_tags3=driver.find_elements_by_xpath('//div[@class=\"_2WkVRV\"]')\n",
      "<ipython-input-116-02a1714be9df>:3: DeprecationWarning: find_elements_by_* commands are deprecated. Please use find_elements() instead\n",
      "  product_tags3=driver.find_elements_by_xpath('//a[@class=\"IRpwTa\"]')\n",
      "<ipython-input-116-02a1714be9df>:4: DeprecationWarning: find_elements_by_* commands are deprecated. Please use find_elements() instead\n",
      "  price_tags3=driver.find_elements_by_xpath('//div[@class=\"_30jeq3\"]')\n",
      "<ipython-input-116-02a1714be9df>:5: DeprecationWarning: find_elements_by_* commands are deprecated. Please use find_elements() instead\n",
      "  discount_tags3=driver.find_elements_by_xpath('//div[@class=\"_3Ay6Sb\"]')\n"
     ]
    }
   ],
   "source": [
    "# Extracting attribute tags from page 3\n",
    "brand_tags3=driver.find_elements_by_xpath('//div[@class=\"_2WkVRV\"]')\n",
    "product_tags3=driver.find_elements_by_xpath('//a[@class=\"IRpwTa\"]')\n",
    "price_tags3=driver.find_elements_by_xpath('//div[@class=\"_30jeq3\"]')\n",
    "discount_tags3=driver.find_elements_by_xpath('//div[@class=\"_3Ay6Sb\"]')"
   ]
  },
  {
   "cell_type": "code",
   "execution_count": 117,
   "metadata": {},
   "outputs": [],
   "source": [
    "# Fetching attribute details in the lists\n",
    "for i in brand_tags3:\n",
    "    brand.append(i.text)\n",
    "for j in product_tags3:\n",
    "    product_desc.append(j.text)\n",
    "for k in price_tags3:\n",
    "    price.append(k.text)\n",
    "for l in discount_tags3:\n",
    "    discount.append(l.text)"
   ]
  },
  {
   "cell_type": "code",
   "execution_count": 119,
   "metadata": {},
   "outputs": [
    {
     "data": {
      "text/plain": [
       "120"
      ]
     },
     "execution_count": 119,
     "metadata": {},
     "output_type": "execute_result"
    }
   ],
   "source": [
    "len(brand)"
   ]
  },
  {
   "cell_type": "code",
   "execution_count": 120,
   "metadata": {},
   "outputs": [],
   "source": [
    "sunglasses_final=pd.DataFrame({'Brand':brand[0:100],'Product Description':product_desc[0:100],'Price':price[0:100],'Discount':discount[0:100]})"
   ]
  },
  {
   "cell_type": "code",
   "execution_count": 121,
   "metadata": {},
   "outputs": [
    {
     "data": {
      "text/html": [
       "<div>\n",
       "<style scoped>\n",
       "    .dataframe tbody tr th:only-of-type {\n",
       "        vertical-align: middle;\n",
       "    }\n",
       "\n",
       "    .dataframe tbody tr th {\n",
       "        vertical-align: top;\n",
       "    }\n",
       "\n",
       "    .dataframe thead th {\n",
       "        text-align: right;\n",
       "    }\n",
       "</style>\n",
       "<table border=\"1\" class=\"dataframe\">\n",
       "  <thead>\n",
       "    <tr style=\"text-align: right;\">\n",
       "      <th></th>\n",
       "      <th>Brand</th>\n",
       "      <th>Product Description</th>\n",
       "      <th>Price</th>\n",
       "      <th>Discount</th>\n",
       "    </tr>\n",
       "  </thead>\n",
       "  <tbody>\n",
       "    <tr>\n",
       "      <th>0</th>\n",
       "      <td>VINCENT CHASE</td>\n",
       "      <td>by Lenskart UV Protection Aviator Sunglasses (53)</td>\n",
       "      <td>₹999</td>\n",
       "      <td>50% off</td>\n",
       "    </tr>\n",
       "    <tr>\n",
       "      <th>1</th>\n",
       "      <td>VINCENT CHASE</td>\n",
       "      <td>by Lenskart Polarized, UV Protection Wayfarer ...</td>\n",
       "      <td>₹1,415</td>\n",
       "      <td>29% off</td>\n",
       "    </tr>\n",
       "    <tr>\n",
       "      <th>2</th>\n",
       "      <td>SRPM</td>\n",
       "      <td>UV Protection Wayfarer Sunglasses (56)</td>\n",
       "      <td>₹188</td>\n",
       "      <td>85% off</td>\n",
       "    </tr>\n",
       "    <tr>\n",
       "      <th>3</th>\n",
       "      <td>Elligator</td>\n",
       "      <td>UV Protection Round Sunglasses (54)</td>\n",
       "      <td>₹248</td>\n",
       "      <td>90% off</td>\n",
       "    </tr>\n",
       "    <tr>\n",
       "      <th>4</th>\n",
       "      <td>New Specs</td>\n",
       "      <td>UV Protection Aviator Sunglasses (54)</td>\n",
       "      <td>₹200</td>\n",
       "      <td>87% off</td>\n",
       "    </tr>\n",
       "    <tr>\n",
       "      <th>...</th>\n",
       "      <td>...</td>\n",
       "      <td>...</td>\n",
       "      <td>...</td>\n",
       "      <td>...</td>\n",
       "    </tr>\n",
       "    <tr>\n",
       "      <th>95</th>\n",
       "      <td>ROYAL SON</td>\n",
       "      <td>UV Protection, Gradient Butterfly Sunglasses (60)</td>\n",
       "      <td>₹664</td>\n",
       "      <td>66% off</td>\n",
       "    </tr>\n",
       "    <tr>\n",
       "      <th>96</th>\n",
       "      <td>hipe</td>\n",
       "      <td>UV Protection, Gradient, Riding Glasses Wayfar...</td>\n",
       "      <td>₹233</td>\n",
       "      <td>76% off</td>\n",
       "    </tr>\n",
       "    <tr>\n",
       "      <th>97</th>\n",
       "      <td>kingsunglasses</td>\n",
       "      <td>UV Protection Rectangular Sunglasses (55)</td>\n",
       "      <td>₹259</td>\n",
       "      <td>82% off</td>\n",
       "    </tr>\n",
       "    <tr>\n",
       "      <th>98</th>\n",
       "      <td>GANSTA</td>\n",
       "      <td>UV Protection, Gradient Wayfarer Sunglasses (53)</td>\n",
       "      <td>₹296</td>\n",
       "      <td>85% off</td>\n",
       "    </tr>\n",
       "    <tr>\n",
       "      <th>99</th>\n",
       "      <td>VINCENT CHASE</td>\n",
       "      <td>by Lenskart Polarized, UV Protection Aviator S...</td>\n",
       "      <td>₹999</td>\n",
       "      <td>60% off</td>\n",
       "    </tr>\n",
       "  </tbody>\n",
       "</table>\n",
       "<p>100 rows × 4 columns</p>\n",
       "</div>"
      ],
      "text/plain": [
       "             Brand                                Product Description   Price  \\\n",
       "0    VINCENT CHASE  by Lenskart UV Protection Aviator Sunglasses (53)    ₹999   \n",
       "1    VINCENT CHASE  by Lenskart Polarized, UV Protection Wayfarer ...  ₹1,415   \n",
       "2             SRPM             UV Protection Wayfarer Sunglasses (56)    ₹188   \n",
       "3        Elligator                UV Protection Round Sunglasses (54)    ₹248   \n",
       "4        New Specs              UV Protection Aviator Sunglasses (54)    ₹200   \n",
       "..             ...                                                ...     ...   \n",
       "95       ROYAL SON  UV Protection, Gradient Butterfly Sunglasses (60)    ₹664   \n",
       "96            hipe  UV Protection, Gradient, Riding Glasses Wayfar...    ₹233   \n",
       "97  kingsunglasses          UV Protection Rectangular Sunglasses (55)    ₹259   \n",
       "98          GANSTA   UV Protection, Gradient Wayfarer Sunglasses (53)    ₹296   \n",
       "99   VINCENT CHASE  by Lenskart Polarized, UV Protection Aviator S...    ₹999   \n",
       "\n",
       "   Discount  \n",
       "0   50% off  \n",
       "1   29% off  \n",
       "2   85% off  \n",
       "3   90% off  \n",
       "4   87% off  \n",
       "..      ...  \n",
       "95  66% off  \n",
       "96  76% off  \n",
       "97  82% off  \n",
       "98  85% off  \n",
       "99  60% off  \n",
       "\n",
       "[100 rows x 4 columns]"
      ]
     },
     "execution_count": 121,
     "metadata": {},
     "output_type": "execute_result"
    }
   ],
   "source": [
    "sunglasses_final"
   ]
  },
  {
   "cell_type": "code",
   "execution_count": 124,
   "metadata": {},
   "outputs": [],
   "source": [
    "driver.close()"
   ]
  },
  {
   "cell_type": "markdown",
   "metadata": {},
   "source": [
    "Q5: Scrape 100 reviews data from flipkart.com for iphone11 phone. You have to go the link: \n",
    "https://www.flipkart.com/apple-iphone-11-black-64-gb-includes- earpods-power\u0002adapter/p/itm0f37c2240b217?pid=MOBFKCTSVZAXUHGR&lid=LSTMOBFKC \n",
    "TSVZAXUHGREPBFGI&marketplace. When you will open the above link you will reach to the below shown webpage . \n",
    "As shown in the above page you have to scrape the tick marked attributes. These are: \n",
    "1. Rating \n",
    "2. Review_summary \n",
    "3. Full review \n",
    "4. You have to scrape this data for first 100 reviews. \n",
    "Note: All the steps required during scraping should be done through code only and not manually. "
   ]
  },
  {
   "cell_type": "code",
   "execution_count": 231,
   "metadata": {
    "collapsed": true
   },
   "outputs": [
    {
     "name": "stderr",
     "output_type": "stream",
     "text": [
      "<ipython-input-231-7d6096613a30>:2: DeprecationWarning: executable_path has been deprecated, please pass in a Service object\n",
      "  driver=webdriver.Chrome(r'C:/Users/quccs/Downloads/chromedriver_win32/chromedriver.exe')\n",
      "<ipython-input-231-7d6096613a30>:5: DeprecationWarning: find_element_by_* commands are deprecated. Please use find_element() instead\n",
      "  search_item = driver.find_element_by_xpath('//input[@placeholder=\"Search for products, brands and more\"]')\n"
     ]
    }
   ],
   "source": [
    "# Lets connect to the webdriver\n",
    "driver=webdriver.Chrome(r'C:/Users/quccs/Downloads/chromedriver_win32/chromedriver.exe')\n",
    "driver.get('https://www.flipkart.com/')\n",
    "# Searching for iphone\n",
    "search_item = driver.find_element_by_xpath('//input[@placeholder=\"Search for products, brands and more\"]')\n",
    "search_item.send_keys('iphone11')\n",
    "\n",
    "\n"
   ]
  },
  {
   "cell_type": "code",
   "execution_count": 232,
   "metadata": {
    "collapsed": true
   },
   "outputs": [
    {
     "name": "stderr",
     "output_type": "stream",
     "text": [
      "<ipython-input-232-69f214e522e2>:1: DeprecationWarning: find_element_by_* commands are deprecated. Please use find_element() instead\n",
      "  search_btn1=driver.find_element_by_xpath('//button[@class=\"L0Z3Pu\"]')\n"
     ]
    }
   ],
   "source": [
    "search_btn1=driver.find_element_by_xpath('//button[@class=\"L0Z3Pu\"]')\n",
    "search_btn1.click()"
   ]
  },
  {
   "cell_type": "code",
   "execution_count": null,
   "metadata": {},
   "outputs": [],
   "source": []
  },
  {
   "cell_type": "markdown",
   "metadata": {},
   "source": []
  },
  {
   "cell_type": "code",
   "execution_count": 234,
   "metadata": {},
   "outputs": [],
   "source": [
    "urli=r'https://www.flipkart.com/apple-iphone-11-yellow-128-gb/product-reviews/itm7030edc9e100e?pid=MOBFWQ6BWTSBJSHY&lid=LSTMOBFWQ6BWTSBJSHYXWKEX2&marketplace=FLIPKART'\n",
    "driver.get(urli)"
   ]
  },
  {
   "cell_type": "code",
   "execution_count": 235,
   "metadata": {
    "collapsed": true
   },
   "outputs": [
    {
     "name": "stderr",
     "output_type": "stream",
     "text": [
      "<ipython-input-235-70678b05117a>:2: DeprecationWarning: find_elements_by_* commands are deprecated. Please use find_elements() instead\n",
      "  rating_tags=driver.find_elements_by_xpath('//div[@class=\"_3LWZlK _1BLPMq\"]')\n",
      "<ipython-input-235-70678b05117a>:3: DeprecationWarning: find_elements_by_* commands are deprecated. Please use find_elements() instead\n",
      "  review_summary_tags=driver.find_elements_by_xpath('//p[@class=\"_2-N8zT\"]')\n",
      "<ipython-input-235-70678b05117a>:4: DeprecationWarning: find_elements_by_* commands are deprecated. Please use find_elements() instead\n",
      "  full_summary_tags=driver.find_elements_by_xpath('//div[@class=\"t-ZTKy\"]')\n"
     ]
    }
   ],
   "source": [
    "# Extracting attribute tags from page 1\n",
    "rating_tags=driver.find_elements_by_xpath('//div[@class=\"_3LWZlK _1BLPMq\"]')\n",
    "review_summary_tags=driver.find_elements_by_xpath('//p[@class=\"_2-N8zT\"]')\n",
    "full_summary_tags=driver.find_elements_by_xpath('//div[@class=\"t-ZTKy\"]')"
   ]
  },
  {
   "cell_type": "code",
   "execution_count": 236,
   "metadata": {},
   "outputs": [],
   "source": [
    "rating=[]\n",
    "review=[]\n",
    "full_summary=[]\n",
    "for i in rating_tags:\n",
    "    rating.append(i.text)\n",
    "for j in review_summary_tags:\n",
    "    review.append(j.text)\n",
    "for k in full_summary_tags:\n",
    "    full_summary.append(k.text)\n",
    "    "
   ]
  },
  {
   "cell_type": "code",
   "execution_count": 237,
   "metadata": {
    "collapsed": true
   },
   "outputs": [
    {
     "name": "stderr",
     "output_type": "stream",
     "text": [
      "<ipython-input-237-16851250a1e3>:1: DeprecationWarning: find_element_by_* commands are deprecated. Please use find_element() instead\n",
      "  page2=driver.find_element_by_link_text(\"2\")\n"
     ]
    }
   ],
   "source": [
    "page2=driver.find_element_by_link_text(\"2\")\n",
    "page2.click()\n"
   ]
  },
  {
   "cell_type": "code",
   "execution_count": 238,
   "metadata": {
    "collapsed": true
   },
   "outputs": [
    {
     "name": "stderr",
     "output_type": "stream",
     "text": [
      "<ipython-input-238-72956c4af977>:2: DeprecationWarning: find_elements_by_* commands are deprecated. Please use find_elements() instead\n",
      "  rating_tags=driver.find_elements_by_xpath('//div[@class=\"_3LWZlK _1BLPMq\"]')\n",
      "<ipython-input-238-72956c4af977>:3: DeprecationWarning: find_elements_by_* commands are deprecated. Please use find_elements() instead\n",
      "  review_summary_tags=driver.find_elements_by_xpath('//p[@class=\"_2-N8zT\"]')\n",
      "<ipython-input-238-72956c4af977>:4: DeprecationWarning: find_elements_by_* commands are deprecated. Please use find_elements() instead\n",
      "  full_summary_tags=driver.find_elements_by_xpath('//div[@class=\"t-ZTKy\"]')\n"
     ]
    }
   ],
   "source": [
    "#Extracting tags from page 2\n",
    "rating_tags=driver.find_elements_by_xpath('//div[@class=\"_3LWZlK _1BLPMq\"]')\n",
    "review_summary_tags=driver.find_elements_by_xpath('//p[@class=\"_2-N8zT\"]')\n",
    "full_summary_tags=driver.find_elements_by_xpath('//div[@class=\"t-ZTKy\"]')\n",
    "\n",
    "#Fetching data into list\n",
    "for i in rating_tags:\n",
    "    rating.append(i.text)\n",
    "for j in review_summary_tags:\n",
    "    review.append(j.text)\n",
    "for k in full_summary_tags:\n",
    "    full_summary.append(k.text)\n",
    "    \n"
   ]
  },
  {
   "cell_type": "code",
   "execution_count": 239,
   "metadata": {
    "collapsed": true
   },
   "outputs": [
    {
     "name": "stderr",
     "output_type": "stream",
     "text": [
      "<ipython-input-239-46655fad5929>:1: DeprecationWarning: find_element_by_* commands are deprecated. Please use find_element() instead\n",
      "  page3=driver.find_element_by_link_text(\"3\")\n",
      "<ipython-input-239-46655fad5929>:4: DeprecationWarning: find_elements_by_* commands are deprecated. Please use find_elements() instead\n",
      "  rating_tags=driver.find_elements_by_xpath('//div[@class=\"_3LWZlK _1BLPMq\"]')\n",
      "<ipython-input-239-46655fad5929>:5: DeprecationWarning: find_elements_by_* commands are deprecated. Please use find_elements() instead\n",
      "  review_summary_tags=driver.find_elements_by_xpath('//p[@class=\"_2-N8zT\"]')\n",
      "<ipython-input-239-46655fad5929>:6: DeprecationWarning: find_elements_by_* commands are deprecated. Please use find_elements() instead\n",
      "  full_summary_tags=driver.find_elements_by_xpath('//div[@class=\"t-ZTKy\"]')\n"
     ]
    }
   ],
   "source": [
    "page3=driver.find_element_by_link_text(\"3\")\n",
    "page3.click()\n",
    "#Extracting tags from page 3\n",
    "rating_tags=driver.find_elements_by_xpath('//div[@class=\"_3LWZlK _1BLPMq\"]')\n",
    "review_summary_tags=driver.find_elements_by_xpath('//p[@class=\"_2-N8zT\"]')\n",
    "full_summary_tags=driver.find_elements_by_xpath('//div[@class=\"t-ZTKy\"]')\n",
    "\n",
    "#Fetching data into list\n",
    "for i in rating_tags:\n",
    "    rating.append(i.text)\n",
    "for j in review_summary_tags:\n",
    "    review.append(j.text)\n",
    "for k in full_summary_tags:\n",
    "    full_summary.append(k.text)"
   ]
  },
  {
   "cell_type": "code",
   "execution_count": 241,
   "metadata": {
    "collapsed": true
   },
   "outputs": [
    {
     "name": "stderr",
     "output_type": "stream",
     "text": [
      "<ipython-input-241-8f8a642c96ed>:1: DeprecationWarning: find_element_by_* commands are deprecated. Please use find_element() instead\n",
      "  page4=driver.find_element_by_link_text(\"4\")\n",
      "<ipython-input-241-8f8a642c96ed>:4: DeprecationWarning: find_elements_by_* commands are deprecated. Please use find_elements() instead\n",
      "  rating_tags=driver.find_elements_by_xpath('//div[@class=\"_3LWZlK _1BLPMq\"]')\n",
      "<ipython-input-241-8f8a642c96ed>:5: DeprecationWarning: find_elements_by_* commands are deprecated. Please use find_elements() instead\n",
      "  review_summary_tags=driver.find_elements_by_xpath('//p[@class=\"_2-N8zT\"]')\n",
      "<ipython-input-241-8f8a642c96ed>:6: DeprecationWarning: find_elements_by_* commands are deprecated. Please use find_elements() instead\n",
      "  full_summary_tags=driver.find_elements_by_xpath('//div[@class=\"t-ZTKy\"]')\n"
     ]
    }
   ],
   "source": [
    "page4=driver.find_element_by_link_text(\"4\")\n",
    "page4.click()\n",
    "#Extracting tags from page 4\n",
    "rating_tags=driver.find_elements_by_xpath('//div[@class=\"_3LWZlK _1BLPMq\"]')\n",
    "review_summary_tags=driver.find_elements_by_xpath('//p[@class=\"_2-N8zT\"]')\n",
    "full_summary_tags=driver.find_elements_by_xpath('//div[@class=\"t-ZTKy\"]')\n",
    "\n",
    "#Fetching data into list\n",
    "for i in rating_tags:\n",
    "    rating.append(i.text)\n",
    "for j in review_summary_tags:\n",
    "    review.append(j.text)\n",
    "for k in full_summary_tags:\n",
    "    full_summary.append(k.text)"
   ]
  },
  {
   "cell_type": "code",
   "execution_count": 242,
   "metadata": {
    "collapsed": true
   },
   "outputs": [
    {
     "name": "stderr",
     "output_type": "stream",
     "text": [
      "<ipython-input-242-4fff79b51b44>:1: DeprecationWarning: find_element_by_* commands are deprecated. Please use find_element() instead\n",
      "  page5=driver.find_element_by_link_text(\"5\")\n",
      "<ipython-input-242-4fff79b51b44>:4: DeprecationWarning: find_elements_by_* commands are deprecated. Please use find_elements() instead\n",
      "  rating_tags=driver.find_elements_by_xpath('//div[@class=\"_3LWZlK _1BLPMq\"]')\n",
      "<ipython-input-242-4fff79b51b44>:5: DeprecationWarning: find_elements_by_* commands are deprecated. Please use find_elements() instead\n",
      "  review_summary_tags=driver.find_elements_by_xpath('//p[@class=\"_2-N8zT\"]')\n",
      "<ipython-input-242-4fff79b51b44>:6: DeprecationWarning: find_elements_by_* commands are deprecated. Please use find_elements() instead\n",
      "  full_summary_tags=driver.find_elements_by_xpath('//div[@class=\"t-ZTKy\"]')\n"
     ]
    }
   ],
   "source": [
    "page5=driver.find_element_by_link_text(\"5\")\n",
    "page5.click()\n",
    "#Extracting tags from page 5\n",
    "rating_tags=driver.find_elements_by_xpath('//div[@class=\"_3LWZlK _1BLPMq\"]')\n",
    "review_summary_tags=driver.find_elements_by_xpath('//p[@class=\"_2-N8zT\"]')\n",
    "full_summary_tags=driver.find_elements_by_xpath('//div[@class=\"t-ZTKy\"]')\n",
    "\n",
    "#Fetching data into list\n",
    "for i in rating_tags:\n",
    "    rating.append(i.text)\n",
    "for j in review_summary_tags:\n",
    "    review.append(j.text)\n",
    "for k in full_summary_tags:\n",
    "    full_summary.append(k.text)"
   ]
  },
  {
   "cell_type": "code",
   "execution_count": 244,
   "metadata": {
    "collapsed": true
   },
   "outputs": [
    {
     "name": "stderr",
     "output_type": "stream",
     "text": [
      "<ipython-input-244-5a1b16410fc1>:1: DeprecationWarning: find_element_by_* commands are deprecated. Please use find_element() instead\n",
      "  page6=driver.find_element_by_link_text(\"6\")\n",
      "<ipython-input-244-5a1b16410fc1>:4: DeprecationWarning: find_elements_by_* commands are deprecated. Please use find_elements() instead\n",
      "  rating_tags=driver.find_elements_by_xpath('//div[@class=\"_3LWZlK _1BLPMq\"]')\n",
      "<ipython-input-244-5a1b16410fc1>:5: DeprecationWarning: find_elements_by_* commands are deprecated. Please use find_elements() instead\n",
      "  review_summary_tags=driver.find_elements_by_xpath('//p[@class=\"_2-N8zT\"]')\n",
      "<ipython-input-244-5a1b16410fc1>:6: DeprecationWarning: find_elements_by_* commands are deprecated. Please use find_elements() instead\n",
      "  full_summary_tags=driver.find_elements_by_xpath('//div[@class=\"t-ZTKy\"]')\n"
     ]
    }
   ],
   "source": [
    "page6=driver.find_element_by_link_text(\"6\")\n",
    "page6.click()\n",
    "#Extracting tags from page 6\n",
    "rating_tags=driver.find_elements_by_xpath('//div[@class=\"_3LWZlK _1BLPMq\"]')\n",
    "review_summary_tags=driver.find_elements_by_xpath('//p[@class=\"_2-N8zT\"]')\n",
    "full_summary_tags=driver.find_elements_by_xpath('//div[@class=\"t-ZTKy\"]')\n",
    "\n",
    "#Fetching data into list\n",
    "for i in rating_tags:\n",
    "    rating.append(i.text)\n",
    "for j in review_summary_tags:\n",
    "    review.append(j.text)\n",
    "for k in full_summary_tags:\n",
    "    full_summary.append(k.text)"
   ]
  },
  {
   "cell_type": "code",
   "execution_count": 245,
   "metadata": {
    "collapsed": true
   },
   "outputs": [
    {
     "name": "stderr",
     "output_type": "stream",
     "text": [
      "<ipython-input-245-b0ddea72e3bb>:1: DeprecationWarning: find_element_by_* commands are deprecated. Please use find_element() instead\n",
      "  page7=driver.find_element_by_link_text(\"7\")\n",
      "<ipython-input-245-b0ddea72e3bb>:4: DeprecationWarning: find_elements_by_* commands are deprecated. Please use find_elements() instead\n",
      "  rating_tags=driver.find_elements_by_xpath('//div[@class=\"_3LWZlK _1BLPMq\"]')\n",
      "<ipython-input-245-b0ddea72e3bb>:5: DeprecationWarning: find_elements_by_* commands are deprecated. Please use find_elements() instead\n",
      "  review_summary_tags=driver.find_elements_by_xpath('//p[@class=\"_2-N8zT\"]')\n",
      "<ipython-input-245-b0ddea72e3bb>:6: DeprecationWarning: find_elements_by_* commands are deprecated. Please use find_elements() instead\n",
      "  full_summary_tags=driver.find_elements_by_xpath('//div[@class=\"t-ZTKy\"]')\n"
     ]
    }
   ],
   "source": [
    "page7=driver.find_element_by_link_text(\"7\")\n",
    "page7.click()\n",
    "#Extracting tags from page 7\n",
    "rating_tags=driver.find_elements_by_xpath('//div[@class=\"_3LWZlK _1BLPMq\"]')\n",
    "review_summary_tags=driver.find_elements_by_xpath('//p[@class=\"_2-N8zT\"]')\n",
    "full_summary_tags=driver.find_elements_by_xpath('//div[@class=\"t-ZTKy\"]')\n",
    "\n",
    "#Fetching data into list\n",
    "for i in rating_tags:\n",
    "    rating.append(i.text)\n",
    "for j in review_summary_tags:\n",
    "    review.append(j.text)\n",
    "for k in full_summary_tags:\n",
    "    full_summary.append(k.text)"
   ]
  },
  {
   "cell_type": "code",
   "execution_count": 247,
   "metadata": {
    "collapsed": true
   },
   "outputs": [
    {
     "name": "stderr",
     "output_type": "stream",
     "text": [
      "<ipython-input-247-b0bee3ae9a74>:1: DeprecationWarning: find_element_by_* commands are deprecated. Please use find_element() instead\n",
      "  page8=driver.find_element_by_link_text(\"8\")\n",
      "<ipython-input-247-b0bee3ae9a74>:4: DeprecationWarning: find_elements_by_* commands are deprecated. Please use find_elements() instead\n",
      "  rating_tags=driver.find_elements_by_xpath('//div[@class=\"_3LWZlK _1BLPMq\"]')\n",
      "<ipython-input-247-b0bee3ae9a74>:5: DeprecationWarning: find_elements_by_* commands are deprecated. Please use find_elements() instead\n",
      "  review_summary_tags=driver.find_elements_by_xpath('//p[@class=\"_2-N8zT\"]')\n",
      "<ipython-input-247-b0bee3ae9a74>:6: DeprecationWarning: find_elements_by_* commands are deprecated. Please use find_elements() instead\n",
      "  full_summary_tags=driver.find_elements_by_xpath('//div[@class=\"t-ZTKy\"]')\n"
     ]
    }
   ],
   "source": [
    "page8=driver.find_element_by_link_text(\"8\")\n",
    "page8.click()\n",
    "#Extracting tags from page 8\n",
    "rating_tags=driver.find_elements_by_xpath('//div[@class=\"_3LWZlK _1BLPMq\"]')\n",
    "review_summary_tags=driver.find_elements_by_xpath('//p[@class=\"_2-N8zT\"]')\n",
    "full_summary_tags=driver.find_elements_by_xpath('//div[@class=\"t-ZTKy\"]')\n",
    "\n",
    "#Fetching data into list\n",
    "for i in rating_tags:\n",
    "    rating.append(i.text)\n",
    "for j in review_summary_tags:\n",
    "    review.append(j.text)\n",
    "for k in full_summary_tags:\n",
    "    full_summary.append(k.text)"
   ]
  },
  {
   "cell_type": "code",
   "execution_count": 248,
   "metadata": {
    "collapsed": true
   },
   "outputs": [
    {
     "name": "stderr",
     "output_type": "stream",
     "text": [
      "<ipython-input-248-b2d8deed0979>:1: DeprecationWarning: find_element_by_* commands are deprecated. Please use find_element() instead\n",
      "  page9=driver.find_element_by_link_text(\"9\")\n",
      "<ipython-input-248-b2d8deed0979>:4: DeprecationWarning: find_elements_by_* commands are deprecated. Please use find_elements() instead\n",
      "  rating_tags=driver.find_elements_by_xpath('//div[@class=\"_3LWZlK _1BLPMq\"]')\n",
      "<ipython-input-248-b2d8deed0979>:5: DeprecationWarning: find_elements_by_* commands are deprecated. Please use find_elements() instead\n",
      "  review_summary_tags=driver.find_elements_by_xpath('//p[@class=\"_2-N8zT\"]')\n",
      "<ipython-input-248-b2d8deed0979>:6: DeprecationWarning: find_elements_by_* commands are deprecated. Please use find_elements() instead\n",
      "  full_summary_tags=driver.find_elements_by_xpath('//div[@class=\"t-ZTKy\"]')\n"
     ]
    }
   ],
   "source": [
    "page9=driver.find_element_by_link_text(\"9\")\n",
    "page9.click()\n",
    "#Extracting tags from page 9\n",
    "rating_tags=driver.find_elements_by_xpath('//div[@class=\"_3LWZlK _1BLPMq\"]')\n",
    "review_summary_tags=driver.find_elements_by_xpath('//p[@class=\"_2-N8zT\"]')\n",
    "full_summary_tags=driver.find_elements_by_xpath('//div[@class=\"t-ZTKy\"]')\n",
    "\n",
    "#Fetching data into list\n",
    "for i in rating_tags:\n",
    "    rating.append(i.text)\n",
    "for j in review_summary_tags:\n",
    "    review.append(j.text)\n",
    "for k in full_summary_tags:\n",
    "    full_summary.append(k.text)\n",
    "\n"
   ]
  },
  {
   "cell_type": "code",
   "execution_count": 251,
   "metadata": {},
   "outputs": [
    {
     "data": {
      "text/plain": [
       "115"
      ]
     },
     "execution_count": 251,
     "metadata": {},
     "output_type": "execute_result"
    }
   ],
   "source": [
    "len(rating)"
   ]
  },
  {
   "cell_type": "code",
   "execution_count": 250,
   "metadata": {},
   "outputs": [
    {
     "data": {
      "text/plain": [
       "118"
      ]
     },
     "execution_count": 250,
     "metadata": {},
     "output_type": "execute_result"
    }
   ],
   "source": [
    "len(review)"
   ]
  },
  {
   "cell_type": "code",
   "execution_count": 249,
   "metadata": {},
   "outputs": [
    {
     "data": {
      "text/plain": [
       "102"
      ]
     },
     "execution_count": 249,
     "metadata": {},
     "output_type": "execute_result"
    }
   ],
   "source": [
    "len(full_summary)"
   ]
  },
  {
   "cell_type": "code",
   "execution_count": null,
   "metadata": {},
   "outputs": [],
   "source": []
  },
  {
   "cell_type": "code",
   "execution_count": 252,
   "metadata": {},
   "outputs": [],
   "source": [
    "iphone11_review_summary=pd.DataFrame({\"Ratings\":rating[0:100],\"Review\":review[0:100],\"Full Summary\":full_summary[0:100]})"
   ]
  },
  {
   "cell_type": "code",
   "execution_count": 253,
   "metadata": {},
   "outputs": [
    {
     "data": {
      "text/html": [
       "<div>\n",
       "<style scoped>\n",
       "    .dataframe tbody tr th:only-of-type {\n",
       "        vertical-align: middle;\n",
       "    }\n",
       "\n",
       "    .dataframe tbody tr th {\n",
       "        vertical-align: top;\n",
       "    }\n",
       "\n",
       "    .dataframe thead th {\n",
       "        text-align: right;\n",
       "    }\n",
       "</style>\n",
       "<table border=\"1\" class=\"dataframe\">\n",
       "  <thead>\n",
       "    <tr style=\"text-align: right;\">\n",
       "      <th></th>\n",
       "      <th>Ratings</th>\n",
       "      <th>Review</th>\n",
       "      <th>Full Summary</th>\n",
       "    </tr>\n",
       "  </thead>\n",
       "  <tbody>\n",
       "    <tr>\n",
       "      <th>0</th>\n",
       "      <td>5</td>\n",
       "      <td>Brilliant</td>\n",
       "      <td>The Best Phone for the Money\\n\\nThe iPhone 11 ...</td>\n",
       "    </tr>\n",
       "    <tr>\n",
       "      <th>1</th>\n",
       "      <td>5</td>\n",
       "      <td>Simply awesome</td>\n",
       "      <td>Really satisfied with the Product I received.....</td>\n",
       "    </tr>\n",
       "    <tr>\n",
       "      <th>2</th>\n",
       "      <td>5</td>\n",
       "      <td>Best in the market!</td>\n",
       "      <td>Great iPhone very snappy experience as apple k...</td>\n",
       "    </tr>\n",
       "    <tr>\n",
       "      <th>3</th>\n",
       "      <td>5</td>\n",
       "      <td>Perfect product!</td>\n",
       "      <td>Amazing phone with great cameras and better ba...</td>\n",
       "    </tr>\n",
       "    <tr>\n",
       "      <th>4</th>\n",
       "      <td>5</td>\n",
       "      <td>Worth every penny</td>\n",
       "      <td>Previously I was using one plus 3t it was a gr...</td>\n",
       "    </tr>\n",
       "    <tr>\n",
       "      <th>...</th>\n",
       "      <td>...</td>\n",
       "      <td>...</td>\n",
       "      <td>...</td>\n",
       "    </tr>\n",
       "    <tr>\n",
       "      <th>95</th>\n",
       "      <td>5</td>\n",
       "      <td>Best in the market!</td>\n",
       "      <td>I dreamt about this day from a long time.... G...</td>\n",
       "    </tr>\n",
       "    <tr>\n",
       "      <th>96</th>\n",
       "      <td>5</td>\n",
       "      <td>Brilliant</td>\n",
       "      <td>I'm Really happy with the product\\nDelivery wa...</td>\n",
       "    </tr>\n",
       "    <tr>\n",
       "      <th>97</th>\n",
       "      <td>4</td>\n",
       "      <td>Terrific purchase</td>\n",
       "      <td>Great iphone.\\nI am writing this review after ...</td>\n",
       "    </tr>\n",
       "    <tr>\n",
       "      <th>98</th>\n",
       "      <td>5</td>\n",
       "      <td>Good quality product</td>\n",
       "      <td>Phone is awesome no doubt. But Camera &amp; Displa...</td>\n",
       "    </tr>\n",
       "    <tr>\n",
       "      <th>99</th>\n",
       "      <td>5</td>\n",
       "      <td>Best in the market!</td>\n",
       "      <td>Did an upgrade from 6s plus to iphone 11.\\nAo ...</td>\n",
       "    </tr>\n",
       "  </tbody>\n",
       "</table>\n",
       "<p>100 rows × 3 columns</p>\n",
       "</div>"
      ],
      "text/plain": [
       "   Ratings                Review  \\\n",
       "0        5             Brilliant   \n",
       "1        5        Simply awesome   \n",
       "2        5   Best in the market!   \n",
       "3        5      Perfect product!   \n",
       "4        5     Worth every penny   \n",
       "..     ...                   ...   \n",
       "95       5   Best in the market!   \n",
       "96       5             Brilliant   \n",
       "97       4     Terrific purchase   \n",
       "98       5  Good quality product   \n",
       "99       5   Best in the market!   \n",
       "\n",
       "                                         Full Summary  \n",
       "0   The Best Phone for the Money\\n\\nThe iPhone 11 ...  \n",
       "1   Really satisfied with the Product I received.....  \n",
       "2   Great iPhone very snappy experience as apple k...  \n",
       "3   Amazing phone with great cameras and better ba...  \n",
       "4   Previously I was using one plus 3t it was a gr...  \n",
       "..                                                ...  \n",
       "95  I dreamt about this day from a long time.... G...  \n",
       "96  I'm Really happy with the product\\nDelivery wa...  \n",
       "97  Great iphone.\\nI am writing this review after ...  \n",
       "98  Phone is awesome no doubt. But Camera & Displa...  \n",
       "99  Did an upgrade from 6s plus to iphone 11.\\nAo ...  \n",
       "\n",
       "[100 rows x 3 columns]"
      ]
     },
     "execution_count": 253,
     "metadata": {},
     "output_type": "execute_result"
    }
   ],
   "source": [
    "iphone11_review_summary"
   ]
  },
  {
   "cell_type": "markdown",
   "metadata": {},
   "source": [
    "## Q6: Scrape data for first 100 sneakers you find when you visit flipkart.com and search for “sneakers” in the \n",
    "## search field."
   ]
  },
  {
   "cell_type": "markdown",
   "metadata": {},
   "source": [
    " \n",
    "You have to scrape 4 attributes of each sneaker: \n",
    "1. Brand \n",
    "2. Product Description \n",
    "3. Price \n",
    "As shown in the below image, you have to scrape the tick marked attributes."
   ]
  },
  {
   "cell_type": "code",
   "execution_count": 276,
   "metadata": {},
   "outputs": [
    {
     "name": "stderr",
     "output_type": "stream",
     "text": [
      "<ipython-input-276-ed88ec0431b0>:2: DeprecationWarning: executable_path has been deprecated, please pass in a Service object\n",
      "  driver=webdriver.Chrome(r'C:/Users/quccs/Downloads/chromedriver_win32/chromedriver.exe')\n",
      "<ipython-input-276-ed88ec0431b0>:5: DeprecationWarning: find_element_by_* commands are deprecated. Please use find_element() instead\n",
      "  search_item = driver.find_element_by_xpath('//input[@placeholder=\"Search for products, brands and more\"]')\n"
     ]
    }
   ],
   "source": [
    "# Lets connect to the webdriver\n",
    "driver=webdriver.Chrome(r'C:/Users/quccs/Downloads/chromedriver_win32/chromedriver.exe')\n",
    "driver.get('https://www.flipkart.com/')\n",
    "# Searching for iphone\n",
    "search_item = driver.find_element_by_xpath('//input[@placeholder=\"Search for products, brands and more\"]')\n",
    "search_item.send_keys('sneakers')"
   ]
  },
  {
   "cell_type": "code",
   "execution_count": 277,
   "metadata": {
    "scrolled": true
   },
   "outputs": [
    {
     "name": "stderr",
     "output_type": "stream",
     "text": [
      "<ipython-input-277-69f214e522e2>:1: DeprecationWarning: find_element_by_* commands are deprecated. Please use find_element() instead\n",
      "  search_btn1=driver.find_element_by_xpath('//button[@class=\"L0Z3Pu\"]')\n"
     ]
    }
   ],
   "source": [
    "search_btn1=driver.find_element_by_xpath('//button[@class=\"L0Z3Pu\"]')\n",
    "search_btn1.click()"
   ]
  },
  {
   "cell_type": "code",
   "execution_count": 278,
   "metadata": {},
   "outputs": [],
   "source": [
    "# Creating dummy list\n",
    "\n",
    "brand=[]\n",
    "desc=[]\n",
    "price=[]"
   ]
  },
  {
   "cell_type": "code",
   "execution_count": 279,
   "metadata": {},
   "outputs": [
    {
     "name": "stderr",
     "output_type": "stream",
     "text": [
      "<ipython-input-279-6192bdaf90ae>:2: DeprecationWarning: find_elements_by_* commands are deprecated. Please use find_elements() instead\n",
      "  brand_tags=driver.find_elements_by_xpath('//div[@class=\"_2WkVRV\"]')\n",
      "<ipython-input-279-6192bdaf90ae>:3: DeprecationWarning: find_elements_by_* commands are deprecated. Please use find_elements() instead\n",
      "  desc_tags=driver.find_elements_by_xpath('//a[@class=\"IRpwTa\"]')\n",
      "<ipython-input-279-6192bdaf90ae>:4: DeprecationWarning: find_elements_by_* commands are deprecated. Please use find_elements() instead\n",
      "  price_tags=driver.find_elements_by_xpath('//div[@class=\"_30jeq3\"]')\n"
     ]
    }
   ],
   "source": [
    "#Extracting tags from page 1\n",
    "brand_tags=driver.find_elements_by_xpath('//div[@class=\"_2WkVRV\"]')\n",
    "desc_tags=driver.find_elements_by_xpath('//a[@class=\"IRpwTa\"]')\n",
    "price_tags=driver.find_elements_by_xpath('//div[@class=\"_30jeq3\"]')\n",
    "\n",
    "#Fetching data into list\n",
    "for i in brand_tags:\n",
    "    brand.append(i.text)\n",
    "for j in desc_tags:\n",
    "    desc.append(j.text)\n",
    "for k in price_tags:\n",
    "    price.append(k.text)"
   ]
  },
  {
   "cell_type": "code",
   "execution_count": 280,
   "metadata": {},
   "outputs": [
    {
     "name": "stderr",
     "output_type": "stream",
     "text": [
      "<ipython-input-280-16851250a1e3>:1: DeprecationWarning: find_element_by_* commands are deprecated. Please use find_element() instead\n",
      "  page2=driver.find_element_by_link_text(\"2\")\n"
     ]
    }
   ],
   "source": [
    "page2=driver.find_element_by_link_text(\"2\")\n",
    "page2.click()"
   ]
  },
  {
   "cell_type": "code",
   "execution_count": 281,
   "metadata": {
    "scrolled": true
   },
   "outputs": [
    {
     "name": "stderr",
     "output_type": "stream",
     "text": [
      "<ipython-input-281-074d78bd1e12>:2: DeprecationWarning: find_elements_by_* commands are deprecated. Please use find_elements() instead\n",
      "  brand_tags=driver.find_elements_by_xpath('//div[@class=\"_2WkVRV\"]')\n",
      "<ipython-input-281-074d78bd1e12>:3: DeprecationWarning: find_elements_by_* commands are deprecated. Please use find_elements() instead\n",
      "  desc_tags=driver.find_elements_by_xpath('//a[@class=\"IRpwTa\"]')\n",
      "<ipython-input-281-074d78bd1e12>:4: DeprecationWarning: find_elements_by_* commands are deprecated. Please use find_elements() instead\n",
      "  price_tags=driver.find_elements_by_xpath('//div[@class=\"_30jeq3\"]')\n"
     ]
    }
   ],
   "source": [
    "#Extracting tags from page 2\n",
    "brand_tags=driver.find_elements_by_xpath('//div[@class=\"_2WkVRV\"]')\n",
    "desc_tags=driver.find_elements_by_xpath('//a[@class=\"IRpwTa\"]')\n",
    "price_tags=driver.find_elements_by_xpath('//div[@class=\"_30jeq3\"]')\n",
    "\n",
    "#Fetching data into list\n",
    "for i in brand_tags:\n",
    "    brand.append(i.text)\n",
    "for j in desc_tags:\n",
    "    desc.append(j.text)\n",
    "for k in price_tags:\n",
    "    price.append(k.text)"
   ]
  },
  {
   "cell_type": "code",
   "execution_count": 282,
   "metadata": {
    "scrolled": true
   },
   "outputs": [
    {
     "name": "stderr",
     "output_type": "stream",
     "text": [
      "<ipython-input-282-3b9c5c32a107>:1: DeprecationWarning: find_element_by_* commands are deprecated. Please use find_element() instead\n",
      "  page3=driver.find_element_by_link_text(\"3\")\n"
     ]
    }
   ],
   "source": [
    "page3=driver.find_element_by_link_text(\"3\")\n",
    "page3.click()\n"
   ]
  },
  {
   "cell_type": "code",
   "execution_count": 283,
   "metadata": {
    "collapsed": true
   },
   "outputs": [
    {
     "name": "stderr",
     "output_type": "stream",
     "text": [
      "<ipython-input-283-249c434aeaf3>:2: DeprecationWarning: find_elements_by_* commands are deprecated. Please use find_elements() instead\n",
      "  brand_tags=driver.find_elements_by_xpath('//div[@class=\"_2WkVRV\"]')\n",
      "<ipython-input-283-249c434aeaf3>:3: DeprecationWarning: find_elements_by_* commands are deprecated. Please use find_elements() instead\n",
      "  desc_tags=driver.find_elements_by_xpath('//a[@class=\"IRpwTa\"]')\n",
      "<ipython-input-283-249c434aeaf3>:4: DeprecationWarning: find_elements_by_* commands are deprecated. Please use find_elements() instead\n",
      "  price_tags=driver.find_elements_by_xpath('//div[@class=\"_30jeq3\"]')\n"
     ]
    }
   ],
   "source": [
    "#Extracting tags from page 3\n",
    "brand_tags=driver.find_elements_by_xpath('//div[@class=\"_2WkVRV\"]')\n",
    "desc_tags=driver.find_elements_by_xpath('//a[@class=\"IRpwTa\"]')\n",
    "price_tags=driver.find_elements_by_xpath('//div[@class=\"_30jeq3\"]')\n",
    "\n",
    "#Fetching data into list\n",
    "for i in brand_tags:\n",
    "    brand.append(i.text)\n",
    "for j in desc_tags:\n",
    "    desc.append(j.text)\n",
    "for k in price_tags:\n",
    "    price.append(k.text)"
   ]
  },
  {
   "cell_type": "code",
   "execution_count": 284,
   "metadata": {
    "collapsed": true
   },
   "outputs": [
    {
     "name": "stderr",
     "output_type": "stream",
     "text": [
      "<ipython-input-284-cba46e85ba4b>:1: DeprecationWarning: find_element_by_* commands are deprecated. Please use find_element() instead\n",
      "  page4=driver.find_element_by_link_text(\"4\")\n"
     ]
    }
   ],
   "source": [
    "page4=driver.find_element_by_link_text(\"4\")\n",
    "page4.click()"
   ]
  },
  {
   "cell_type": "code",
   "execution_count": 285,
   "metadata": {
    "collapsed": true
   },
   "outputs": [
    {
     "name": "stderr",
     "output_type": "stream",
     "text": [
      "<ipython-input-285-dc4ad5be4253>:2: DeprecationWarning: find_elements_by_* commands are deprecated. Please use find_elements() instead\n",
      "  brand_tags=driver.find_elements_by_xpath('//div[@class=\"_2WkVRV\"]')\n",
      "<ipython-input-285-dc4ad5be4253>:3: DeprecationWarning: find_elements_by_* commands are deprecated. Please use find_elements() instead\n",
      "  desc_tags=driver.find_elements_by_xpath('//a[@class=\"IRpwTa\"]')\n",
      "<ipython-input-285-dc4ad5be4253>:4: DeprecationWarning: find_elements_by_* commands are deprecated. Please use find_elements() instead\n",
      "  price_tags=driver.find_elements_by_xpath('//div[@class=\"_30jeq3\"]')\n"
     ]
    }
   ],
   "source": [
    "#Extracting tags from page 4\n",
    "brand_tags=driver.find_elements_by_xpath('//div[@class=\"_2WkVRV\"]')\n",
    "desc_tags=driver.find_elements_by_xpath('//a[@class=\"IRpwTa\"]')\n",
    "price_tags=driver.find_elements_by_xpath('//div[@class=\"_30jeq3\"]')\n",
    "\n",
    "#Fetching data into list\n",
    "for i in brand_tags:\n",
    "    brand.append(i.text)\n",
    "for j in desc_tags:\n",
    "    desc.append(j.text)\n",
    "for k in price_tags:\n",
    "    price.append(k.text)"
   ]
  },
  {
   "cell_type": "code",
   "execution_count": 286,
   "metadata": {},
   "outputs": [
    {
     "name": "stderr",
     "output_type": "stream",
     "text": [
      "<ipython-input-286-fa158709aa86>:1: DeprecationWarning: find_element_by_* commands are deprecated. Please use find_element() instead\n",
      "  page5=driver.find_element_by_link_text(\"5\")\n"
     ]
    }
   ],
   "source": [
    "page5=driver.find_element_by_link_text(\"5\")\n",
    "page5.click()\n"
   ]
  },
  {
   "cell_type": "code",
   "execution_count": 287,
   "metadata": {
    "scrolled": true
   },
   "outputs": [
    {
     "name": "stderr",
     "output_type": "stream",
     "text": [
      "<ipython-input-287-4f2546004409>:2: DeprecationWarning: find_elements_by_* commands are deprecated. Please use find_elements() instead\n",
      "  brand_tags=driver.find_elements_by_xpath('//div[@class=\"_2WkVRV\"]')\n",
      "<ipython-input-287-4f2546004409>:3: DeprecationWarning: find_elements_by_* commands are deprecated. Please use find_elements() instead\n",
      "  desc_tags=driver.find_elements_by_xpath('//a[@class=\"IRpwTa\"]')\n",
      "<ipython-input-287-4f2546004409>:4: DeprecationWarning: find_elements_by_* commands are deprecated. Please use find_elements() instead\n",
      "  price_tags=driver.find_elements_by_xpath('//div[@class=\"_30jeq3\"]')\n"
     ]
    }
   ],
   "source": [
    "#Extracting tags from page 5\n",
    "brand_tags=driver.find_elements_by_xpath('//div[@class=\"_2WkVRV\"]')\n",
    "desc_tags=driver.find_elements_by_xpath('//a[@class=\"IRpwTa\"]')\n",
    "price_tags=driver.find_elements_by_xpath('//div[@class=\"_30jeq3\"]')\n",
    "\n",
    "#Fetching data into list\n",
    "for i in brand_tags:\n",
    "    brand.append(i.text)\n",
    "for j in desc_tags:\n",
    "    desc.append(j.text)\n",
    "for k in price_tags:\n",
    "    price.append(k.text)"
   ]
  },
  {
   "cell_type": "code",
   "execution_count": 288,
   "metadata": {
    "scrolled": false
   },
   "outputs": [
    {
     "name": "stderr",
     "output_type": "stream",
     "text": [
      "<ipython-input-288-e0988ff2d7ed>:1: DeprecationWarning: find_element_by_* commands are deprecated. Please use find_element() instead\n",
      "  page6=driver.find_element_by_link_text(\"6\")\n"
     ]
    }
   ],
   "source": [
    "page6=driver.find_element_by_link_text(\"6\")\n",
    "page6.click()\n"
   ]
  },
  {
   "cell_type": "code",
   "execution_count": 289,
   "metadata": {
    "collapsed": true
   },
   "outputs": [
    {
     "name": "stderr",
     "output_type": "stream",
     "text": [
      "<ipython-input-289-33ded0fa2843>:2: DeprecationWarning: find_elements_by_* commands are deprecated. Please use find_elements() instead\n",
      "  brand_tags=driver.find_elements_by_xpath('//div[@class=\"_2WkVRV\"]')\n",
      "<ipython-input-289-33ded0fa2843>:3: DeprecationWarning: find_elements_by_* commands are deprecated. Please use find_elements() instead\n",
      "  desc_tags=driver.find_elements_by_xpath('//a[@class=\"IRpwTa\"]')\n",
      "<ipython-input-289-33ded0fa2843>:4: DeprecationWarning: find_elements_by_* commands are deprecated. Please use find_elements() instead\n",
      "  price_tags=driver.find_elements_by_xpath('//div[@class=\"_30jeq3\"]')\n"
     ]
    }
   ],
   "source": [
    "#Extracting tags from page 6\n",
    "brand_tags=driver.find_elements_by_xpath('//div[@class=\"_2WkVRV\"]')\n",
    "desc_tags=driver.find_elements_by_xpath('//a[@class=\"IRpwTa\"]')\n",
    "price_tags=driver.find_elements_by_xpath('//div[@class=\"_30jeq3\"]')\n",
    "\n",
    "#Fetching data into list\n",
    "for i in brand_tags:\n",
    "    brand.append(i.text)\n",
    "for j in desc_tags:\n",
    "    desc.append(j.text)\n",
    "for k in price_tags:\n",
    "    price.append(k.text)"
   ]
  },
  {
   "cell_type": "code",
   "execution_count": 292,
   "metadata": {
    "collapsed": true
   },
   "outputs": [
    {
     "name": "stderr",
     "output_type": "stream",
     "text": [
      "<ipython-input-292-749850f30db9>:1: DeprecationWarning: find_element_by_* commands are deprecated. Please use find_element() instead\n",
      "  page7=driver.find_element_by_link_text(\"7\")\n"
     ]
    }
   ],
   "source": [
    "page7=driver.find_element_by_link_text(\"7\")\n",
    "page7.click()\n"
   ]
  },
  {
   "cell_type": "code",
   "execution_count": 293,
   "metadata": {
    "collapsed": true
   },
   "outputs": [
    {
     "name": "stderr",
     "output_type": "stream",
     "text": [
      "<ipython-input-293-d3275e9112d2>:2: DeprecationWarning: find_elements_by_* commands are deprecated. Please use find_elements() instead\n",
      "  brand_tags=driver.find_elements_by_xpath('//div[@class=\"_2WkVRV\"]')\n",
      "<ipython-input-293-d3275e9112d2>:3: DeprecationWarning: find_elements_by_* commands are deprecated. Please use find_elements() instead\n",
      "  desc_tags=driver.find_elements_by_xpath('//a[@class=\"IRpwTa\"]')\n",
      "<ipython-input-293-d3275e9112d2>:4: DeprecationWarning: find_elements_by_* commands are deprecated. Please use find_elements() instead\n",
      "  price_tags=driver.find_elements_by_xpath('//div[@class=\"_30jeq3\"]')\n"
     ]
    }
   ],
   "source": [
    "#Extracting tags from page 7\n",
    "brand_tags=driver.find_elements_by_xpath('//div[@class=\"_2WkVRV\"]')\n",
    "desc_tags=driver.find_elements_by_xpath('//a[@class=\"IRpwTa\"]')\n",
    "price_tags=driver.find_elements_by_xpath('//div[@class=\"_30jeq3\"]')\n",
    "\n",
    "#Fetching data into list\n",
    "for i in brand_tags:\n",
    "    brand.append(i.text)\n",
    "for j in desc_tags:\n",
    "    desc.append(j.text)\n",
    "for k in price_tags:\n",
    "    price.append(k.text)"
   ]
  },
  {
   "cell_type": "code",
   "execution_count": 294,
   "metadata": {},
   "outputs": [
    {
     "name": "stderr",
     "output_type": "stream",
     "text": [
      "<ipython-input-294-f1a4b1ce4a11>:1: DeprecationWarning: find_element_by_* commands are deprecated. Please use find_element() instead\n",
      "  page8=driver.find_element_by_link_text(\"8\")\n"
     ]
    }
   ],
   "source": [
    "page8=driver.find_element_by_link_text(\"8\")\n",
    "page8.click()\n"
   ]
  },
  {
   "cell_type": "code",
   "execution_count": 295,
   "metadata": {
    "collapsed": true
   },
   "outputs": [
    {
     "name": "stderr",
     "output_type": "stream",
     "text": [
      "<ipython-input-295-11bc79fac30d>:2: DeprecationWarning: find_elements_by_* commands are deprecated. Please use find_elements() instead\n",
      "  brand_tags=driver.find_elements_by_xpath('//div[@class=\"_2WkVRV\"]')\n",
      "<ipython-input-295-11bc79fac30d>:3: DeprecationWarning: find_elements_by_* commands are deprecated. Please use find_elements() instead\n",
      "  desc_tags=driver.find_elements_by_xpath('//a[@class=\"IRpwTa\"]')\n",
      "<ipython-input-295-11bc79fac30d>:4: DeprecationWarning: find_elements_by_* commands are deprecated. Please use find_elements() instead\n",
      "  price_tags=driver.find_elements_by_xpath('//div[@class=\"_30jeq3\"]')\n"
     ]
    }
   ],
   "source": [
    "#Extracting tags from page 8\n",
    "brand_tags=driver.find_elements_by_xpath('//div[@class=\"_2WkVRV\"]')\n",
    "desc_tags=driver.find_elements_by_xpath('//a[@class=\"IRpwTa\"]')\n",
    "price_tags=driver.find_elements_by_xpath('//div[@class=\"_30jeq3\"]')\n",
    "\n",
    "#Fetching data into list\n",
    "for i in brand_tags:\n",
    "    brand.append(i.text)\n",
    "for j in desc_tags:\n",
    "    desc.append(j.text)\n",
    "for k in price_tags:\n",
    "    price.append(k.text)"
   ]
  },
  {
   "cell_type": "code",
   "execution_count": 296,
   "metadata": {
    "collapsed": true
   },
   "outputs": [
    {
     "name": "stderr",
     "output_type": "stream",
     "text": [
      "<ipython-input-296-66666cd168ca>:1: DeprecationWarning: find_element_by_* commands are deprecated. Please use find_element() instead\n",
      "  page9=driver.find_element_by_link_text(\"9\")\n"
     ]
    }
   ],
   "source": [
    "page9=driver.find_element_by_link_text(\"9\")\n",
    "page9.click()\n"
   ]
  },
  {
   "cell_type": "code",
   "execution_count": 297,
   "metadata": {
    "collapsed": true
   },
   "outputs": [
    {
     "name": "stderr",
     "output_type": "stream",
     "text": [
      "<ipython-input-297-0ca1b67fa64a>:2: DeprecationWarning: find_elements_by_* commands are deprecated. Please use find_elements() instead\n",
      "  brand_tags=driver.find_elements_by_xpath('//div[@class=\"_2WkVRV\"]')\n",
      "<ipython-input-297-0ca1b67fa64a>:3: DeprecationWarning: find_elements_by_* commands are deprecated. Please use find_elements() instead\n",
      "  desc_tags=driver.find_elements_by_xpath('//a[@class=\"IRpwTa\"]')\n",
      "<ipython-input-297-0ca1b67fa64a>:4: DeprecationWarning: find_elements_by_* commands are deprecated. Please use find_elements() instead\n",
      "  price_tags=driver.find_elements_by_xpath('//div[@class=\"_30jeq3\"]')\n"
     ]
    }
   ],
   "source": [
    "#Extracting tags from page 9\n",
    "brand_tags=driver.find_elements_by_xpath('//div[@class=\"_2WkVRV\"]')\n",
    "desc_tags=driver.find_elements_by_xpath('//a[@class=\"IRpwTa\"]')\n",
    "price_tags=driver.find_elements_by_xpath('//div[@class=\"_30jeq3\"]')\n",
    "\n",
    "#Fetching data into list\n",
    "for i in brand_tags:\n",
    "    brand.append(i.text)\n",
    "for j in desc_tags:\n",
    "    desc.append(j.text)\n",
    "for k in price_tags:\n",
    "    price.append(k.text)"
   ]
  },
  {
   "cell_type": "code",
   "execution_count": 298,
   "metadata": {
    "collapsed": true
   },
   "outputs": [
    {
     "name": "stderr",
     "output_type": "stream",
     "text": [
      "<ipython-input-298-9b4a06368bae>:1: DeprecationWarning: find_element_by_* commands are deprecated. Please use find_element() instead\n",
      "  page10=driver.find_element_by_link_text(\"10\")\n"
     ]
    }
   ],
   "source": [
    "page10=driver.find_element_by_link_text(\"10\")\n",
    "page10.click()\n"
   ]
  },
  {
   "cell_type": "code",
   "execution_count": 299,
   "metadata": {
    "collapsed": true
   },
   "outputs": [
    {
     "name": "stderr",
     "output_type": "stream",
     "text": [
      "<ipython-input-299-bc280ea7a569>:2: DeprecationWarning: find_elements_by_* commands are deprecated. Please use find_elements() instead\n",
      "  brand_tags=driver.find_elements_by_xpath('//div[@class=\"_2WkVRV\"]')\n",
      "<ipython-input-299-bc280ea7a569>:3: DeprecationWarning: find_elements_by_* commands are deprecated. Please use find_elements() instead\n",
      "  desc_tags=driver.find_elements_by_xpath('//a[@class=\"IRpwTa\"]')\n",
      "<ipython-input-299-bc280ea7a569>:4: DeprecationWarning: find_elements_by_* commands are deprecated. Please use find_elements() instead\n",
      "  price_tags=driver.find_elements_by_xpath('//div[@class=\"_30jeq3\"]')\n"
     ]
    }
   ],
   "source": [
    "#Extracting tags from page 10\n",
    "brand_tags=driver.find_elements_by_xpath('//div[@class=\"_2WkVRV\"]')\n",
    "desc_tags=driver.find_elements_by_xpath('//a[@class=\"IRpwTa\"]')\n",
    "price_tags=driver.find_elements_by_xpath('//div[@class=\"_30jeq3\"]')\n",
    "\n",
    "#Fetching data into list\n",
    "for i in brand_tags:\n",
    "    brand.append(i.text)\n",
    "for j in desc_tags:\n",
    "    desc.append(j.text)\n",
    "for k in price_tags:\n",
    "    price.append(k.text)"
   ]
  },
  {
   "cell_type": "code",
   "execution_count": 300,
   "metadata": {},
   "outputs": [
    {
     "data": {
      "text/plain": [
       "437"
      ]
     },
     "execution_count": 300,
     "metadata": {},
     "output_type": "execute_result"
    }
   ],
   "source": [
    "len(brand)"
   ]
  },
  {
   "cell_type": "code",
   "execution_count": 301,
   "metadata": {},
   "outputs": [
    {
     "data": {
      "text/plain": [
       "315"
      ]
     },
     "execution_count": 301,
     "metadata": {},
     "output_type": "execute_result"
    }
   ],
   "source": [
    "len(desc)"
   ]
  },
  {
   "cell_type": "code",
   "execution_count": 302,
   "metadata": {},
   "outputs": [
    {
     "data": {
      "text/plain": [
       "400"
      ]
     },
     "execution_count": 302,
     "metadata": {},
     "output_type": "execute_result"
    }
   ],
   "source": [
    "len(price)"
   ]
  },
  {
   "cell_type": "code",
   "execution_count": 305,
   "metadata": {},
   "outputs": [],
   "source": [
    "Sneakers=pd.DataFrame({'Brand':brand[0:100],'Description':desc[0:100],'Price':price[0:100]})"
   ]
  },
  {
   "cell_type": "code",
   "execution_count": 307,
   "metadata": {},
   "outputs": [
    {
     "data": {
      "text/html": [
       "<div>\n",
       "<style scoped>\n",
       "    .dataframe tbody tr th:only-of-type {\n",
       "        vertical-align: middle;\n",
       "    }\n",
       "\n",
       "    .dataframe tbody tr th {\n",
       "        vertical-align: top;\n",
       "    }\n",
       "\n",
       "    .dataframe thead th {\n",
       "        text-align: right;\n",
       "    }\n",
       "</style>\n",
       "<table border=\"1\" class=\"dataframe\">\n",
       "  <thead>\n",
       "    <tr style=\"text-align: right;\">\n",
       "      <th></th>\n",
       "      <th>Brand</th>\n",
       "      <th>Description</th>\n",
       "      <th>Price</th>\n",
       "    </tr>\n",
       "  </thead>\n",
       "  <tbody>\n",
       "    <tr>\n",
       "      <th>0</th>\n",
       "      <td>Roadster</td>\n",
       "      <td>Men White Solid Sneakers Sneakers For Men</td>\n",
       "      <td>₹1,899</td>\n",
       "    </tr>\n",
       "    <tr>\n",
       "      <th>1</th>\n",
       "      <td>SneakerVilla</td>\n",
       "      <td>Present White Men Casual Sneakers Shoes for Me...</td>\n",
       "      <td>₹499</td>\n",
       "    </tr>\n",
       "    <tr>\n",
       "      <th>2</th>\n",
       "      <td>URBANBOX</td>\n",
       "      <td>Super Stylish &amp; Trendy Combo Pack of 02 Pairs ...</td>\n",
       "      <td>₹220</td>\n",
       "    </tr>\n",
       "    <tr>\n",
       "      <th>3</th>\n",
       "      <td>Chevit</td>\n",
       "      <td>Modern Trendy Sneakers Shoes Sneakers For Men</td>\n",
       "      <td>₹536</td>\n",
       "    </tr>\n",
       "    <tr>\n",
       "      <th>4</th>\n",
       "      <td>BRUTON</td>\n",
       "      <td>Sneakers For Men</td>\n",
       "      <td>₹299</td>\n",
       "    </tr>\n",
       "    <tr>\n",
       "      <th>...</th>\n",
       "      <td>...</td>\n",
       "      <td>...</td>\n",
       "      <td>...</td>\n",
       "    </tr>\n",
       "    <tr>\n",
       "      <th>95</th>\n",
       "      <td>Red Rose</td>\n",
       "      <td>Sneakers For Men</td>\n",
       "      <td>₹499</td>\n",
       "    </tr>\n",
       "    <tr>\n",
       "      <th>96</th>\n",
       "      <td>Robbie jones</td>\n",
       "      <td>Sneakers For Men</td>\n",
       "      <td>₹449</td>\n",
       "    </tr>\n",
       "    <tr>\n",
       "      <th>97</th>\n",
       "      <td>High Steps</td>\n",
       "      <td>Sneakers For Men</td>\n",
       "      <td>₹459</td>\n",
       "    </tr>\n",
       "    <tr>\n",
       "      <th>98</th>\n",
       "      <td>Robbie jones</td>\n",
       "      <td>Sneakers For Men</td>\n",
       "      <td>₹474</td>\n",
       "    </tr>\n",
       "    <tr>\n",
       "      <th>99</th>\n",
       "      <td>believe</td>\n",
       "      <td>casual for men Sneakers For Men</td>\n",
       "      <td>₹424</td>\n",
       "    </tr>\n",
       "  </tbody>\n",
       "</table>\n",
       "<p>100 rows × 3 columns</p>\n",
       "</div>"
      ],
      "text/plain": [
       "           Brand                                        Description   Price\n",
       "0       Roadster          Men White Solid Sneakers Sneakers For Men  ₹1,899\n",
       "1   SneakerVilla  Present White Men Casual Sneakers Shoes for Me...    ₹499\n",
       "2       URBANBOX  Super Stylish & Trendy Combo Pack of 02 Pairs ...    ₹220\n",
       "3         Chevit      Modern Trendy Sneakers Shoes Sneakers For Men    ₹536\n",
       "4         BRUTON                                   Sneakers For Men    ₹299\n",
       "..           ...                                                ...     ...\n",
       "95      Red Rose                                   Sneakers For Men    ₹499\n",
       "96  Robbie jones                                   Sneakers For Men    ₹449\n",
       "97    High Steps                                   Sneakers For Men    ₹459\n",
       "98  Robbie jones                                   Sneakers For Men    ₹474\n",
       "99       believe                    casual for men Sneakers For Men    ₹424\n",
       "\n",
       "[100 rows x 3 columns]"
      ]
     },
     "execution_count": 307,
     "metadata": {},
     "output_type": "execute_result"
    }
   ],
   "source": [
    "Sneakers"
   ]
  },
  {
   "cell_type": "markdown",
   "metadata": {},
   "source": [
    "Q7: Go to the link - https://www.myntra.com/shoes \n",
    "Set Price filter to “Rs. 6649 to Rs. 13099” , Color filter to “Black”, as shown in the below image. \n",
    "And then scrape First 100 shoes data you get. The data should include “Brand” of the shoes , Short Shoe \n",
    "description, price of the shoe as shown in the below image.\n",
    "\n"
   ]
  },
  {
   "cell_type": "code",
   "execution_count": 317,
   "metadata": {},
   "outputs": [
    {
     "name": "stderr",
     "output_type": "stream",
     "text": [
      "<ipython-input-317-7d46e85d050b>:2: DeprecationWarning: executable_path has been deprecated, please pass in a Service object\n",
      "  driver=webdriver.Chrome(r'C:/Users/quccs/Downloads/chromedriver_win32/chromedriver.exe')\n"
     ]
    }
   ],
   "source": [
    "# Lets connect to the webdriver\n",
    "driver=webdriver.Chrome(r'C:/Users/quccs/Downloads/chromedriver_win32/chromedriver.exe')\n",
    "driver.get('https://www.myntra.com/shoes?f=Color%3ABlack_36454f&rf=Price%3A6137.0_12025.0_6137.0%20TO%2012025.0')\n"
   ]
  },
  {
   "cell_type": "code",
   "execution_count": 329,
   "metadata": {},
   "outputs": [],
   "source": [
    "#creating empty lists\n",
    "brand=[]\n",
    "s_desc=[]\n",
    "short_desc=[]\n",
    "price=[]\n"
   ]
  },
  {
   "cell_type": "code",
   "execution_count": 330,
   "metadata": {
    "collapsed": true
   },
   "outputs": [
    {
     "name": "stderr",
     "output_type": "stream",
     "text": [
      "<ipython-input-330-a37d97f9c336>:2: DeprecationWarning: find_elements_by_* commands are deprecated. Please use find_elements() instead\n",
      "  brand_tags=driver.find_elements_by_xpath(\"//div[@class='product-productMetaInfo']/h3\")\n"
     ]
    }
   ],
   "source": [
    "#for scrapping shoe brand names\n",
    "brand_tags=driver.find_elements_by_xpath(\"//div[@class='product-productMetaInfo']/h3\")\n",
    "for i in Names:\n",
    "    brand.append(i.text)"
   ]
  },
  {
   "cell_type": "code",
   "execution_count": 332,
   "metadata": {
    "collapsed": true
   },
   "outputs": [
    {
     "name": "stderr",
     "output_type": "stream",
     "text": [
      "<ipython-input-332-f5594c14e826>:2: DeprecationWarning: find_elements_by_* commands are deprecated. Please use find_elements() instead\n",
      "  desc_tags=driver.find_elements_by_xpath(\"//div[@class='product-productMetaInfo']/h4\")\n"
     ]
    }
   ],
   "source": [
    "#for scrapping shoe short-description\n",
    "desc_tags=driver.find_elements_by_xpath(\"//div[@class='product-productMetaInfo']/h4\")\n",
    "for i in desc_tags:\n",
    "    s_desc.append(i.text)"
   ]
  },
  {
   "cell_type": "code",
   "execution_count": 335,
   "metadata": {
    "collapsed": true
   },
   "outputs": [
    {
     "data": {
      "text/plain": [
       "['Men GEL-KAYANO 27 Shoes',\n",
       " '',\n",
       " 'Men Deviate Nitro Running Shoe',\n",
       " '',\n",
       " 'Men Running Shoes',\n",
       " '',\n",
       " 'Men Waffle One SE Sneakers',\n",
       " '',\n",
       " 'Men Magnify Nitro Running',\n",
       " '',\n",
       " 'Men Leather Slip-On Sneakers',\n",
       " '',\n",
       " 'Men Solid Leather Formal Slip-Ons',\n",
       " '',\n",
       " 'Women Running Shoes',\n",
       " '',\n",
       " 'Women BILLION SUBTLE Sneakers',\n",
       " '',\n",
       " 'Men Formal Derbys',\n",
       " '',\n",
       " 'Leather Boots with Buckles',\n",
       " '',\n",
       " 'Men Black Running Sports Shoes',\n",
       " '',\n",
       " 'TREKKING 100 Boots',\n",
       " '',\n",
       " 'Women Eternity NITRO Shoes',\n",
       " '',\n",
       " 'Men Running Shoes',\n",
       " '',\n",
       " 'Men TR Ultra Sneakers',\n",
       " '',\n",
       " 'Men Running Shoes',\n",
       " '',\n",
       " 'Men GT-800 Running Shoes',\n",
       " '',\n",
       " 'Men Leather Loafers',\n",
       " '',\n",
       " 'Women Magnify Nitro Shoes',\n",
       " '',\n",
       " 'Men Textured Leather High-Top Flat Boots',\n",
       " '',\n",
       " 'Men Mid-Top Chelsea Boots',\n",
       " '',\n",
       " 'Men Solid Leather Formal Derbys',\n",
       " '',\n",
       " 'Men Leather Slip-On Sneakers',\n",
       " '',\n",
       " 'Men Solid Formal Slip-Ons',\n",
       " '',\n",
       " 'Men Solid Leather Formal Slip-Ons',\n",
       " '',\n",
       " 'Men Leather Flat Boots',\n",
       " '',\n",
       " 'Men Leather Slip-On Shoes',\n",
       " '',\n",
       " 'Men Solid Sneakers',\n",
       " '',\n",
       " 'Men Wingtip Oxford Sneakers',\n",
       " '',\n",
       " 'Men Solid Leather Formal Debys',\n",
       " '',\n",
       " 'Ustraa black',\n",
       " '',\n",
       " 'Men Textured Leather Formal Oxfords',\n",
       " '',\n",
       " 'Women Leather Heeled Boots',\n",
       " '',\n",
       " 'Men Colourblocked PU Sneakers',\n",
       " '',\n",
       " 'Suede Block Heeled Boots',\n",
       " '',\n",
       " 'Men Textured Leather Loafers',\n",
       " '',\n",
       " 'Skycourt Sneakers',\n",
       " '',\n",
       " 'Leather Block Heeled Boots',\n",
       " '',\n",
       " 'Women High-Top Heeled Boots',\n",
       " '',\n",
       " 'Men Leather Formal Derbys',\n",
       " '',\n",
       " 'Men Leather Formal Slip-Ons',\n",
       " '',\n",
       " 'Women Leather Heeled Boots',\n",
       " '',\n",
       " 'Leather Chelsea Boots',\n",
       " '',\n",
       " 'Men Leather Formal Derbys',\n",
       " '',\n",
       " 'Men Solid Formal Leather Derbys',\n",
       " '',\n",
       " 'Men Solid Leather Formal Loafers',\n",
       " '',\n",
       " 'Men Solid Leather Formal Derbys',\n",
       " '',\n",
       " 'Women Mid Top Chunky Flat Boot',\n",
       " '',\n",
       " 'Men Leather Slip-On Shoes',\n",
       " '']"
      ]
     },
     "execution_count": 335,
     "metadata": {},
     "output_type": "execute_result"
    }
   ],
   "source": [
    "s_desc"
   ]
  },
  {
   "cell_type": "code",
   "execution_count": 336,
   "metadata": {},
   "outputs": [],
   "source": [
    "#removing the blank description in alternative row\n",
    "for j in range(0,len(s_desc),2):\n",
    "        short_desc.append(s_desc[j])\n",
    "    "
   ]
  },
  {
   "cell_type": "code",
   "execution_count": 337,
   "metadata": {
    "collapsed": true
   },
   "outputs": [
    {
     "data": {
      "text/plain": [
       "['Men GEL-KAYANO 27 Shoes',\n",
       " 'Men Deviate Nitro Running Shoe',\n",
       " 'Men Running Shoes',\n",
       " 'Men Waffle One SE Sneakers',\n",
       " 'Men Magnify Nitro Running',\n",
       " 'Men Leather Slip-On Sneakers',\n",
       " 'Men Solid Leather Formal Slip-Ons',\n",
       " 'Women Running Shoes',\n",
       " 'Women BILLION SUBTLE Sneakers',\n",
       " 'Men Formal Derbys',\n",
       " 'Leather Boots with Buckles',\n",
       " 'Men Black Running Sports Shoes',\n",
       " 'TREKKING 100 Boots',\n",
       " 'Women Eternity NITRO Shoes',\n",
       " 'Men Running Shoes',\n",
       " 'Men TR Ultra Sneakers',\n",
       " 'Men Running Shoes',\n",
       " 'Men GT-800 Running Shoes',\n",
       " 'Men Leather Loafers',\n",
       " 'Women Magnify Nitro Shoes',\n",
       " 'Men Textured Leather High-Top Flat Boots',\n",
       " 'Men Mid-Top Chelsea Boots',\n",
       " 'Men Solid Leather Formal Derbys',\n",
       " 'Men Leather Slip-On Sneakers',\n",
       " 'Men Solid Formal Slip-Ons',\n",
       " 'Men Solid Leather Formal Slip-Ons',\n",
       " 'Men Leather Flat Boots',\n",
       " 'Men Leather Slip-On Shoes',\n",
       " 'Men Solid Sneakers',\n",
       " 'Men Wingtip Oxford Sneakers',\n",
       " 'Men Solid Leather Formal Debys',\n",
       " 'Ustraa black',\n",
       " 'Men Textured Leather Formal Oxfords',\n",
       " 'Women Leather Heeled Boots',\n",
       " 'Men Colourblocked PU Sneakers',\n",
       " 'Suede Block Heeled Boots',\n",
       " 'Men Textured Leather Loafers',\n",
       " 'Skycourt Sneakers',\n",
       " 'Leather Block Heeled Boots',\n",
       " 'Women High-Top Heeled Boots',\n",
       " 'Men Leather Formal Derbys',\n",
       " 'Men Leather Formal Slip-Ons',\n",
       " 'Women Leather Heeled Boots',\n",
       " 'Leather Chelsea Boots',\n",
       " 'Men Leather Formal Derbys',\n",
       " 'Men Solid Formal Leather Derbys',\n",
       " 'Men Solid Leather Formal Loafers',\n",
       " 'Men Solid Leather Formal Derbys',\n",
       " 'Women Mid Top Chunky Flat Boot',\n",
       " 'Men Leather Slip-On Shoes']"
      ]
     },
     "execution_count": 337,
     "metadata": {},
     "output_type": "execute_result"
    }
   ],
   "source": [
    "short_desc"
   ]
  },
  {
   "cell_type": "code",
   "execution_count": 338,
   "metadata": {},
   "outputs": [
    {
     "data": {
      "text/plain": [
       "50"
      ]
     },
     "execution_count": 338,
     "metadata": {},
     "output_type": "execute_result"
    }
   ],
   "source": [
    "len(short_desc)"
   ]
  },
  {
   "cell_type": "code",
   "execution_count": 339,
   "metadata": {},
   "outputs": [
    {
     "name": "stderr",
     "output_type": "stream",
     "text": [
      "<ipython-input-339-b6ffeba8b1d5>:2: DeprecationWarning: find_elements_by_* commands are deprecated. Please use find_elements() instead\n",
      "  price_tags=driver.find_elements_by_xpath(\"//div[@class='product-price']\")\n"
     ]
    }
   ],
   "source": [
    "#for scrapping shoe prices\n",
    "price_tags=driver.find_elements_by_xpath(\"//div[@class='product-price']\")\n",
    "for i in price_tags:\n",
    "    price.append(i.text)"
   ]
  },
  {
   "cell_type": "code",
   "execution_count": 340,
   "metadata": {},
   "outputs": [
    {
     "data": {
      "text/plain": [
       "50"
      ]
     },
     "execution_count": 340,
     "metadata": {},
     "output_type": "execute_result"
    }
   ],
   "source": [
    "len(price)"
   ]
  },
  {
   "cell_type": "code",
   "execution_count": 341,
   "metadata": {
    "collapsed": true
   },
   "outputs": [
    {
     "data": {
      "text/plain": [
       "['Rs. 10499Rs. 14999(30% OFF)',\n",
       " 'Rs. 8249Rs. 14999(45% OFF)',\n",
       " 'Rs. 6499Rs. 12999(50% OFF)',\n",
       " 'Rs. 8295',\n",
       " 'Rs. 7799Rs. 12999(40% OFF)',\n",
       " 'Rs. 6299Rs. 6999(10% OFF)',\n",
       " 'Rs. 8099Rs. 8999(10% OFF)',\n",
       " 'Rs. 7599',\n",
       " 'Rs. 6499',\n",
       " 'Rs. 8999Rs. 9999(10% OFF)',\n",
       " 'Rs. 8500Rs. 10500(Rs. 2000 OFF)',\n",
       " 'Rs. 7999',\n",
       " 'Rs. 6999',\n",
       " 'Rs. 6499Rs. 12999(50% OFF)',\n",
       " 'Rs. 6999',\n",
       " 'Rs. 6499',\n",
       " 'Rs. 7999',\n",
       " 'Rs. 6999',\n",
       " 'Rs. 6293Rs. 8990(30% OFF)',\n",
       " 'Rs. 6499Rs. 12999(50% OFF)',\n",
       " 'Rs. 11999',\n",
       " 'Rs. 9810Rs. 10900(Rs. 1090 OFF)',\n",
       " 'Rs. 8999Rs. 9999(10% OFF)',\n",
       " 'Rs. 7999Rs. 9999(20% OFF)',\n",
       " 'Rs. 8999Rs. 9999(10% OFF)',\n",
       " 'Rs. 8999Rs. 9999(10% OFF)',\n",
       " 'Rs. 11999',\n",
       " 'Rs. 6990',\n",
       " 'Rs. 11899Rs. 16999(30% OFF)',\n",
       " 'Rs. 10399Rs. 12999(20% OFF)',\n",
       " 'Rs. 8999',\n",
       " 'Rs. 8990',\n",
       " 'Rs. 8990',\n",
       " 'Rs. 11900Rs. 13900(Rs. 2000 OFF)',\n",
       " 'Rs. 8999Rs. 9999(10% OFF)',\n",
       " 'Rs. 10350Rs. 11500(Rs. 1150 OFF)',\n",
       " 'Rs. 7990',\n",
       " 'Rs. 7999',\n",
       " 'Rs. 9999',\n",
       " 'Rs. 9800Rs. 13900(Rs. 4100 OFF)',\n",
       " 'Rs. 6299Rs. 6999(10% OFF)',\n",
       " 'Rs. 6499Rs. 9999(35% OFF)',\n",
       " 'Rs. 6900Rs. 8900(Rs. 2000 OFF)',\n",
       " 'Rs. 6999',\n",
       " 'Rs. 9999',\n",
       " 'Rs. 9999',\n",
       " 'Rs. 7999',\n",
       " 'Rs. 7990',\n",
       " 'Rs. 6791Rs. 7990(15% OFF)',\n",
       " 'Rs. 6990']"
      ]
     },
     "execution_count": 341,
     "metadata": {},
     "output_type": "execute_result"
    }
   ],
   "source": [
    "price"
   ]
  },
  {
   "cell_type": "code",
   "execution_count": 342,
   "metadata": {},
   "outputs": [],
   "source": [
    "# Fetching data from the next page"
   ]
  },
  {
   "cell_type": "code",
   "execution_count": 343,
   "metadata": {},
   "outputs": [
    {
     "name": "stderr",
     "output_type": "stream",
     "text": [
      "<ipython-input-343-a2f35a18aa04>:1: DeprecationWarning: find_element_by_* commands are deprecated. Please use find_element() instead\n",
      "  next_page=driver.find_element_by_xpath(\"//li[@class='pagination-next']\")\n"
     ]
    }
   ],
   "source": [
    "next_page=driver.find_element_by_xpath(\"//li[@class='pagination-next']\")\n",
    "next_page.click()"
   ]
  },
  {
   "cell_type": "code",
   "execution_count": 348,
   "metadata": {},
   "outputs": [
    {
     "name": "stderr",
     "output_type": "stream",
     "text": [
      "<ipython-input-348-f46002ad2839>:2: DeprecationWarning: find_elements_by_* commands are deprecated. Please use find_elements() instead\n",
      "  brand_tags=driver.find_elements_by_xpath(\"//div[@class='product-productMetaInfo']/h3\")\n"
     ]
    }
   ],
   "source": [
    "#for scrapping shoe brand names from page 2\n",
    "brand_tags=driver.find_elements_by_xpath(\"//div[@class='product-productMetaInfo']/h3\")\n",
    "for i in brand_tags:\n",
    "    brand.append(i.text)"
   ]
  },
  {
   "cell_type": "code",
   "execution_count": 349,
   "metadata": {},
   "outputs": [
    {
     "data": {
      "text/plain": [
       "100"
      ]
     },
     "execution_count": 349,
     "metadata": {},
     "output_type": "execute_result"
    }
   ],
   "source": [
    "len(brand)"
   ]
  },
  {
   "cell_type": "code",
   "execution_count": 350,
   "metadata": {},
   "outputs": [
    {
     "name": "stderr",
     "output_type": "stream",
     "text": [
      "<ipython-input-350-a8f7aebe3004>:2: DeprecationWarning: find_elements_by_* commands are deprecated. Please use find_elements() instead\n",
      "  desc_tags=driver.find_elements_by_xpath(\"//div[@class='product-productMetaInfo']/h4\")\n"
     ]
    }
   ],
   "source": [
    "#for scrapping shoe short-description from page 2\n",
    "desc_tags=driver.find_elements_by_xpath(\"//div[@class='product-productMetaInfo']/h4\")\n",
    "for i in desc_tags:\n",
    "    s_desc.append(i.text)"
   ]
  },
  {
   "cell_type": "code",
   "execution_count": 352,
   "metadata": {},
   "outputs": [
    {
     "data": {
      "text/plain": [
       "200"
      ]
     },
     "execution_count": 352,
     "metadata": {},
     "output_type": "execute_result"
    }
   ],
   "source": [
    "len(s_desc)"
   ]
  },
  {
   "cell_type": "code",
   "execution_count": 353,
   "metadata": {},
   "outputs": [],
   "source": [
    "#removing the blank description in alternative row\n",
    "for j in range(0,len(s_desc),2):\n",
    "        short_desc.append(s_desc[j])"
   ]
  },
  {
   "cell_type": "code",
   "execution_count": 354,
   "metadata": {},
   "outputs": [
    {
     "data": {
      "text/plain": [
       "150"
      ]
     },
     "execution_count": 354,
     "metadata": {},
     "output_type": "execute_result"
    }
   ],
   "source": [
    "len(short_desc)"
   ]
  },
  {
   "cell_type": "code",
   "execution_count": 355,
   "metadata": {},
   "outputs": [
    {
     "name": "stderr",
     "output_type": "stream",
     "text": [
      "<ipython-input-355-b6ffeba8b1d5>:2: DeprecationWarning: find_elements_by_* commands are deprecated. Please use find_elements() instead\n",
      "  price_tags=driver.find_elements_by_xpath(\"//div[@class='product-price']\")\n"
     ]
    }
   ],
   "source": [
    "#for scrapping shoe prices\n",
    "price_tags=driver.find_elements_by_xpath(\"//div[@class='product-price']\")\n",
    "for i in price_tags:\n",
    "    price.append(i.text)"
   ]
  },
  {
   "cell_type": "code",
   "execution_count": 356,
   "metadata": {},
   "outputs": [
    {
     "data": {
      "text/plain": [
       "100"
      ]
     },
     "execution_count": 356,
     "metadata": {},
     "output_type": "execute_result"
    }
   ],
   "source": [
    "len(price)"
   ]
  },
  {
   "cell_type": "code",
   "execution_count": 358,
   "metadata": {},
   "outputs": [
    {
     "name": "stdout",
     "output_type": "stream",
     "text": [
      "           Brand                 Short-description  \\\n",
      "0          ASICS           Men GEL-KAYANO 27 Shoes   \n",
      "1           Puma    Men Deviate Nitro Running Shoe   \n",
      "2           Puma                 Men Running Shoes   \n",
      "3           Nike        Men Waffle One SE Sneakers   \n",
      "4           Puma         Men Magnify Nitro Running   \n",
      "..           ...                               ...   \n",
      "95     J.FONTINI   Men Solid Formal Leather Derbys   \n",
      "96      DAVINCHI  Men Solid Leather Formal Loafers   \n",
      "97  Hush Puppies   Men Solid Leather Formal Derbys   \n",
      "98      DAVINCHI    Women Mid Top Chunky Flat Boot   \n",
      "99      DAVINCHI         Men Leather Slip-On Shoes   \n",
      "\n",
      "                          Price  \n",
      "0   Rs. 10499Rs. 14999(30% OFF)  \n",
      "1    Rs. 8249Rs. 14999(45% OFF)  \n",
      "2    Rs. 6499Rs. 12999(50% OFF)  \n",
      "3                      Rs. 8295  \n",
      "4    Rs. 7799Rs. 12999(40% OFF)  \n",
      "..                          ...  \n",
      "95                     Rs. 8990  \n",
      "96                     Rs. 8990  \n",
      "97    Rs. 8999Rs. 9999(10% OFF)  \n",
      "98                     Rs. 7990  \n",
      "99                     Rs. 8990  \n",
      "\n",
      "[100 rows x 3 columns]\n"
     ]
    }
   ],
   "source": [
    "#creating a dataframe\n",
    "df=pd.DataFrame({'Brand': brand[:100],\n",
    "                    'Short-description': short_desc[:100],\n",
    "                    'Price': price[:100]})\n",
    "print(df)"
   ]
  },
  {
   "cell_type": "markdown",
   "metadata": {},
   "source": [
    "Q8: Go to webpage https://www.amazon.in/ \n",
    "Enter “Laptop” in the search field and then click the search icon. \n",
    "Then set CPU Type filter to “Intel Core i7” and “Intel Core i9” as shown in the below image: \n",
    "After setting the filters scrape first 10 laptops data. You have to scrape 3 attributes for each laptop: \n",
    "1. Title \n",
    "2. Ratings \n",
    "3. Price \n",
    "As shown in the below image as the tick marked attributes."
   ]
  },
  {
   "cell_type": "code",
   "execution_count": 361,
   "metadata": {},
   "outputs": [
    {
     "name": "stderr",
     "output_type": "stream",
     "text": [
      "<ipython-input-361-f2ebe869c5b9>:1: DeprecationWarning: executable_path has been deprecated, please pass in a Service object\n",
      "  driver=webdriver.Chrome(r'C:/Users/quccs/Downloads/chromedriver_win32/chromedriver.exe')\n"
     ]
    }
   ],
   "source": [
    "driver=webdriver.Chrome(r'C:/Users/quccs/Downloads/chromedriver_win32/chromedriver.exe')"
   ]
  },
  {
   "cell_type": "code",
   "execution_count": 362,
   "metadata": {},
   "outputs": [],
   "source": [
    "driver.get(' https://www.amazon.in')"
   ]
  },
  {
   "cell_type": "code",
   "execution_count": 363,
   "metadata": {},
   "outputs": [],
   "source": [
    "# Creating empty list\n",
    "\n",
    "Title=[]\n",
    "Ratings=[]\n",
    "price=[]"
   ]
  },
  {
   "cell_type": "code",
   "execution_count": 364,
   "metadata": {},
   "outputs": [
    {
     "name": "stderr",
     "output_type": "stream",
     "text": [
      "<ipython-input-364-fd0ce45f83db>:2: DeprecationWarning: find_element_by_* commands are deprecated. Please use find_element() instead\n",
      "  search_field =driver.find_element_by_id(\"twotabsearchtextbox\")\n"
     ]
    }
   ],
   "source": [
    "# locating the search field\n",
    "search_field =driver.find_element_by_id(\"twotabsearchtextbox\")\n"
   ]
  },
  {
   "cell_type": "code",
   "execution_count": 365,
   "metadata": {},
   "outputs": [],
   "source": [
    "search_field.send_keys(\"laptops\")"
   ]
  },
  {
   "cell_type": "code",
   "execution_count": 366,
   "metadata": {},
   "outputs": [
    {
     "name": "stderr",
     "output_type": "stream",
     "text": [
      "<ipython-input-366-af90cf179277>:1: DeprecationWarning: find_element_by_* commands are deprecated. Please use find_element() instead\n",
      "  search_button = driver.find_element_by_xpath('//span[@id=\"nav-search-submit-text\"]')\n"
     ]
    }
   ],
   "source": [
    "search_button = driver.find_element_by_xpath('//span[@id=\"nav-search-submit-text\"]')\n",
    "search_button.click()"
   ]
  },
  {
   "cell_type": "code",
   "execution_count": 367,
   "metadata": {},
   "outputs": [
    {
     "name": "stderr",
     "output_type": "stream",
     "text": [
      "<ipython-input-367-dad208d13025>:2: DeprecationWarning: find_elements_by_* commands are deprecated. Please use find_elements() instead\n",
      "  filter_button=driver.find_elements_by_xpath(\"//a[@class='a-link-normal s-navigation-item']/span\")\n"
     ]
    }
   ],
   "source": [
    "#filtering laptops for i7\n",
    "filter_button=driver.find_elements_by_xpath(\"//a[@class='a-link-normal s-navigation-item']/span\")\n",
    "for i in filter_button:\n",
    "    if i.text=='Intel Core i7':\n",
    "        i.click()\n",
    "        break"
   ]
  },
  {
   "cell_type": "code",
   "execution_count": 368,
   "metadata": {},
   "outputs": [
    {
     "name": "stderr",
     "output_type": "stream",
     "text": [
      "<ipython-input-368-66b655007bf4>:2: DeprecationWarning: find_elements_by_* commands are deprecated. Please use find_elements() instead\n",
      "  filter_button=driver.find_elements_by_xpath(\"//a[@class='a-link-normal s-navigation-item']/span\")\n"
     ]
    }
   ],
   "source": [
    "#filtering laptops for i9\n",
    "filter_button=driver.find_elements_by_xpath(\"//a[@class='a-link-normal s-navigation-item']/span\")\n",
    "for i in filter_button:\n",
    "    if i.text=='Intel Core i9':\n",
    "        i.click()\n",
    "        break"
   ]
  },
  {
   "cell_type": "code",
   "execution_count": 369,
   "metadata": {},
   "outputs": [
    {
     "name": "stderr",
     "output_type": "stream",
     "text": [
      "<ipython-input-369-e7ce86608810>:2: DeprecationWarning: find_elements_by_* commands are deprecated. Please use find_elements() instead\n",
      "  titles_tags=driver.find_elements_by_xpath(\"//span[@class='a-size-medium a-color-base a-text-normal']\")\n"
     ]
    }
   ],
   "source": [
    "#extracting the title tags and fetching the list\n",
    "titles_tags=driver.find_elements_by_xpath(\"//span[@class='a-size-medium a-color-base a-text-normal']\")\n",
    "for i in titles_tags[:10]:\n",
    "    Title.append(i.text)"
   ]
  },
  {
   "cell_type": "code",
   "execution_count": 370,
   "metadata": {},
   "outputs": [
    {
     "name": "stderr",
     "output_type": "stream",
     "text": [
      "<ipython-input-370-f4dc98163b68>:1: DeprecationWarning: find_elements_by_* commands are deprecated. Please use find_elements() instead\n",
      "  prices_tags=driver.find_elements_by_xpath(\"//span[@class='a-price-whole']\")\n"
     ]
    }
   ],
   "source": [
    "prices_tags=driver.find_elements_by_xpath(\"//span[@class='a-price-whole']\")\n",
    "for i in prices_tags[:10]:\n",
    "    price.append(i.text)"
   ]
  },
  {
   "cell_type": "code",
   "execution_count": null,
   "metadata": {},
   "outputs": [],
   "source": [
    "# Couldnt scrap for the ratings"
   ]
  },
  {
   "cell_type": "code",
   "execution_count": 376,
   "metadata": {},
   "outputs": [],
   "source": [
    "laptops=pd.DataFrame({'Title':Title[:10],\n",
    "                'Price':price[:10]})"
   ]
  },
  {
   "cell_type": "code",
   "execution_count": 377,
   "metadata": {},
   "outputs": [
    {
     "data": {
      "text/html": [
       "<div>\n",
       "<style scoped>\n",
       "    .dataframe tbody tr th:only-of-type {\n",
       "        vertical-align: middle;\n",
       "    }\n",
       "\n",
       "    .dataframe tbody tr th {\n",
       "        vertical-align: top;\n",
       "    }\n",
       "\n",
       "    .dataframe thead th {\n",
       "        text-align: right;\n",
       "    }\n",
       "</style>\n",
       "<table border=\"1\" class=\"dataframe\">\n",
       "  <thead>\n",
       "    <tr style=\"text-align: right;\">\n",
       "      <th></th>\n",
       "      <th>Title</th>\n",
       "      <th>Price</th>\n",
       "    </tr>\n",
       "  </thead>\n",
       "  <tbody>\n",
       "    <tr>\n",
       "      <th>0</th>\n",
       "      <td>LG Gram 16 Ultra-Light Intel Evo 11th Gen Core...</td>\n",
       "      <td>94,499</td>\n",
       "    </tr>\n",
       "    <tr>\n",
       "      <th>1</th>\n",
       "      <td>HP Pavilion (2021) Intel 11th Gen Core i7 14 i...</td>\n",
       "      <td>84,990</td>\n",
       "    </tr>\n",
       "    <tr>\n",
       "      <th>2</th>\n",
       "      <td>HP Pavilion (2021) Intel 11th Gen Core i7 14 i...</td>\n",
       "      <td>84,990</td>\n",
       "    </tr>\n",
       "    <tr>\n",
       "      <th>3</th>\n",
       "      <td>Mi Notebook Horizon Edition 14 Intel Core i7-1...</td>\n",
       "      <td>52,999</td>\n",
       "    </tr>\n",
       "    <tr>\n",
       "      <th>4</th>\n",
       "      <td>Lenovo IdeaPad Gaming 3 11th Gen Intel Core i7...</td>\n",
       "      <td>82,990</td>\n",
       "    </tr>\n",
       "    <tr>\n",
       "      <th>5</th>\n",
       "      <td>LG Gram 17-inches Ultra-Light Intel Evo 11th G...</td>\n",
       "      <td>98,999</td>\n",
       "    </tr>\n",
       "    <tr>\n",
       "      <th>6</th>\n",
       "      <td>ASUS ZenBook 14 (2020) Intel Core i7-1165G7 11...</td>\n",
       "      <td>89,990</td>\n",
       "    </tr>\n",
       "    <tr>\n",
       "      <th>7</th>\n",
       "      <td>Lenovo Yoga 7 11th Gen Intel Core i7 14\" Full ...</td>\n",
       "      <td>97,490</td>\n",
       "    </tr>\n",
       "    <tr>\n",
       "      <th>8</th>\n",
       "      <td>ASUS TUF Dash F15 (2021) 15.6-inch (39.62 cms)...</td>\n",
       "      <td>1,09,990</td>\n",
       "    </tr>\n",
       "    <tr>\n",
       "      <th>9</th>\n",
       "      <td>Mi Notebook Ultra 3.2K resolution display Inte...</td>\n",
       "      <td>77,999</td>\n",
       "    </tr>\n",
       "  </tbody>\n",
       "</table>\n",
       "</div>"
      ],
      "text/plain": [
       "                                               Title     Price\n",
       "0  LG Gram 16 Ultra-Light Intel Evo 11th Gen Core...    94,499\n",
       "1  HP Pavilion (2021) Intel 11th Gen Core i7 14 i...    84,990\n",
       "2  HP Pavilion (2021) Intel 11th Gen Core i7 14 i...    84,990\n",
       "3  Mi Notebook Horizon Edition 14 Intel Core i7-1...    52,999\n",
       "4  Lenovo IdeaPad Gaming 3 11th Gen Intel Core i7...    82,990\n",
       "5  LG Gram 17-inches Ultra-Light Intel Evo 11th G...    98,999\n",
       "6  ASUS ZenBook 14 (2020) Intel Core i7-1165G7 11...    89,990\n",
       "7  Lenovo Yoga 7 11th Gen Intel Core i7 14\" Full ...    97,490\n",
       "8  ASUS TUF Dash F15 (2021) 15.6-inch (39.62 cms)...  1,09,990\n",
       "9  Mi Notebook Ultra 3.2K resolution display Inte...    77,999"
      ]
     },
     "execution_count": 377,
     "metadata": {},
     "output_type": "execute_result"
    }
   ],
   "source": [
    "laptops"
   ]
  },
  {
   "cell_type": "markdown",
   "metadata": {},
   "source": [
    "Q9: Write a python program to scrape data for first 10 job results for Data Scientist Designation in Noida \n",
    "location. You have to scrape company name, No. of days ago when job was posted, Rating of the company. \n",
    "This task will be done in following steps: \n",
    "1. First get the webpage https://www.ambitionbox.com/\n",
    "2. Click on the Job option as shown in the image \n",
    "3. After reaching to the next webpage, In place of “Search by Designations, Companies, Skills” enter \n",
    "“Data Scientist” and click on search button. \n",
    "ASSIGNMENT 2\n",
    "4. You will reach to the following web page click on location and in place of “Search location” enter \n",
    "“Noida” and select location “Noida”. \n",
    " 5. Then scrape the data for the first 10 jobs results you get on the above shown page. \n",
    "6. Finally create a dataframe of the scraped data. \n",
    "Note: All the steps required during scraping should be done through code only and not manually."
   ]
  },
  {
   "cell_type": "code",
   "execution_count": 382,
   "metadata": {},
   "outputs": [
    {
     "name": "stderr",
     "output_type": "stream",
     "text": [
      "<ipython-input-382-102ba1256f29>:2: DeprecationWarning: executable_path has been deprecated, please pass in a Service object\n",
      "  driver=webdriver.Chrome(r'C:/Users/quccs/Downloads/chromedriver_win32/chromedriver.exe')\n"
     ]
    }
   ],
   "source": [
    "# Getting the webage\n",
    "driver=webdriver.Chrome(r'C:/Users/quccs/Downloads/chromedriver_win32/chromedriver.exe')\n",
    "url=r'https://www.ambitionbox.com/'\n",
    "driver.get(url)"
   ]
  },
  {
   "cell_type": "code",
   "execution_count": 394,
   "metadata": {
    "collapsed": true
   },
   "outputs": [
    {
     "name": "stderr",
     "output_type": "stream",
     "text": [
      "<ipython-input-394-e9f836c4921f>:2: DeprecationWarning: find_element_by_* commands are deprecated. Please use find_element() instead\n",
      "  job_search=driver.find_element_by_xpath(\"//div[@class='sliding-sticky-menu ']/nav/nav/a[6]\")\n"
     ]
    }
   ],
   "source": [
    "# Clicking on the job option\n",
    "job_search=driver.find_element_by_xpath(\"//div[@class='sliding-sticky-menu ']/nav/nav/a[6]\")"
   ]
  },
  {
   "cell_type": "code",
   "execution_count": 397,
   "metadata": {
    "collapsed": true
   },
   "outputs": [
    {
     "name": "stderr",
     "output_type": "stream",
     "text": [
      "<ipython-input-397-11e9be001bb0>:2: DeprecationWarning: find_element_by_* commands are deprecated. Please use find_element() instead\n",
      "  search_bar=driver.find_element_by_xpath(\"//input[@class='search_company_input js-menu-search tt-input']\")\n"
     ]
    }
   ],
   "source": [
    "# locating the search field\n",
    "search_bar=driver.find_element_by_xpath(\"//input[@class='search_company_input js-menu-search tt-input']\")\n"
   ]
  },
  {
   "cell_type": "code",
   "execution_count": 398,
   "metadata": {
    "collapsed": true
   },
   "outputs": [
    {
     "ename": "ElementNotInteractableException",
     "evalue": "Message: element not interactable\n  (Session info: chrome=96.0.4664.110)\nStacktrace:\nBacktrace:\n\tOrdinal0 [0x01226903+2517251]\n\tOrdinal0 [0x011BF8E1+2095329]\n\tOrdinal0 [0x010C2710+1058576]\n\tOrdinal0 [0x010E8993+1214867]\n\tOrdinal0 [0x010E80DF+1212639]\n\tOrdinal0 [0x011064D3+1336531]\n\tOrdinal0 [0x010E3A36+1194550]\n\tOrdinal0 [0x011065BA+1336762]\n\tOrdinal0 [0x01115BBF+1399743]\n\tOrdinal0 [0x0110639B+1336219]\n\tOrdinal0 [0x010E27A7+1189799]\n\tOrdinal0 [0x010E3609+1193481]\n\tGetHandleVerifier [0x013B5904+1577972]\n\tGetHandleVerifier [0x01460B97+2279047]\n\tGetHandleVerifier [0x012B6D09+534521]\n\tGetHandleVerifier [0x012B5DB9+530601]\n\tOrdinal0 [0x011C4FF9+2117625]\n\tOrdinal0 [0x011C98A8+2136232]\n\tOrdinal0 [0x011C99E2+2136546]\n\tOrdinal0 [0x011D3541+2176321]\n\tBaseThreadInitThunk [0x7763FA29+25]\n\tRtlGetAppContainerNamedObjectPath [0x77B57A9E+286]\n\tRtlGetAppContainerNamedObjectPath [0x77B57A6E+238]\n",
     "output_type": "error",
     "traceback": [
      "\u001b[1;31m---------------------------------------------------------------------------\u001b[0m",
      "\u001b[1;31mElementNotInteractableException\u001b[0m           Traceback (most recent call last)",
      "\u001b[1;32m<ipython-input-398-36f73b0229b4>\u001b[0m in \u001b[0;36m<module>\u001b[1;34m\u001b[0m\n\u001b[1;32m----> 1\u001b[1;33m \u001b[0msearch_bar\u001b[0m\u001b[1;33m.\u001b[0m\u001b[0msend_keys\u001b[0m\u001b[1;33m(\u001b[0m\u001b[1;34m'Data Scientist'\u001b[0m\u001b[1;33m)\u001b[0m\u001b[1;33m\u001b[0m\u001b[1;33m\u001b[0m\u001b[0m\n\u001b[0m",
      "\u001b[1;32m~\\anaconda3\\lib\\site-packages\\selenium\\webdriver\\remote\\webelement.py\u001b[0m in \u001b[0;36msend_keys\u001b[1;34m(self, *value)\u001b[0m\n\u001b[0;32m    538\u001b[0m                 \u001b[0mvalue\u001b[0m \u001b[1;33m=\u001b[0m \u001b[1;34m'\\n'\u001b[0m\u001b[1;33m.\u001b[0m\u001b[0mjoin\u001b[0m\u001b[1;33m(\u001b[0m\u001b[0mremote_files\u001b[0m\u001b[1;33m)\u001b[0m\u001b[1;33m\u001b[0m\u001b[1;33m\u001b[0m\u001b[0m\n\u001b[0;32m    539\u001b[0m \u001b[1;33m\u001b[0m\u001b[0m\n\u001b[1;32m--> 540\u001b[1;33m         self._execute(Command.SEND_KEYS_TO_ELEMENT,\n\u001b[0m\u001b[0;32m    541\u001b[0m                       {'text': \"\".join(keys_to_typing(value)),\n\u001b[0;32m    542\u001b[0m                        'value': keys_to_typing(value)})\n",
      "\u001b[1;32m~\\anaconda3\\lib\\site-packages\\selenium\\webdriver\\remote\\webelement.py\u001b[0m in \u001b[0;36m_execute\u001b[1;34m(self, command, params)\u001b[0m\n\u001b[0;32m    708\u001b[0m             \u001b[0mparams\u001b[0m \u001b[1;33m=\u001b[0m \u001b[1;33m{\u001b[0m\u001b[1;33m}\u001b[0m\u001b[1;33m\u001b[0m\u001b[1;33m\u001b[0m\u001b[0m\n\u001b[0;32m    709\u001b[0m         \u001b[0mparams\u001b[0m\u001b[1;33m[\u001b[0m\u001b[1;34m'id'\u001b[0m\u001b[1;33m]\u001b[0m \u001b[1;33m=\u001b[0m \u001b[0mself\u001b[0m\u001b[1;33m.\u001b[0m\u001b[0m_id\u001b[0m\u001b[1;33m\u001b[0m\u001b[1;33m\u001b[0m\u001b[0m\n\u001b[1;32m--> 710\u001b[1;33m         \u001b[1;32mreturn\u001b[0m \u001b[0mself\u001b[0m\u001b[1;33m.\u001b[0m\u001b[0m_parent\u001b[0m\u001b[1;33m.\u001b[0m\u001b[0mexecute\u001b[0m\u001b[1;33m(\u001b[0m\u001b[0mcommand\u001b[0m\u001b[1;33m,\u001b[0m \u001b[0mparams\u001b[0m\u001b[1;33m)\u001b[0m\u001b[1;33m\u001b[0m\u001b[1;33m\u001b[0m\u001b[0m\n\u001b[0m\u001b[0;32m    711\u001b[0m \u001b[1;33m\u001b[0m\u001b[0m\n\u001b[0;32m    712\u001b[0m     \u001b[1;32mdef\u001b[0m \u001b[0mfind_element\u001b[0m\u001b[1;33m(\u001b[0m\u001b[0mself\u001b[0m\u001b[1;33m,\u001b[0m \u001b[0mby\u001b[0m\u001b[1;33m=\u001b[0m\u001b[0mBy\u001b[0m\u001b[1;33m.\u001b[0m\u001b[0mID\u001b[0m\u001b[1;33m,\u001b[0m \u001b[0mvalue\u001b[0m\u001b[1;33m=\u001b[0m\u001b[1;32mNone\u001b[0m\u001b[1;33m)\u001b[0m\u001b[1;33m:\u001b[0m\u001b[1;33m\u001b[0m\u001b[1;33m\u001b[0m\u001b[0m\n",
      "\u001b[1;32m~\\anaconda3\\lib\\site-packages\\selenium\\webdriver\\remote\\webdriver.py\u001b[0m in \u001b[0;36mexecute\u001b[1;34m(self, driver_command, params)\u001b[0m\n\u001b[0;32m    422\u001b[0m         \u001b[0mresponse\u001b[0m \u001b[1;33m=\u001b[0m \u001b[0mself\u001b[0m\u001b[1;33m.\u001b[0m\u001b[0mcommand_executor\u001b[0m\u001b[1;33m.\u001b[0m\u001b[0mexecute\u001b[0m\u001b[1;33m(\u001b[0m\u001b[0mdriver_command\u001b[0m\u001b[1;33m,\u001b[0m \u001b[0mparams\u001b[0m\u001b[1;33m)\u001b[0m\u001b[1;33m\u001b[0m\u001b[1;33m\u001b[0m\u001b[0m\n\u001b[0;32m    423\u001b[0m         \u001b[1;32mif\u001b[0m \u001b[0mresponse\u001b[0m\u001b[1;33m:\u001b[0m\u001b[1;33m\u001b[0m\u001b[1;33m\u001b[0m\u001b[0m\n\u001b[1;32m--> 424\u001b[1;33m             \u001b[0mself\u001b[0m\u001b[1;33m.\u001b[0m\u001b[0merror_handler\u001b[0m\u001b[1;33m.\u001b[0m\u001b[0mcheck_response\u001b[0m\u001b[1;33m(\u001b[0m\u001b[0mresponse\u001b[0m\u001b[1;33m)\u001b[0m\u001b[1;33m\u001b[0m\u001b[1;33m\u001b[0m\u001b[0m\n\u001b[0m\u001b[0;32m    425\u001b[0m             response['value'] = self._unwrap_value(\n\u001b[0;32m    426\u001b[0m                 response.get('value', None))\n",
      "\u001b[1;32m~\\anaconda3\\lib\\site-packages\\selenium\\webdriver\\remote\\errorhandler.py\u001b[0m in \u001b[0;36mcheck_response\u001b[1;34m(self, response)\u001b[0m\n\u001b[0;32m    245\u001b[0m                 \u001b[0malert_text\u001b[0m \u001b[1;33m=\u001b[0m \u001b[0mvalue\u001b[0m\u001b[1;33m[\u001b[0m\u001b[1;34m'alert'\u001b[0m\u001b[1;33m]\u001b[0m\u001b[1;33m.\u001b[0m\u001b[0mget\u001b[0m\u001b[1;33m(\u001b[0m\u001b[1;34m'text'\u001b[0m\u001b[1;33m)\u001b[0m\u001b[1;33m\u001b[0m\u001b[1;33m\u001b[0m\u001b[0m\n\u001b[0;32m    246\u001b[0m             \u001b[1;32mraise\u001b[0m \u001b[0mexception_class\u001b[0m\u001b[1;33m(\u001b[0m\u001b[0mmessage\u001b[0m\u001b[1;33m,\u001b[0m \u001b[0mscreen\u001b[0m\u001b[1;33m,\u001b[0m \u001b[0mstacktrace\u001b[0m\u001b[1;33m,\u001b[0m \u001b[0malert_text\u001b[0m\u001b[1;33m)\u001b[0m  \u001b[1;31m# type: ignore[call-arg]  # mypy is not smart enough here\u001b[0m\u001b[1;33m\u001b[0m\u001b[1;33m\u001b[0m\u001b[0m\n\u001b[1;32m--> 247\u001b[1;33m         \u001b[1;32mraise\u001b[0m \u001b[0mexception_class\u001b[0m\u001b[1;33m(\u001b[0m\u001b[0mmessage\u001b[0m\u001b[1;33m,\u001b[0m \u001b[0mscreen\u001b[0m\u001b[1;33m,\u001b[0m \u001b[0mstacktrace\u001b[0m\u001b[1;33m)\u001b[0m\u001b[1;33m\u001b[0m\u001b[1;33m\u001b[0m\u001b[0m\n\u001b[0m\u001b[0;32m    248\u001b[0m \u001b[1;33m\u001b[0m\u001b[0m\n\u001b[0;32m    249\u001b[0m     \u001b[1;32mdef\u001b[0m \u001b[0m_value_or_default\u001b[0m\u001b[1;33m(\u001b[0m\u001b[0mself\u001b[0m\u001b[1;33m,\u001b[0m \u001b[0mobj\u001b[0m\u001b[1;33m:\u001b[0m \u001b[0mMapping\u001b[0m\u001b[1;33m[\u001b[0m\u001b[0m_KT\u001b[0m\u001b[1;33m,\u001b[0m \u001b[0m_VT\u001b[0m\u001b[1;33m]\u001b[0m\u001b[1;33m,\u001b[0m \u001b[0mkey\u001b[0m\u001b[1;33m:\u001b[0m \u001b[0m_KT\u001b[0m\u001b[1;33m,\u001b[0m \u001b[0mdefault\u001b[0m\u001b[1;33m:\u001b[0m \u001b[0m_VT\u001b[0m\u001b[1;33m)\u001b[0m \u001b[1;33m->\u001b[0m \u001b[0m_VT\u001b[0m\u001b[1;33m:\u001b[0m\u001b[1;33m\u001b[0m\u001b[1;33m\u001b[0m\u001b[0m\n",
      "\u001b[1;31mElementNotInteractableException\u001b[0m: Message: element not interactable\n  (Session info: chrome=96.0.4664.110)\nStacktrace:\nBacktrace:\n\tOrdinal0 [0x01226903+2517251]\n\tOrdinal0 [0x011BF8E1+2095329]\n\tOrdinal0 [0x010C2710+1058576]\n\tOrdinal0 [0x010E8993+1214867]\n\tOrdinal0 [0x010E80DF+1212639]\n\tOrdinal0 [0x011064D3+1336531]\n\tOrdinal0 [0x010E3A36+1194550]\n\tOrdinal0 [0x011065BA+1336762]\n\tOrdinal0 [0x01115BBF+1399743]\n\tOrdinal0 [0x0110639B+1336219]\n\tOrdinal0 [0x010E27A7+1189799]\n\tOrdinal0 [0x010E3609+1193481]\n\tGetHandleVerifier [0x013B5904+1577972]\n\tGetHandleVerifier [0x01460B97+2279047]\n\tGetHandleVerifier [0x012B6D09+534521]\n\tGetHandleVerifier [0x012B5DB9+530601]\n\tOrdinal0 [0x011C4FF9+2117625]\n\tOrdinal0 [0x011C98A8+2136232]\n\tOrdinal0 [0x011C99E2+2136546]\n\tOrdinal0 [0x011D3541+2176321]\n\tBaseThreadInitThunk [0x7763FA29+25]\n\tRtlGetAppContainerNamedObjectPath [0x77B57A9E+286]\n\tRtlGetAppContainerNamedObjectPath [0x77B57A6E+238]\n"
     ]
    }
   ],
   "source": [
    "search_bar.send_keys('Data Scientist')"
   ]
  },
  {
   "cell_type": "markdown",
   "metadata": {},
   "source": [
    "Q10: Write a python program to scrape the salary data for Data Scientist designation. \n",
    "You have to scrape Company name, Number of salaries, Average salary, Min salary, Max Salary. \n",
    "The above task will be, done as shown in the below steps: \n",
    "1. First get the webpage https://www.ambitionbox.com/\n",
    "2. Click on the salaries option as shown in the image. \n",
    "ASSIGNMENT 2\n",
    "3. After reaching to the following webpage, In place of “Search Job Profile” enters “Data Scientist” and \n",
    "then click on “Data Scientist”. \n",
    "You have to scrape the data ticked in the above image. \n",
    "4. Scrape the data for the first 10 companies. Scrape the company name, total salary record, average \n",
    "salary, minimum salary, maximum salary, experience required. \n",
    "5. Store the data in a dataframe. \n",
    "Note: All the steps required during scraping should be done through code only and not manually."
   ]
  },
  {
   "cell_type": "code",
   "execution_count": 403,
   "metadata": {},
   "outputs": [
    {
     "name": "stderr",
     "output_type": "stream",
     "text": [
      "<ipython-input-403-7b92c09e593f>:2: DeprecationWarning: executable_path has been deprecated, please pass in a Service object\n",
      "  driver=webdriver.Chrome(r'C:/Users/quccs/Downloads/chromedriver_win32/chromedriver.exe')\n"
     ]
    }
   ],
   "source": [
    "# Getting the webage\n",
    "driver=webdriver.Chrome(r'C:/Users/quccs/Downloads/chromedriver_win32/chromedriver.exe')\n",
    "driver.get(\"https://www.ambitionbox.com/\")"
   ]
  },
  {
   "cell_type": "code",
   "execution_count": 405,
   "metadata": {},
   "outputs": [
    {
     "name": "stderr",
     "output_type": "stream",
     "text": [
      "<ipython-input-405-6a5e736aeea9>:2: DeprecationWarning: find_element_by_* commands are deprecated. Please use find_element() instead\n",
      "  salary=driver.find_element_by_xpath(\"//div[@class='sliding-sticky-menu ']/nav/nav/a[4]\")\n"
     ]
    }
   ],
   "source": [
    "#locating the salary button tag\n",
    "salary=driver.find_element_by_xpath(\"//div[@class='sliding-sticky-menu ']/nav/nav/a[4]\")"
   ]
  },
  {
   "cell_type": "code",
   "execution_count": 406,
   "metadata": {
    "collapsed": true
   },
   "outputs": [
    {
     "ename": "ElementNotInteractableException",
     "evalue": "Message: element not interactable\n  (Session info: chrome=96.0.4664.110)\nStacktrace:\nBacktrace:\n\tOrdinal0 [0x01226903+2517251]\n\tOrdinal0 [0x011BF8E1+2095329]\n\tOrdinal0 [0x010C2710+1058576]\n\tOrdinal0 [0x010EE324+1237796]\n\tOrdinal0 [0x010E4037+1196087]\n\tOrdinal0 [0x011064D3+1336531]\n\tOrdinal0 [0x010E3A36+1194550]\n\tOrdinal0 [0x011065BA+1336762]\n\tOrdinal0 [0x01115BBF+1399743]\n\tOrdinal0 [0x0110639B+1336219]\n\tOrdinal0 [0x010E27A7+1189799]\n\tOrdinal0 [0x010E3609+1193481]\n\tGetHandleVerifier [0x013B5904+1577972]\n\tGetHandleVerifier [0x01460B97+2279047]\n\tGetHandleVerifier [0x012B6D09+534521]\n\tGetHandleVerifier [0x012B5DB9+530601]\n\tOrdinal0 [0x011C4FF9+2117625]\n\tOrdinal0 [0x011C98A8+2136232]\n\tOrdinal0 [0x011C99E2+2136546]\n\tOrdinal0 [0x011D3541+2176321]\n\tBaseThreadInitThunk [0x7763FA29+25]\n\tRtlGetAppContainerNamedObjectPath [0x77B57A9E+286]\n\tRtlGetAppContainerNamedObjectPath [0x77B57A6E+238]\n",
     "output_type": "error",
     "traceback": [
      "\u001b[1;31m---------------------------------------------------------------------------\u001b[0m",
      "\u001b[1;31mElementNotInteractableException\u001b[0m           Traceback (most recent call last)",
      "\u001b[1;32m<ipython-input-406-64dc286c9aa5>\u001b[0m in \u001b[0;36m<module>\u001b[1;34m\u001b[0m\n\u001b[1;32m----> 1\u001b[1;33m \u001b[0msalary\u001b[0m\u001b[1;33m.\u001b[0m\u001b[0mclick\u001b[0m\u001b[1;33m(\u001b[0m\u001b[1;33m)\u001b[0m\u001b[1;33m\u001b[0m\u001b[1;33m\u001b[0m\u001b[0m\n\u001b[0m",
      "\u001b[1;32m~\\anaconda3\\lib\\site-packages\\selenium\\webdriver\\remote\\webelement.py\u001b[0m in \u001b[0;36mclick\u001b[1;34m(self)\u001b[0m\n\u001b[0;32m     79\u001b[0m     \u001b[1;32mdef\u001b[0m \u001b[0mclick\u001b[0m\u001b[1;33m(\u001b[0m\u001b[0mself\u001b[0m\u001b[1;33m)\u001b[0m \u001b[1;33m->\u001b[0m \u001b[1;32mNone\u001b[0m\u001b[1;33m:\u001b[0m\u001b[1;33m\u001b[0m\u001b[1;33m\u001b[0m\u001b[0m\n\u001b[0;32m     80\u001b[0m         \u001b[1;34m\"\"\"Clicks the element.\"\"\"\u001b[0m\u001b[1;33m\u001b[0m\u001b[1;33m\u001b[0m\u001b[0m\n\u001b[1;32m---> 81\u001b[1;33m         \u001b[0mself\u001b[0m\u001b[1;33m.\u001b[0m\u001b[0m_execute\u001b[0m\u001b[1;33m(\u001b[0m\u001b[0mCommand\u001b[0m\u001b[1;33m.\u001b[0m\u001b[0mCLICK_ELEMENT\u001b[0m\u001b[1;33m)\u001b[0m\u001b[1;33m\u001b[0m\u001b[1;33m\u001b[0m\u001b[0m\n\u001b[0m\u001b[0;32m     82\u001b[0m \u001b[1;33m\u001b[0m\u001b[0m\n\u001b[0;32m     83\u001b[0m     \u001b[1;32mdef\u001b[0m \u001b[0msubmit\u001b[0m\u001b[1;33m(\u001b[0m\u001b[0mself\u001b[0m\u001b[1;33m)\u001b[0m\u001b[1;33m:\u001b[0m\u001b[1;33m\u001b[0m\u001b[1;33m\u001b[0m\u001b[0m\n",
      "\u001b[1;32m~\\anaconda3\\lib\\site-packages\\selenium\\webdriver\\remote\\webelement.py\u001b[0m in \u001b[0;36m_execute\u001b[1;34m(self, command, params)\u001b[0m\n\u001b[0;32m    708\u001b[0m             \u001b[0mparams\u001b[0m \u001b[1;33m=\u001b[0m \u001b[1;33m{\u001b[0m\u001b[1;33m}\u001b[0m\u001b[1;33m\u001b[0m\u001b[1;33m\u001b[0m\u001b[0m\n\u001b[0;32m    709\u001b[0m         \u001b[0mparams\u001b[0m\u001b[1;33m[\u001b[0m\u001b[1;34m'id'\u001b[0m\u001b[1;33m]\u001b[0m \u001b[1;33m=\u001b[0m \u001b[0mself\u001b[0m\u001b[1;33m.\u001b[0m\u001b[0m_id\u001b[0m\u001b[1;33m\u001b[0m\u001b[1;33m\u001b[0m\u001b[0m\n\u001b[1;32m--> 710\u001b[1;33m         \u001b[1;32mreturn\u001b[0m \u001b[0mself\u001b[0m\u001b[1;33m.\u001b[0m\u001b[0m_parent\u001b[0m\u001b[1;33m.\u001b[0m\u001b[0mexecute\u001b[0m\u001b[1;33m(\u001b[0m\u001b[0mcommand\u001b[0m\u001b[1;33m,\u001b[0m \u001b[0mparams\u001b[0m\u001b[1;33m)\u001b[0m\u001b[1;33m\u001b[0m\u001b[1;33m\u001b[0m\u001b[0m\n\u001b[0m\u001b[0;32m    711\u001b[0m \u001b[1;33m\u001b[0m\u001b[0m\n\u001b[0;32m    712\u001b[0m     \u001b[1;32mdef\u001b[0m \u001b[0mfind_element\u001b[0m\u001b[1;33m(\u001b[0m\u001b[0mself\u001b[0m\u001b[1;33m,\u001b[0m \u001b[0mby\u001b[0m\u001b[1;33m=\u001b[0m\u001b[0mBy\u001b[0m\u001b[1;33m.\u001b[0m\u001b[0mID\u001b[0m\u001b[1;33m,\u001b[0m \u001b[0mvalue\u001b[0m\u001b[1;33m=\u001b[0m\u001b[1;32mNone\u001b[0m\u001b[1;33m)\u001b[0m\u001b[1;33m:\u001b[0m\u001b[1;33m\u001b[0m\u001b[1;33m\u001b[0m\u001b[0m\n",
      "\u001b[1;32m~\\anaconda3\\lib\\site-packages\\selenium\\webdriver\\remote\\webdriver.py\u001b[0m in \u001b[0;36mexecute\u001b[1;34m(self, driver_command, params)\u001b[0m\n\u001b[0;32m    422\u001b[0m         \u001b[0mresponse\u001b[0m \u001b[1;33m=\u001b[0m \u001b[0mself\u001b[0m\u001b[1;33m.\u001b[0m\u001b[0mcommand_executor\u001b[0m\u001b[1;33m.\u001b[0m\u001b[0mexecute\u001b[0m\u001b[1;33m(\u001b[0m\u001b[0mdriver_command\u001b[0m\u001b[1;33m,\u001b[0m \u001b[0mparams\u001b[0m\u001b[1;33m)\u001b[0m\u001b[1;33m\u001b[0m\u001b[1;33m\u001b[0m\u001b[0m\n\u001b[0;32m    423\u001b[0m         \u001b[1;32mif\u001b[0m \u001b[0mresponse\u001b[0m\u001b[1;33m:\u001b[0m\u001b[1;33m\u001b[0m\u001b[1;33m\u001b[0m\u001b[0m\n\u001b[1;32m--> 424\u001b[1;33m             \u001b[0mself\u001b[0m\u001b[1;33m.\u001b[0m\u001b[0merror_handler\u001b[0m\u001b[1;33m.\u001b[0m\u001b[0mcheck_response\u001b[0m\u001b[1;33m(\u001b[0m\u001b[0mresponse\u001b[0m\u001b[1;33m)\u001b[0m\u001b[1;33m\u001b[0m\u001b[1;33m\u001b[0m\u001b[0m\n\u001b[0m\u001b[0;32m    425\u001b[0m             response['value'] = self._unwrap_value(\n\u001b[0;32m    426\u001b[0m                 response.get('value', None))\n",
      "\u001b[1;32m~\\anaconda3\\lib\\site-packages\\selenium\\webdriver\\remote\\errorhandler.py\u001b[0m in \u001b[0;36mcheck_response\u001b[1;34m(self, response)\u001b[0m\n\u001b[0;32m    245\u001b[0m                 \u001b[0malert_text\u001b[0m \u001b[1;33m=\u001b[0m \u001b[0mvalue\u001b[0m\u001b[1;33m[\u001b[0m\u001b[1;34m'alert'\u001b[0m\u001b[1;33m]\u001b[0m\u001b[1;33m.\u001b[0m\u001b[0mget\u001b[0m\u001b[1;33m(\u001b[0m\u001b[1;34m'text'\u001b[0m\u001b[1;33m)\u001b[0m\u001b[1;33m\u001b[0m\u001b[1;33m\u001b[0m\u001b[0m\n\u001b[0;32m    246\u001b[0m             \u001b[1;32mraise\u001b[0m \u001b[0mexception_class\u001b[0m\u001b[1;33m(\u001b[0m\u001b[0mmessage\u001b[0m\u001b[1;33m,\u001b[0m \u001b[0mscreen\u001b[0m\u001b[1;33m,\u001b[0m \u001b[0mstacktrace\u001b[0m\u001b[1;33m,\u001b[0m \u001b[0malert_text\u001b[0m\u001b[1;33m)\u001b[0m  \u001b[1;31m# type: ignore[call-arg]  # mypy is not smart enough here\u001b[0m\u001b[1;33m\u001b[0m\u001b[1;33m\u001b[0m\u001b[0m\n\u001b[1;32m--> 247\u001b[1;33m         \u001b[1;32mraise\u001b[0m \u001b[0mexception_class\u001b[0m\u001b[1;33m(\u001b[0m\u001b[0mmessage\u001b[0m\u001b[1;33m,\u001b[0m \u001b[0mscreen\u001b[0m\u001b[1;33m,\u001b[0m \u001b[0mstacktrace\u001b[0m\u001b[1;33m)\u001b[0m\u001b[1;33m\u001b[0m\u001b[1;33m\u001b[0m\u001b[0m\n\u001b[0m\u001b[0;32m    248\u001b[0m \u001b[1;33m\u001b[0m\u001b[0m\n\u001b[0;32m    249\u001b[0m     \u001b[1;32mdef\u001b[0m \u001b[0m_value_or_default\u001b[0m\u001b[1;33m(\u001b[0m\u001b[0mself\u001b[0m\u001b[1;33m,\u001b[0m \u001b[0mobj\u001b[0m\u001b[1;33m:\u001b[0m \u001b[0mMapping\u001b[0m\u001b[1;33m[\u001b[0m\u001b[0m_KT\u001b[0m\u001b[1;33m,\u001b[0m \u001b[0m_VT\u001b[0m\u001b[1;33m]\u001b[0m\u001b[1;33m,\u001b[0m \u001b[0mkey\u001b[0m\u001b[1;33m:\u001b[0m \u001b[0m_KT\u001b[0m\u001b[1;33m,\u001b[0m \u001b[0mdefault\u001b[0m\u001b[1;33m:\u001b[0m \u001b[0m_VT\u001b[0m\u001b[1;33m)\u001b[0m \u001b[1;33m->\u001b[0m \u001b[0m_VT\u001b[0m\u001b[1;33m:\u001b[0m\u001b[1;33m\u001b[0m\u001b[1;33m\u001b[0m\u001b[0m\n",
      "\u001b[1;31mElementNotInteractableException\u001b[0m: Message: element not interactable\n  (Session info: chrome=96.0.4664.110)\nStacktrace:\nBacktrace:\n\tOrdinal0 [0x01226903+2517251]\n\tOrdinal0 [0x011BF8E1+2095329]\n\tOrdinal0 [0x010C2710+1058576]\n\tOrdinal0 [0x010EE324+1237796]\n\tOrdinal0 [0x010E4037+1196087]\n\tOrdinal0 [0x011064D3+1336531]\n\tOrdinal0 [0x010E3A36+1194550]\n\tOrdinal0 [0x011065BA+1336762]\n\tOrdinal0 [0x01115BBF+1399743]\n\tOrdinal0 [0x0110639B+1336219]\n\tOrdinal0 [0x010E27A7+1189799]\n\tOrdinal0 [0x010E3609+1193481]\n\tGetHandleVerifier [0x013B5904+1577972]\n\tGetHandleVerifier [0x01460B97+2279047]\n\tGetHandleVerifier [0x012B6D09+534521]\n\tGetHandleVerifier [0x012B5DB9+530601]\n\tOrdinal0 [0x011C4FF9+2117625]\n\tOrdinal0 [0x011C98A8+2136232]\n\tOrdinal0 [0x011C99E2+2136546]\n\tOrdinal0 [0x011D3541+2176321]\n\tBaseThreadInitThunk [0x7763FA29+25]\n\tRtlGetAppContainerNamedObjectPath [0x77B57A9E+286]\n\tRtlGetAppContainerNamedObjectPath [0x77B57A6E+238]\n"
     ]
    }
   ],
   "source": [
    "salary.click()"
   ]
  },
  {
   "cell_type": "code",
   "execution_count": null,
   "metadata": {},
   "outputs": [],
   "source": []
  }
 ],
 "metadata": {
  "kernelspec": {
   "display_name": "Python 3",
   "language": "python",
   "name": "python3"
  },
  "language_info": {
   "codemirror_mode": {
    "name": "ipython",
    "version": 3
   },
   "file_extension": ".py",
   "mimetype": "text/x-python",
   "name": "python",
   "nbconvert_exporter": "python",
   "pygments_lexer": "ipython3",
   "version": "3.8.5"
  }
 },
 "nbformat": 4,
 "nbformat_minor": 4
}
