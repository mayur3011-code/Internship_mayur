{
 "cells": [
  {
   "cell_type": "code",
   "execution_count": 25,
   "metadata": {},
   "outputs": [
    {
     "name": "stdout",
     "output_type": "stream",
     "text": [
      "Enter the number : 10\n",
      "the factorial of the number is :  3628800\n"
     ]
    }
   ],
   "source": [
    "#11 Write a python program to find the factorial of a number.\n",
    "\n",
    "num = int(input(\"Enter the number : \"))\n",
    "factorial =1\n",
    "i=1\n",
    "if num<0:\n",
    "    print(\"factorial number doesnt exist for negative values\")\n",
    "    \n",
    "if num==0:\n",
    "    print(\"the factorial number for zero is 1\")\n",
    "    \n",
    "if num>0:\n",
    "    for i in range (i,num+1):\n",
    "        factorial = factorial*i\n",
    "    i+=1\n",
    "print(\"the factorial of the number is : \", factorial)"
   ]
  },
  {
   "cell_type": "code",
   "execution_count": null,
   "metadata": {},
   "outputs": [],
   "source": [
    "#12. Write a python program to find whether a number is prime or composite.\n",
    "\n",
    "num=int(input(\"Please enter the number: \"))\n",
    "if num >1 :\n",
    "    for i in range(2,int(num/2)+1):\n",
    "        if(num%i) ==0:\n",
    "            print (num,\"is a composite number\")\n",
    "            break\n",
    "    else:\n",
    "        print(num,\"is a prime number\")\n",
    "        \n",
    "else:\n",
    "    print(num,\"is a composite number\")\n",
    "        \n",
    "    "
   ]
  },
  {
   "cell_type": "code",
   "execution_count": 32,
   "metadata": {},
   "outputs": [
    {
     "name": "stdout",
     "output_type": "stream",
     "text": [
      "Enter the string to check palindrome :mayur\n",
      "mayur is not a palindrome\n"
     ]
    }
   ],
   "source": [
    "#13. Write a python program to check whether a given string is palindrome or not.\n",
    "\n",
    "s= input(\"Enter the string to check palindrome :\")\n",
    "\n",
    "reverse= s[::-1]\n",
    "\n",
    "if(s==reverse):\n",
    "    print(s,\"is a palindrome\")\n",
    "\n",
    "else:\n",
    "    print(s,\"is not a palindrome\")\n"
   ]
  },
  {
   "cell_type": "code",
   "execution_count": 18,
   "metadata": {},
   "outputs": [
    {
     "name": "stdout",
     "output_type": "stream",
     "text": [
      "Enter the two know values of right angled triangle\n",
      "side1 : 2\n",
      "side2: 3\n",
      "third side of a right angled triangle is :  3.605551275463989\n"
     ]
    }
   ],
   "source": [
    "#14. Write a Python program to get the third side of right-angled triangle from two given sides.\n",
    "from math import sqrt\n",
    "print(\"Enter the two know values of right angled triangle\")\n",
    "\n",
    "a = float(input(\"side1 : \"))\n",
    "b = float(input(\"side2: \"))\n",
    "\n",
    "c=sqrt(a**2 + b**2)\n",
    "\n",
    "print (\"third side of a right angled triangle is : \",c)"
   ]
  },
  {
   "cell_type": "code",
   "execution_count": null,
   "metadata": {},
   "outputs": [],
   "source": []
  },
  {
   "cell_type": "code",
   "execution_count": 29,
   "metadata": {},
   "outputs": [
    {
     "name": "stdout",
     "output_type": "stream",
     "text": [
      "Enter the stringaata\n",
      "{'a': 3, 't': 1}\n"
     ]
    }
   ],
   "source": [
    "#15. Write a python program to print the frequency of each of the characters present in a given string.\n",
    "\n",
    "str1 = input(\"Enter the string\")\n",
    "d1 = dict()\n",
    "for i in str1:\n",
    "    if i in d1:\n",
    "        d1[i]=d1[i]+1\n",
    "    else:\n",
    "        d1[i]=1\n",
    "print(d1)"
   ]
  },
  {
   "cell_type": "code",
   "execution_count": null,
   "metadata": {},
   "outputs": [],
   "source": [
    "\n",
    "        "
   ]
  },
  {
   "cell_type": "code",
   "execution_count": null,
   "metadata": {},
   "outputs": [],
   "source": []
  }
 ],
 "metadata": {
  "kernelspec": {
   "display_name": "Python 3",
   "language": "python",
   "name": "python3"
  },
  "language_info": {
   "codemirror_mode": {
    "name": "ipython",
    "version": 3
   },
   "file_extension": ".py",
   "mimetype": "text/x-python",
   "name": "python",
   "nbconvert_exporter": "python",
   "pygments_lexer": "ipython3",
   "version": "3.8.5"
  }
 },
 "nbformat": 4,
 "nbformat_minor": 4
}
